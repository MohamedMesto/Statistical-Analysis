{
 "cells": [
  {
   "cell_type": "markdown",
   "metadata": {},
   "source": [
    "# **Python für Ingenieure** ??\n",
    "<!-- Lizensiert unter (CC BY 2.0) Gert Herold, 2019 -->\n",
    "# 4. Noch mehr Funktionen \n",
    "\n",
    "## 4.1. *map, lambda, filter*\n",
    "\n",
    "Nehmen wir als Ausgangspunkt eine Liste\n",
    "\n",
    "********************************\n",
    "Let's take a list as a starting point"
   ]
  },
  {
   "cell_type": "code",
   "execution_count": 1,
   "metadata": {},
   "outputs": [
    {
     "data": {
      "text/plain": [
       "map"
      ]
     },
     "execution_count": 1,
     "metadata": {},
     "output_type": "execute_result"
    }
   ],
   "source": [
    "map"
   ]
  },
  {
   "cell_type": "code",
   "execution_count": null,
   "metadata": {},
   "outputs": [],
   "source": []
  },
  {
   "cell_type": "markdown",
   "metadata": {},
   "source": [
    "**Beispiel 1:** Wir wollen alle Elemente dieser Liste quadrieren. Hierfür können wir eine Funktion schreiben und mittels einer Schleife diese auf alle Elemente der Liste anwenden und in einer neuen Liste speichern:\n",
    "\n",
    "**************************************************\n",
    "\n",
    "Example 1: We want to square all elements of this list. For this we can write a function and use a loop to apply it to all elements of the list and save it in a new list:"
   ]
  },
  {
   "cell_type": "code",
   "execution_count": 2,
   "metadata": {},
   "outputs": [
    {
     "data": {
      "text/plain": [
       "[1, 144, 49, 1089, 196, 25, 9, 36]"
      ]
     },
     "execution_count": 2,
     "metadata": {},
     "output_type": "execute_result"
    }
   ],
   "source": [
    "a = [1,12,7,33,14,5,-3,6]\n",
    "def quadriere(x):\n",
    "    return x*x\n",
    "\n",
    "a2 = []\n",
    "for i in a:\n",
    "    a2 += [quadriere(i)]\n",
    "a2"
   ]
  },
  {
   "cell_type": "markdown",
   "metadata": {},
   "source": [
    "###wichtig###    map Function\n",
    "************************\n",
    "Syntaktisch geht das auch etwas kürzer. Mit `map()` lässt sich eine Funktion auf eine Sequenz (z.B. eine Liste) anwenden:\n",
    "*********************************\n",
    "Syntactically, this is also a bit shorter. `Map ()` lets you apply a function to a sequence (for example, a list):\n",
    "*****************\n",
    "من الناحية النحوية ، هذا أيضًا أقصر قليلاً. يتيح لك `` Map () '' تطبيق دالة على تسلسل (على سبيل المثال ، قائمة):"
   ]
  },
  {
   "cell_type": "code",
   "execution_count": 13,
   "metadata": {},
   "outputs": [
    {
     "name": "stdout",
     "output_type": "stream",
     "text": [
      "[1, 144, 49, 1089, 196, 25, 9, 36]\n"
     ]
    }
   ],
   "source": [
    "#print(map(quadriere,a))\n",
    "print(list(map(quadriere,a))) # list() wandelt das Ergebnis in eine Liste um\n",
    "                              # list () converts the result into a list\n",
    "\n",
    "####?"
   ]
  },
  {
   "cell_type": "markdown",
   "metadata": {},
   "source": [
    "###wichtig###    lambda Function\n",
    "************************\n",
    "Mit `lambda` lassen sich \"anonyme\" Funktionen erstellen:\n",
    "******************************************\n",
    "`Lambda` can be used to create\" anonymous \"functions:"
   ]
  },
  {
   "cell_type": "code",
   "execution_count": 14,
   "metadata": {},
   "outputs": [
    {
     "data": {
      "text/plain": [
       "9"
      ]
     },
     "execution_count": 14,
     "metadata": {},
     "output_type": "execute_result"
    }
   ],
   "source": [
    "f = lambda x: x*x\n",
    "f(3)\n",
    "\n",
    "#andere beispiel?? 2 VARs"
   ]
  },
  {
   "cell_type": "markdown",
   "metadata": {},
   "source": [
    "Damit lässt sich  die Aufgabe sogar ohne Funktionsdeklaration lösen:\n",
    "\n",
    "********************************************************\n",
    "Thus, the task can be solved even without a function declaration:\n"
   ]
  },
  {
   "cell_type": "code",
   "execution_count": 15,
   "metadata": {},
   "outputs": [
    {
     "data": {
      "text/plain": [
       "[1, 144, 49, 1089, 196, 25, 9, 36]"
      ]
     },
     "execution_count": 15,
     "metadata": {},
     "output_type": "execute_result"
    }
   ],
   "source": [
    "list(map(lambda x: x*x,a))"
   ]
  },
  {
   "cell_type": "markdown",
   "metadata": {},
   "source": [
    "**Beispiel 2:** Wir wollen aus der Liste alle geraden Zahlen heraussuchen und als Liste speichern.\n",
    "Mit den bislang bekannten Tools geht das z.B. so:\n",
    "*****************************************************\n",
    "** Example 2: ** We want to pick out all even numbers from the list and save them as a list.\n",
    "With the tools known hitherto, e.g. so:"
   ]
  },
  {
   "cell_type": "code",
   "execution_count": 16,
   "metadata": {},
   "outputs": [
    {
     "name": "stdout",
     "output_type": "stream",
     "text": [
      "[12, 14, 6]\n"
     ]
    }
   ],
   "source": [
    "#####999####\n",
    "a2=[]\n",
    "for i in a:\n",
    "    if i%2==0:\n",
    "        a2+=[i]\n",
    "print(a2)"
   ]
  },
  {
   "cell_type": "markdown",
   "metadata": {},
   "source": [
    "###wichtig###        filter   Function\n",
    "************************\n",
    "Mit `filter` lassen sich aus einer Sequenz die Elemente herausfiltern, für die der Rückgabewert einer darauf angewendeten Funktion *True* ist:\n",
    "************************\n",
    "With `filter` you can filter out elements from a sequence for which the return value of a function applied to it is * True *:\n",
    "*************\n",
    "باستخدام \"عامل التصفية\" ، يمكنك تصفية هذه العناصر من تسلسل تكون فيه القيمة المرجعة لدالة مطبقة هي * True *:"
   ]
  },
  {
   "cell_type": "code",
   "execution_count": 17,
   "metadata": {},
   "outputs": [
    {
     "name": "stdout",
     "output_type": "stream",
     "text": [
      "[7, 5, 6]\n",
      "[12, 14, 6]\n"
     ]
    }
   ],
   "source": [
    "# Suche aus Liste gerade Zahlen heraus:\n",
    "\n",
    "\n",
    "print(list(filter(lambda x: x<8 and x>2, a)))\n",
    "\n",
    "print(list(filter(lambda x: x%2==0,a)))"
   ]
  },
  {
   "cell_type": "markdown",
   "metadata": {},
   "source": [
    "###wichtig###      \n",
    "************************\n",
    "## 4.2. *List Comprehensions*\n",
    "قائمة الاستيعاب\n",
    "\n",
    "Ein eleganter Weg, unter Python Listen nach einer gewünschten Vorschrift zu füllen, ist die Verwendung von *List Comprehensions* (dt.: Listen-Abstraktion).\n",
    "In den meisten Fällen können Aufgaben, die mit `map()`, `lambda` und `filter()` gelöst werden, auch über *List Comprehensions* erledigt werden.\n",
    "\n",
    "**Beispiel 1 mit L.C.:**\n",
    "***********\n",
    "An elegant way to fill lists according to a desired rule under Python is to use * List Comprehensions *.\n",
    "In most cases, tasks that are solved with `map ()`, `lambda` and` filter () `can also be done via * List Comprehensions *.\n",
    "\n",
    "** Example 1 with L.C.:**\n",
    "**********\n",
    "طريقة رائعة لملء القوائم في Python وفقًا للقاعدة المرغوبة هي استخدام * List Comprehensions *.\n",
    "في معظم الحالات ، يمكن أيضًا تنفيذ المهام التي يمكن حلها باستخدام `map ()` و` lambda` و` filter () `باستخدام * List Comprehensions *.\n",
    "\n",
    "** مثال 1 مع LC :**"
   ]
  },
  {
   "cell_type": "code",
   "execution_count": 18,
   "metadata": {},
   "outputs": [
    {
     "data": {
      "text/plain": [
       "[1, 144, 49, 1089, 196, 25, 9, 36]"
      ]
     },
     "execution_count": 18,
     "metadata": {},
     "output_type": "execute_result"
    }
   ],
   "source": [
    "[i*i for i in a]"
   ]
  },
  {
   "cell_type": "markdown",
   "metadata": {},
   "source": [
    "**Beispiel 2 mit L.C.:**"
   ]
  },
  {
   "cell_type": "code",
   "execution_count": 19,
   "metadata": {},
   "outputs": [
    {
     "data": {
      "text/plain": [
       "[12, 14, 6]"
      ]
     },
     "execution_count": 19,
     "metadata": {},
     "output_type": "execute_result"
    }
   ],
   "source": [
    "[i for i in a if i%2==0]"
   ]
  },
  {
   "cell_type": "code",
   "execution_count": 20,
   "metadata": {},
   "outputs": [
    {
     "data": {
      "text/plain": [
       "[12, 14, 6]"
      ]
     },
     "execution_count": 20,
     "metadata": {},
     "output_type": "execute_result"
    }
   ],
   "source": [
    "[i for i in a if i%2==0]"
   ]
  },
  {
   "cell_type": "markdown",
   "metadata": {},
   "source": [
    "###wichtig###       `any ()` and `all ()` functions.\n",
    "************************\n",
    "Hilfreich im Umgang mit Listen sind häufig auch die Funktionen `any()` und `all()`. \n",
    "Sie werden verwendet um zu überprüfen, ob mindestens eines bzw. alle Elemente einer Sequenz den Wert *True* enthalten.\n",
    "******************************************\n",
    "Also helpful in handling lists are the `any ()` and `all ()` functions.\n",
    "They are used to check if at least one or all elements of a sequence contain the value * True *.\n",
    "************"
   ]
  },
  {
   "cell_type": "code",
   "execution_count": 53,
   "metadata": {},
   "outputs": [
    {
     "data": {
      "text/plain": [
       "True"
      ]
     },
     "execution_count": 53,
     "metadata": {},
     "output_type": "execute_result"
    }
   ],
   "source": [
    "any([True, True, False, True])\n"
   ]
  },
  {
   "cell_type": "code",
   "execution_count": 21,
   "metadata": {},
   "outputs": [
    {
     "data": {
      "text/plain": [
       "False"
      ]
     },
     "execution_count": 21,
     "metadata": {},
     "output_type": "execute_result"
    }
   ],
   "source": [
    "all([True, True, False, True])"
   ]
  },
  {
   "cell_type": "markdown",
   "metadata": {},
   "source": [
    "Im folgenden Beispiel wird überprüft, ob ...\n",
    "  * ... alle Elemente in der Liste `a` größer als 10 sind\n",
    "  * ... ein oder mehrere Elemente größer als 10 sind\n",
    "  **************************************\n",
    "  The following example checks if ...\n",
    "   * ... all items in the list `a` are greater than 10\n",
    "   * ... one or more elements greater than 10 are\n",
    "   *******************\n",
    "   يتحقق المثال التالي مما إذا كان ...\n",
    "* ... جميع العناصر في القائمة \"أ\" أكبر من 10\n",
    "* .. عنصر واحد أو أكثر أكبر من 10 هي"
   ]
  },
  {
   "cell_type": "code",
   "execution_count": 22,
   "metadata": {},
   "outputs": [
    {
     "name": "stdout",
     "output_type": "stream",
     "text": [
      "aaa\n"
     ]
    }
   ],
   "source": [
    "a = [1,12,7,33,14,5,-3,6]\n",
    "a2=[44,22,44,55,66,77,88]\n",
    "if all([ i>10 for i in a2]):\n",
    "    print('aaa')\n",
    "else:\n",
    "    print('no')\n"
   ]
  },
  {
   "cell_type": "code",
   "execution_count": 23,
   "metadata": {},
   "outputs": [
    {
     "name": "stdout",
     "output_type": "stream",
     "text": [
      "Nicht alle\n",
      "Mindestens eines\n"
     ]
    }
   ],
   "source": [
    "if all([i>10 for i in a]): \n",
    "    print('Alle')\n",
    "else:\n",
    "    print('Nicht alle')\n",
    "\n",
    "if any([i>10 for i in a]): \n",
    "    print('Mindestens eines')\n",
    "else:\n",
    "    print('Gar keines')"
   ]
  },
  {
   "cell_type": "markdown",
   "metadata": {},
   "source": [
    "## Übung\n",
    "\n",
    "**1) Schreiben Sie einen (möglichst kurzen) Einzeiler, der eine Liste mit Zeichenketten wie \"Das Quadrat von 2 ist 4.\" für die Zahlen von 1 bis 20 erzeugt.**\n",
    "\n",
    "*************************************************\n",
    "## Exercise\n",
    "\n",
    "** 1) Write a (as short as possible) one-liner containing a list of strings such as \"The square of 2 is 4.\" generated for the numbers from 1 to 20. **"
   ]
  },
  {
   "cell_type": "code",
   "execution_count": 24,
   "metadata": {},
   "outputs": [
    {
     "name": "stdout",
     "output_type": "stream",
     "text": [
      "[0, 1, 2, 3, 4, 5, 6, 7, 8, 9, 10, 11, 12, 13, 14, 15, 16, 17, 18, 19]\n"
     ]
    }
   ],
   "source": [
    "print(list(range(20)))"
   ]
  },
  {
   "cell_type": "code",
   "execution_count": 25,
   "metadata": {},
   "outputs": [
    {
     "name": "stdout",
     "output_type": "stream",
     "text": [
      "[1, 4, 9, 16, 25, 36, 49, 64, 81, 100, 121, 144, 169, 196, 225, 256, 289, 324, 361]\n"
     ]
    }
   ],
   "source": [
    "# Hier eigenen Code schreiben ...\n",
    "print(list(map(lambda x: x*x,range(1,20))))\n"
   ]
  },
  {
   "cell_type": "markdown",
   "metadata": {},
   "source": [
    "**2) Interpretieren Sie den folgenden Code-Abschnitt. Was bedeutet das Ergebnis und wie wird es erreicht?**\n",
    "********************************************\n",
    "** 2) Interpret the following code section. What does the result mean and how is it achieved? **"
   ]
  },
  {
   "cell_type": "code",
   "execution_count": 32,
   "metadata": {},
   "outputs": [
    {
     "data": {
      "text/plain": [
       "[2, 3, 5, 7, 11, 13, 17, 19]"
      ]
     },
     "execution_count": 32,
     "metadata": {},
     "output_type": "execute_result"
    }
   ],
   "source": [
    "max_zahl=19\n",
    "[zahl for zahl in range(2,max_zahl+1) if all([zahl % divisor != 0 for divisor in range(2,zahl)])]"
   ]
  },
  {
   "cell_type": "markdown",
   "metadata": {},
   "source": [
    "**3) Schreiben Sie einen kurzen Programmabschnitt, der aus einem Text alle Wörter heraussucht, die ein \"a\" enthalten.**\n",
    "**********\n",
    "** 3) Write a short section of the program that looks for all the words in the text that contain an \"a\". ******\n",
    "** 3) اكتب مقطعًا قصيرًا من البرنامج يبحث عن جميع الكلمات في النص التي تحتوي على حرف \"أ\". **"
   ]
  },
  {
   "cell_type": "code",
   "execution_count": 35,
   "metadata": {},
   "outputs": [
    {
     "name": "stdout",
     "output_type": "stream",
     "text": [
      "['start', 'your', 'study', 'in', 'the', 'first', 'semester']\n"
     ]
    },
    {
     "data": {
      "text/plain": [
       "['start']"
      ]
     },
     "execution_count": 35,
     "metadata": {},
     "output_type": "execute_result"
    }
   ],
   "source": [
    "# Hier eigenen Code schreiben ...\n",
    "\n",
    "text='start your study in the first semester '\n",
    "\n",
    "#for wort in text.split():\n",
    " #   if 'a' in wort:\n",
    "  #      print (wort)\n",
    "print(text.split())\n",
    "[wort for wort in text.split()  if 'a' in wort]\n",
    "\n"
   ]
  },
  {
   "cell_type": "code",
   "execution_count": null,
   "metadata": {},
   "outputs": [],
   "source": []
  },
  {
   "cell_type": "code",
   "execution_count": null,
   "metadata": {},
   "outputs": [],
   "source": []
  }
 ],
 "metadata": {
  "kernelspec": {
   "display_name": "Python 3",
   "language": "python",
   "name": "python3"
  },
  "language_info": {
   "codemirror_mode": {
    "name": "ipython",
    "version": 3
   },
   "file_extension": ".py",
   "mimetype": "text/x-python",
   "name": "python",
   "nbconvert_exporter": "python",
   "pygments_lexer": "ipython3",
   "version": "3.7.3"
  }
 },
 "nbformat": 4,
 "nbformat_minor": 4
}
