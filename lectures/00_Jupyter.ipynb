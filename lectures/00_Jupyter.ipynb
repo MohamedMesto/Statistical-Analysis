{
 "cells": [
  {
   "cell_type": "markdown",
   "metadata": {},
   "source": [
    "# **Python für Ingenieure**\n",
    "<!-- Lizensiert unter (CC BY 2.0) Gert Herold, 2019 -->\n",
    "## Prolog: Jupyter Notebook/Lab\n",
    "\n",
    "Interaktive Python-Konsole\n",
    "\n",
    "Kann Python-Code direkt ausführen und Ergebnisse anzeigen"
   ]
  },
  {
   "cell_type": "code",
   "execution_count": 4,
   "metadata": {},
   "outputs": [
    {
     "name": "stdout",
     "output_type": "stream",
     "text": [
      "Hallo Welt\n"
     ]
    }
   ],
   "source": [
    "print('Hallo Welt')"
   ]
  },
  {
   "cell_type": "markdown",
   "metadata": {},
   "source": [
    "Infos zu Funktionen oder anderen Objekten lassen sich einfach über ein nachgestelltes Fragezeichen abrufen:"
   ]
  },
  {
   "cell_type": "code",
   "execution_count": 5,
   "metadata": {},
   "outputs": [
    {
     "data": {
      "text/plain": [
       "\u001b[0;31mDocstring:\u001b[0m\n",
       "print(value, ..., sep=' ', end='\\n', file=sys.stdout, flush=False)\n",
       "\n",
       "Prints the values to a stream, or to sys.stdout by default.\n",
       "Optional keyword arguments:\n",
       "file:  a file-like object (stream); defaults to the current sys.stdout.\n",
       "sep:   string inserted between values, default a space.\n",
       "end:   string appended after the last value, default a newline.\n",
       "flush: whether to forcibly flush the stream.\n",
       "\u001b[0;31mType:\u001b[0m      builtin_function_or_method\n"
      ]
     },
     "metadata": {},
     "output_type": "display_data"
    }
   ],
   "source": [
    "print?"
   ]
  },
  {
   "cell_type": "markdown",
   "metadata": {},
   "source": [
    "Ausgaben sind in dieser Umgebung auch ohne expliziten `print`-Befehl möglich:"
   ]
  },
  {
   "cell_type": "code",
   "execution_count": 6,
   "metadata": {},
   "outputs": [
    {
     "data": {
      "text/plain": [
       "'Hallo Welt'"
      ]
     },
     "execution_count": 6,
     "metadata": {},
     "output_type": "execute_result"
    }
   ],
   "source": [
    "'Hallo Welt'"
   ]
  },
  {
   "cell_type": "code",
   "execution_count": 7,
   "metadata": {},
   "outputs": [
    {
     "data": {
      "text/plain": [
       "2"
      ]
     },
     "execution_count": 7,
     "metadata": {},
     "output_type": "execute_result"
    }
   ],
   "source": [
    "1+1"
   ]
  },
  {
   "cell_type": "markdown",
   "metadata": {},
   "source": [
    "###wichtig \n",
    "Bei mehrzeiligen Code-Abschnitten wird jedoch nur die letzte Zeile ausgegeben:\n",
    "**************\n",
    "In the case of multiline code sections, however, only the last line is output:"
   ]
  },
  {
   "cell_type": "code",
   "execution_count": 8,
   "metadata": {},
   "outputs": [
    {
     "data": {
      "text/plain": [
       "4"
      ]
     },
     "execution_count": 8,
     "metadata": {},
     "output_type": "execute_result"
    }
   ],
   "source": [
    "1+1\n",
    "1+2\n",
    "2+2"
   ]
  },
  {
   "cell_type": "markdown",
   "metadata": {},
   "source": [
    "###wichtig\n",
    "Falls benötigt, Ausgabe explizit anweisen:\n",
    "*******\n",
    "If necessary, explicitly instruct output:\n",
    "*******\n",
    "إذا لزم الأمر ، فقم بإرشاد الإخراج صراحة:"
   ]
  },
  {
   "cell_type": "code",
   "execution_count": 9,
   "metadata": {},
   "outputs": [
    {
     "name": "stdout",
     "output_type": "stream",
     "text": [
      "2\n",
      "3\n",
      "4\n"
     ]
    }
   ],
   "source": [
    "print(1+1)\n",
    "print(1+2)\n",
    "\n",
    "print(2+2)"
   ]
  },
  {
   "cell_type": "markdown",
   "metadata": {},
   "source": [
    "###wichtig  \n",
    "Das jeweils letzte direkt per implizitem Befehl berechnete Ergebnis lässt sich über die Variable \\\"_\\\" abrufen:\n",
    "*************\n",
    "The last result calculated directly using the implicit command can be called up using the variable \\\"_ \\\":"
   ]
  },
  {
   "cell_type": "code",
   "execution_count": 10,
   "metadata": {},
   "outputs": [
    {
     "data": {
      "text/plain": [
       "21"
      ]
     },
     "execution_count": 10,
     "metadata": {},
     "output_type": "execute_result"
    }
   ],
   "source": [
    "3*7"
   ]
  },
  {
   "cell_type": "code",
   "execution_count": 11,
   "metadata": {},
   "outputs": [
    {
     "data": {
      "text/plain": [
       "23"
      ]
     },
     "execution_count": 11,
     "metadata": {},
     "output_type": "execute_result"
    }
   ],
   "source": [
    "_+2"
   ]
  },
  {
   "cell_type": "markdown",
   "metadata": {},
   "source": [
    "## Übung:\n",
    "\n",
    "1. Setzen Sie den Cursor zurück in die Zelle über dieser hier.\n",
    "    * Drücken Sie wiederholt <kbd>Strg</kbd> + <kbd>Enter</kbd>\n",
    "    * Drücken Sie wiederholt <kbd>Shift</kbd> + <kbd>Enter</kbd>\n",
    "    * Was passiert und warum?\n",
    "    \n",
    "    \n",
    "2. Setzen Sie den Cursor in die Zelle unter dieser hier.\n",
    "    * Wechseln Sie zwischen Kommando- und Editier-Modus mittels <kbd>Esc</kbd> und <kbd>Enter</kbd>\n",
    "    * Ändern Sie den Zelltyp mittels <kbd>M</kbd> oder <kbd>Y</kbd>\n",
    "    * Interpretieren Sie das Ergebnis der Zellausführung (<kbd>Strg</kbd> + <kbd>Enter</kbd>)\n",
    "\n",
    "\n",
    "3. Testen Sie im Kommando-Modus die Funktion der Tasten:\n",
    "    * <kbd>D</kbd>,<kbd>D</kbd>\n",
    "    * <kbd>Z</kbd>\n",
    "    * <kbd>A</kbd>\n",
    "    * <kbd>B</kbd>\n",
    "    \n",
    "***************************\n",
    "    ## Exercise:\n",
    "\n",
    "1. Place the cursor back in the cell above this one.\n",
    "     * Press repeatedly <kbd>Strg</kbd> + <kbd>Enter</kbd>\n",
    "     * Press repeatedly <kbd> Shift </ kbd> + <kbd> Enter </ kbd> repeatedly\n",
    "     * What happens and why?\n",
    "    \n",
    "    \n",
    "2. Place the cursor in the cell below this one.\n",
    "     * Switch between command and edit mode using <kbd> Esc </ kbd> and <kbd> Enter </ kbd>\n",
    "     * Change the cell type using <kbd> M </ kbd> or <kbd> Y </ kbd>  \n",
    "     * Interpret the result of the cell execution (<kbd> Ctrl </ kbd> + <kbd> Enter </ kbd>)\n",
    "\n",
    "\n",
    "3. Test the function of the keys in command mode:\n",
    "     * <kbd> D </ kbd>, <kbd> D </ kbd>\n",
    "     * <kbd> Z </ kbd>\n",
    "     * <kbd> A </ kbd>\n",
    "     * <kbd> B </ kbd>\n",
    "    "
   ]
  },
  {
   "cell_type": "code",
   "execution_count": null,
   "metadata": {},
   "outputs": [],
   "source": []
  },
  {
   "cell_type": "markdown",
   "metadata": {},
   "source": [
    "4+3"
   ]
  },
  {
   "cell_type": "code",
   "execution_count": null,
   "metadata": {},
   "outputs": [],
   "source": []
  },
  {
   "cell_type": "code",
   "execution_count": 18,
   "metadata": {},
   "outputs": [
    {
     "data": {
      "text/plain": [
       "27"
      ]
     },
     "execution_count": 18,
     "metadata": {},
     "output_type": "execute_result"
    }
   ],
   "source": [
    "### Testzelle für \n",
    "## Übungszwecke\n",
    "\n",
    "# $\\lambda = \\frac{c}{f}$\n",
    "\n",
    "3*3*3"
   ]
  },
  {
   "cell_type": "code",
   "execution_count": null,
   "metadata": {},
   "outputs": [],
   "source": []
  },
  {
   "cell_type": "code",
   "execution_count": null,
   "metadata": {},
   "outputs": [],
   "source": []
  },
  {
   "cell_type": "code",
   "execution_count": null,
   "metadata": {},
   "outputs": [],
   "source": [
    "D"
   ]
  },
  {
   "cell_type": "code",
   "execution_count": null,
   "metadata": {},
   "outputs": [],
   "source": []
  },
  {
   "cell_type": "code",
   "execution_count": null,
   "metadata": {},
   "outputs": [],
   "source": []
  },
  {
   "cell_type": "code",
   "execution_count": null,
   "metadata": {},
   "outputs": [],
   "source": []
  },
  {
   "cell_type": "code",
   "execution_count": null,
   "metadata": {},
   "outputs": [],
   "source": []
  },
  {
   "cell_type": "code",
   "execution_count": null,
   "metadata": {},
   "outputs": [],
   "source": []
  },
  {
   "cell_type": "code",
   "execution_count": null,
   "metadata": {},
   "outputs": [],
   "source": []
  },
  {
   "cell_type": "code",
   "execution_count": null,
   "metadata": {},
   "outputs": [],
   "source": []
  }
 ],
 "metadata": {
  "kernelspec": {
   "display_name": "Python 3",
   "language": "python",
   "name": "python3"
  },
  "language_info": {
   "codemirror_mode": {
    "name": "ipython",
    "version": 3
   },
   "file_extension": ".py",
   "mimetype": "text/x-python",
   "name": "python",
   "nbconvert_exporter": "python",
   "pygments_lexer": "ipython3",
   "version": "3.7.3"
  }
 },
 "nbformat": 4,
 "nbformat_minor": 4
}
