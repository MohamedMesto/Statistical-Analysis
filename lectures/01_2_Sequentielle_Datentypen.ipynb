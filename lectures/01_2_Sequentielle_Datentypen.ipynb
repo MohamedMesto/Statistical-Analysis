{
 "cells": [
  {
   "cell_type": "markdown",
   "metadata": {},
   "source": [
    "# **Python für Ingenieure**   \n",
    "<!-- Lizensiert unter (CC BY 2.0) Gert Herold, 2019 -->\n",
    "## 1.2. Sequentielle Datentypen\n",
    "\n",
    "Häufig ist es sinnvoll, mehrere Elemente in einer Variable zu speichern. So ist z. B. eine *string*-Variable eine Sequenz von Einzelzeichen, die hintereinander abgespeichert werden.\n",
    "Auf einzelne Elemente einer Sequenz kann über eine Adressierung ein eckigen Klammern (`[ ]`) zugegriffen werden:\n",
    "****************************************************\n",
    "\n",
    "## 1.2. Sequential data types   ##Wichtig\n",
    "Often it makes sense to save several elements in a variable. So z. For example, a string variable is a sequence of single characters that are stored one after the other. Individual elements of a sequence can be accessed by using square brackets ([]):"
   ]
  },
  {
   "cell_type": "code",
   "execution_count": 29,
   "metadata": {},
   "outputs": [
    {
     "name": "stdout",
     "output_type": "stream",
     "text": [
      "Der Himmel ist blau.\n",
      "Anzahl der Elemente: 20 \n",
      "Ein Element der Sequenz: H\n"
     ]
    }
   ],
   "source": [
    "###wichtig\n",
    "x = 'Der Himmel ist blau.'\n",
    "print (x)\n",
    "print('Anzahl der Elemente:', len(x), '\\nEin Element der Sequenz:', x[4])\n",
    "\n",
    "\n",
    " "
   ]
  },
  {
   "cell_type": "code",
   "execution_count": 30,
   "metadata": {},
   "outputs": [
    {
     "name": "stdout",
     "output_type": "stream",
     "text": [
      "y= Wir machen Deutschland zusammen stark \n",
      "Length(y)= 37\n"
     ]
    }
   ],
   "source": [
    "y=\"Wir machen Deutschland zusammen stark\" \n",
    "print('y=',y,'\\nLength(y)=',len(y))\n"
   ]
  },
  {
   "cell_type": "markdown",
   "metadata": {},
   "source": [
    "**Achtung:** Die Indizierung in Python ist generell *nullbasiert*, d.h. der Zugriff auf das erste Element einer Sequenz erfolgt über den Index 0:\n",
    "\n",
    "\n",
    "\n",
    "\n",
    "********************\n",
    "\n",
    "** Attention: ** Indexing in Python is generally * zero based *, ie. the first element of a sequence is accessed via the index 0:"
   ]
  },
  {
   "cell_type": "code",
   "execution_count": 31,
   "metadata": {},
   "outputs": [
    {
     "data": {
      "text/plain": [
       "'e'"
      ]
     },
     "execution_count": 31,
     "metadata": {},
     "output_type": "execute_result"
    }
   ],
   "source": [
    "x[1]"
   ]
  },
  {
   "cell_type": "markdown",
   "metadata": {},
   "source": [
    "Der Index des letzten Elements ist dementsprechend: ##wichtig\n",
    "**************************\n",
    "\n",
    "The index of the last element is accordingly:"
   ]
  },
  {
   "cell_type": "code",
   "execution_count": 32,
   "metadata": {},
   "outputs": [
    {
     "name": "stdout",
     "output_type": "stream",
     "text": [
      ".\n"
     ]
    }
   ],
   "source": [
    "print(x[len(x)-1])"
   ]
  },
  {
   "cell_type": "code",
   "execution_count": 33,
   "metadata": {},
   "outputs": [
    {
     "name": "stdout",
     "output_type": "stream",
     "text": [
      "k\n"
     ]
    }
   ],
   "source": [
    "print(y[len(y)-1])"
   ]
  },
  {
   "cell_type": "markdown",
   "metadata": {},
   "source": [
    "###Wichtig###\n",
    "**********************\n",
    "Eine Besonderheit in Python ist, dass die Indizierung der Elemente nicht nur ausgehend vom Anfang einer Sequenz, sondern auch von deren Ende geschehen kann:\n",
    "*********************************\n",
    "A special feature in Python is that the indexing of the elements can not only be done from the beginning of a sequence, but also from its end:\n",
    "    \n",
    "   \n",
    "   "
   ]
  },
  {
   "cell_type": "code",
   "execution_count": 34,
   "metadata": {},
   "outputs": [
    {
     "data": {
      "text/plain": [
       "'.'"
      ]
     },
     "execution_count": 34,
     "metadata": {},
     "output_type": "execute_result"
    }
   ],
   "source": [
    "x[-1]"
   ]
  },
  {
   "cell_type": "markdown",
   "metadata": {},
   "source": [
    "###Wichtig###\n",
    "*********************\n",
    "Für einen Zugriff auf mehrere aufeinanderfolgende Elemente werden Anfangs- und End-Index mit einem Doppelpunkt getrennt.\n",
    "\n",
    "**Achtung:** Der zweite Index adressiert das Element, das gerade *nicht* mehr enthalten sein soll. \n",
    "\n",
    "****************************\n",
    "To access several consecutive elements, the start and end indices are separated by a colon.\n",
    "\n",
    "** Attention: ** The second index addresses the element that should * not * be longer."
   ]
  },
  {
   "cell_type": "code",
   "execution_count": 35,
   "metadata": {},
   "outputs": [
    {
     "data": {
      "text/plain": [
       "'ist'"
      ]
     },
     "execution_count": 35,
     "metadata": {},
     "output_type": "execute_result"
    }
   ],
   "source": [
    "#x = 'Der Himmel ist blau.'\n",
    "\n",
    "x[11:14]"
   ]
  },
  {
   "cell_type": "code",
   "execution_count": 36,
   "metadata": {},
   "outputs": [
    {
     "data": {
      "text/plain": [
       "'Der'"
      ]
     },
     "execution_count": 36,
     "metadata": {},
     "output_type": "execute_result"
    }
   ],
   "source": [
    "x[0:3]"
   ]
  },
  {
   "cell_type": "code",
   "execution_count": 37,
   "metadata": {},
   "outputs": [
    {
     "data": {
      "text/plain": [
       "'er'"
      ]
     },
     "execution_count": 37,
     "metadata": {},
     "output_type": "execute_result"
    }
   ],
   "source": [
    "x[1:3]"
   ]
  },
  {
   "cell_type": "markdown",
   "metadata": {},
   "source": [
    "### 1.2.1. Listen\n",
    "\n",
    "Um Variablen beliebigen Typs als Sequenz zusammenzufassen, kann der Datentyp `list` verwendet werden.\n",
    "************************\n",
    "### 1.2.1. lists\n",
    "\n",
    "To summarize variables of any type as a sequence, the data type `list` can be used.\n",
    "************\n",
    "لتلخيص المتغيرات من أي نوع كسلسلة ، يمكن استخدام نوع البيانات \"قائمة\"."
   ]
  },
  {
   "cell_type": "code",
   "execution_count": 38,
   "metadata": {},
   "outputs": [
    {
     "name": "stdout",
     "output_type": "stream",
     "text": [
      "<class 'list'>\n"
     ]
    },
    {
     "data": {
      "text/plain": [
       "[1, 3, 5, 2, 4, 1, 3, 2]"
      ]
     },
     "execution_count": 38,
     "metadata": {},
     "output_type": "execute_result"
    }
   ],
   "source": [
    "a = [1,3,5,2,4,1,3,2]\n",
    "print(type(a))\n",
    "a"
   ]
  },
  {
   "cell_type": "markdown",
   "metadata": {},
   "source": [
    "###Wichtig###   sum(a),  max(a)) of a list\n",
    "*****\n",
    "Die Definition einer Liste erfolgt über eckige Klammern (`[ ]`), die die durch Kommas abgetrennten Elemente umfasst.\n",
    "\n",
    "Sofern es die Elemente der Liste erlauben, können auch einfache Listenoperationen, wie das Auffinden des Maximums oder die Berechnung der Gesamtsumme durchgeführt werden:\n",
    "*******************************\n",
    "The definition of a list is done using square brackets ([]), which contains the elements separated by commas.\n",
    "\n",
    "If the elements of the list permit, simple list operations, such as finding the maximum or calculating the total, can also be performed\n",
    "*****************************\n",
    "يتم تعريف القائمة باستخدام الأقواس المربعة ([]) ، والتي تحتوي على العناصر مفصولة بفواصل.\n",
    "\n",
    "إذا سمحت عناصر القائمة ، يمكن أيضًا إجراء عمليات القائمة البسيطة ، مثل البحث عن الحد الأقصى أو حساب الإجمالي"
   ]
  },
  {
   "cell_type": "code",
   "execution_count": 39,
   "metadata": {},
   "outputs": [
    {
     "name": "stdout",
     "output_type": "stream",
     "text": [
      "Summe: 21\n",
      "Maximum: 5\n"
     ]
    }
   ],
   "source": [
    "print('Summe:',sum(a))\n",
    "print('Maximum:',max(a))"
   ]
  },
  {
   "cell_type": "markdown",
   "metadata": {},
   "source": [
    "###Wichtig###\n",
    "****************************\n",
    "Prinzipiell können die Elemente einer Liste auch unterschiedlichen Typs sein:\n",
    "******************************\n",
    "\n",
    "In principle, the elements of a list can also be of different types:"
   ]
  },
  {
   "cell_type": "code",
   "execution_count": 40,
   "metadata": {},
   "outputs": [
    {
     "data": {
      "text/plain": [
       "[3, (1.41+2j), [1, 3, 5, 2, 4, 1, 3, 2], 'Der Himmel ist blau.', 'Aha!']"
      ]
     },
     "execution_count": 40,
     "metadata": {},
     "output_type": "execute_result"
    }
   ],
   "source": [
    "b = [3, 1.41+2j, a, x, 'Aha!']\n",
    "b \n",
    "#print(sum(b))"
   ]
  },
  {
   "cell_type": "markdown",
   "metadata": {},
   "source": [
    "Um einer Liste ein oder mehrere Elemente hinzuzufügen, kann folgende Syntax verwendet werden:\n",
    "*********************************\n",
    "\n",
    "To add one or more elements to a list, the following syntax can be used:"
   ]
  },
  {
   "cell_type": "code",
   "execution_count": 41,
   "metadata": {},
   "outputs": [
    {
     "data": {
      "text/plain": [
       "[3, (1.41+2j), [1, 3, 5, 2, 4, 1, 3, 2], 'Der Himmel ist blau.', 'Aha!', 15]"
      ]
     },
     "execution_count": 41,
     "metadata": {},
     "output_type": "execute_result"
    }
   ],
   "source": [
    "c = b + [15]\n",
    "c"
   ]
  },
  {
   "cell_type": "markdown",
   "metadata": {},
   "source": [
    "###Wichtig###\n",
    "******\n",
    "Beschreibungen zu weiteren Möglichkeiten der Listenbearbeitung finden sich unter anderem in der \n",
    "[Online-Python-Dokumentation](https://docs.python.org/3/tutorial/datastructures.html#more-on-lists).\n",
    "Beispielhaft seien noch genannt:\n",
    "\n",
    "****************************************\n",
    "Descriptions of other options for list editing can be found in the\n",
    "[Online Python documentation] (https://docs.python.org/3/tutorial/datastructures.html#more-on-lists).\n",
    "Examples include:\n",
    "***********************\n",
    "يمكن العثور على أوصاف الخيارات الأخرى لتحرير القائمة في ملف\n",
    "[وثائق بايثون على الإنترنت] (https://docs.python.org/3/tutorial/datastructures.html#more-on-lists).\n",
    "الامثله تشمل:"
   ]
  },
  {
   "cell_type": "code",
   "execution_count": 42,
   "metadata": {},
   "outputs": [
    {
     "name": "stdout",
     "output_type": "stream",
     "text": [
      "[3, (1.41+2j), [1, 3, 5, 2, 4, 1, 3, 2], 'Der Himmel ist blau.', 'Aha!'] \n",
      "\n",
      "[3, (1.41+2j), [1, 3, 5, 2, 4, 1, 3, 2], 'Der Himmel ist blau.', 'Aha!', 28.3] \n",
      "\n",
      "[3, 'abc', (1.41+2j), [1, 3, 5, 2, 4, 1, 3, 2], 'Der Himmel ist blau.', 'Aha!', 28.3] \n",
      "\n",
      "[3, 'abc', (1.41+2j), [1, 3, 5, 2, 4, 1, 3, 2], 'Der Himmel ist blau.', 'Aha!', 28.3, -1, -2, -3] \n",
      "\n"
     ]
    },
    {
     "data": {
      "text/plain": [
       "[3,\n",
       " 'abc',\n",
       " (1.41+2j),\n",
       " [1, 3, 5, 2, 4, 1, 3, 2],\n",
       " 'Der Himmel ist blau.',\n",
       " 'Aha!',\n",
       " 28.3,\n",
       " -1,\n",
       " -2,\n",
       " -3]"
      ]
     },
     "execution_count": 42,
     "metadata": {},
     "output_type": "execute_result"
    }
   ],
   "source": [
    "#c=[3, (1.41+2j), [1, 3, 5, 2, 4, 1, 3, 2], 'Der Himmel ist blau.', 'Aha!', 15]\n",
    "c.remove (15) # remove item from a list; if multiple exists, the first is removed\n",
    "print(c,'\\n')\n",
    "c.append (28.3) # Append item to list\n",
    "print(c,'\\n')\n",
    "\n",
    "c.insert (1, 'abc') # Insert element at specific position in list\n",
    "print(c,'\\n')\n",
    "c.extend ([- 1, -2, -3]) # Expand the list by several elements\n",
    "print(c,'\\n')\n",
    "c"
   ]
  },
  {
   "cell_type": "markdown",
   "metadata": {},
   "source": [
    "###Sehr Wichtig###\n",
    "### 1.2.2. Dictionaries\n",
    "\n",
    "Eine Besonderheit der Programmiersprache Python ist der Datentyp *dictionary*. Im Gegensatz zu Listen, deren Werte (*values*) über Indizes abgerufen werden, nimmt hier ein Schlüssel (*key*) die Funktion der Indizes ein. \n",
    "Ähnlich einer Tabelle entsprechen die Elemente ein *Key-Value*-Paar.\n",
    "Sowohl die *Keys* als auch die *Values* können beliebigen Typs sein. Jedoch darf wegen der Eindeutigkeit der Zuordnung jeder *Key* nur einmal in einem Dictionary vorkommen.\n",
    "Die Syntax zu Erstellung eines Dictionarys lautet:\n",
    "`variablenname = {key1 : value1, key2 : value2, ...}`\n",
    "\n",
    "**Beispiel**: Die Telefonnummern der Mitarbeiter eines Fachgebiets seien gegeben:\n",
    "*********************************************\n",
    "\n",
    "A special feature of the programming language Python is the data type dictionary. Unlike lists, whose values are retrieved via indexes, a key takes on the function of the indices. Similar to a table, the elements correspond to a key-value pair. Both the keys and the values can be of any type. However, because of the uniqueness of the assignment, each key must only appear once in a dictionary. The syntax for creating a dictionary is: variable-name = {key1: value1, key2: value2, ...}\n",
    "\n",
    "Example: The telephone numbers of the employees of a specialist area are given:\n",
    "\n",
    "| Name        | Telefon |\n",
    "|-------------|---------|\n",
    "| Herold      | 24862   |\n",
    "| Kisler      | 22440   |\n",
    "| Schneehagen | 23419   |\n",
    "| Stampka     | 22991   |\n",
    "| Kujawski    | 25212   |\n",
    "| Masovic     | 22761   |\n",
    "| Jekosch     | 25211   |\n",
    "| Paskiewicz  | 29403   |\n",
    "| Radmann     | 29403   |\n",
    "*****************************************\n",
    "Die Definition eines entsprechenden Dictionarys unter Python sieht dann wie folgt aus:\n",
    "***************************************\n",
    "The definition of a corresponding dictionary under Python then looks like this:"
   ]
  },
  {
   "cell_type": "code",
   "execution_count": null,
   "metadata": {},
   "outputs": [],
   "source": []
  },
  {
   "cell_type": "code",
   "execution_count": 59,
   "metadata": {},
   "outputs": [
    {
     "data": {
      "text/plain": [
       "{'Herold': 24862,\n",
       " 'Kisler': 22440,\n",
       " 'Schneehagen': 23419,\n",
       " 'Stampka': 22991,\n",
       " 'Kujawski': 25212,\n",
       " 'Masovic': 22761,\n",
       " 'Jekosch': 25211,\n",
       " 'Paskiewicz': 29403,\n",
       " 'Radmann': 29403}"
      ]
     },
     "execution_count": 59,
     "metadata": {},
     "output_type": "execute_result"
    }
   ],
   "source": [
    "tel_nr = {'Herold'      : 24862 ,\n",
    "          'Kisler'      : 22440 ,\n",
    "          'Schneehagen' : 23419 ,\n",
    "          'Stampka'     : 22991 ,\n",
    "          'Kujawski'    : 25212 ,\n",
    "          'Masovic'     : 22761 ,\n",
    "          'Jekosch'     : 25211 ,\n",
    "          'Paskiewicz'  : 29403 ,\n",
    "          'Radmann'     : 29403}\n",
    "\n",
    "#tel_nr['Radmann2']=29403\n",
    "tel_nr \n",
    "#print ('\\n')\n",
    "#print (tel_nr)"
   ]
  },
  {
   "cell_type": "code",
   "execution_count": 60,
   "metadata": {},
   "outputs": [
    {
     "name": "stdout",
     "output_type": "stream",
     "text": [
      "{'Herold': 24862, 'Kisler': 22440, 'Schneehagen': 23419, 'Stampka': 22991, 'Kujawski': 25212, 'Masovic': 22761, 'Jekosch': 25211, 'Paskiewicz': 29403, 'Radmann': 29403}\n",
      "\n",
      "\n"
     ]
    }
   ],
   "source": [
    "print (tel_nr)\n",
    "print ('\\n')"
   ]
  },
  {
   "cell_type": "code",
   "execution_count": 67,
   "metadata": {},
   "outputs": [
    {
     "name": "stdout",
     "output_type": "stream",
     "text": [
      "{'ali': 4222, 'sameh': 5555, 'sarah': 3333}\n"
     ]
    }
   ],
   "source": [
    "dic_aa={'ali' : 4222,\n",
    "        'sameh':5555,\n",
    "        'sarah':3333   \n",
    "}\n",
    "print(dic_aa)"
   ]
  },
  {
   "cell_type": "markdown",
   "metadata": {},
   "source": [
    "Und der Abruf einzelner Elemente so:\n",
    "**************************\n",
    "And the retrieval of individual elements like this:"
   ]
  },
  {
   "cell_type": "code",
   "execution_count": 52,
   "metadata": {},
   "outputs": [
    {
     "data": {
      "text/plain": [
       "22440"
      ]
     },
     "execution_count": 52,
     "metadata": {},
     "output_type": "execute_result"
    }
   ],
   "source": [
    "tel_nr['Kisler']\n"
   ]
  },
  {
   "cell_type": "markdown",
   "metadata": {},
   "source": [
    "###Wichtig###\n",
    "***\n",
    "Wird auf einen Key zugegriffen, der noch nicht existiert, wird ein neues Element hinzugefügt:\n",
    "*************************\n",
    "If a key is accessed that does not yet exist, a new item is added:\n",
    "***************************"
   ]
  },
  {
   "cell_type": "code",
   "execution_count": 69,
   "metadata": {},
   "outputs": [
    {
     "data": {
      "text/plain": [
       "{'Herold': 24862,\n",
       " 'Kisler': 22440,\n",
       " 'Schneehagen': 23419,\n",
       " 'Stampka': 22991,\n",
       " 'Kujawski': 25212,\n",
       " 'Masovic': 22761,\n",
       " 'Jekosch': 25211,\n",
       " 'Paskiewicz': 29403,\n",
       " 'Radmann': 29403,\n",
       " 'Tschakert': 22428}"
      ]
     },
     "execution_count": 69,
     "metadata": {},
     "output_type": "execute_result"
    }
   ],
   "source": [
    "tel_nr['Tschakert']=22428\n",
    "tel_nr\n",
    " "
   ]
  },
  {
   "cell_type": "code",
   "execution_count": 65,
   "metadata": {},
   "outputs": [
    {
     "name": "stdout",
     "output_type": "stream",
     "text": [
      "dict_keys(['Herold', 'Kisler', 'Schneehagen', 'Stampka', 'Kujawski', 'Masovic', 'Jekosch', 'Paskiewicz', 'Radmann'])\n",
      "dict_values([24862, 22440, 23419, 22991, 25212, 22761, 25211, 29403, 29403])\n",
      "************\n",
      "\n",
      "Stampka\n",
      "29403\n"
     ]
    }
   ],
   "source": [
    "tel_nr = {'Herold'      : 24862 ,\n",
    "          'Kisler'      : 22440 ,\n",
    "          'Schneehagen' : 23419 ,\n",
    "          'Stampka'     : 22991 ,\n",
    "          'Kujawski'    : 25212 ,\n",
    "          'Masovic'     : 22761 ,\n",
    "          'Jekosch'     : 25211 ,\n",
    "          'Paskiewicz'  : 29403 ,\n",
    "          'Radmann'     : 29403}\n",
    "print(tel_nr.keys())\n",
    "print(tel_nr.values())\n",
    "print('************\\n')\n",
    "'''    for i in tel_nr:\n",
    "        print(i)\n",
    "        break\n",
    "        print(max(i))'''\n",
    "print(max(tel_nr.keys()))\n",
    "print(max(tel_nr.values()))    "
   ]
  },
  {
   "cell_type": "code",
   "execution_count": 77,
   "metadata": {},
   "outputs": [
    {
     "name": "stdout",
     "output_type": "stream",
     "text": [
      "Stampka\n"
     ]
    }
   ],
   "source": [
    " tel_nr = {'Herold'      : 24862 ,\n",
    "          'Kisler'      : 22440 ,\n",
    "          'Schneehagen' : 23419 ,\n",
    "          'Stampka'     : 22991 ,\n",
    "          'Kujawski'    : 25212 ,\n",
    "          'Masovic'     : 22761 ,\n",
    "          'Jekosch'     : 25211 ,\n",
    "          'Paskiewicz'  : 29403 ,\n",
    "          'Radmann'     : 29403}\n"
   ]
  },
  {
   "cell_type": "code",
   "execution_count": 91,
   "metadata": {},
   "outputs": [
    {
     "name": "stdout",
     "output_type": "stream",
     "text": [
      "Max value element :  zara\n",
      "Max value element :  700\n"
     ]
    }
   ],
   "source": [
    "###wichtig###\n",
    "#******\n",
    "list1,list2=['xyz','zara','abc'],[456,700,200]\n",
    "print('Max value element : ',max(list1))\n",
    "print('Max value element : ',max(list2))"
   ]
  },
  {
   "cell_type": "markdown",
   "metadata": {},
   "source": [
    "Abruf aller enthaltenen Keys und Werte:\n",
    "****\n",
    "Calling up all contained keys and values:"
   ]
  },
  {
   "cell_type": "code",
   "execution_count": 93,
   "metadata": {},
   "outputs": [
    {
     "name": "stdout",
     "output_type": "stream",
     "text": [
      "dict_keys(['Herold', 'Kisler', 'Schneehagen', 'Stampka', 'Kujawski', 'Masovic', 'Jekosch', 'Paskiewicz', 'Radmann'])\n",
      "dict_values([24862, 22440, 23419, 22991, 25212, 22761, 25211, 29403, 29403])\n",
      "Stampka\n",
      "29403\n"
     ]
    }
   ],
   "source": [
    "print(tel_nr.keys())\n",
    "print(tel_nr.values())\n",
    "\n",
    "print(max(tel_nr.keys()))         ###???\n",
    "\n",
    "print(max(tel_nr.values()))"
   ]
  },
  {
   "cell_type": "markdown",
   "metadata": {},
   "source": [
    "\n",
    "****************************\n",
    "### 1.2.3. *set* und *tuple* ###Wichtig###\n",
    "\n",
    "\n",
    "Auf die Datentypen *set* (Menge) und *tuple* (Tupel) soll hier nur kurz eingegangen werden.\n",
    "\n",
    "Ein Set ist die Python-Entsprechung des [mathematischen Mengen-Begriffs](https://de.wikipedia.org/wiki/Menge_(Mathematik)). Jedes Element kann hier nur einmal vorkommen und auf die Elemente unterliegen keiner vorgegebenen Ordnung.\n",
    "************************\n",
    "\n",
    "The data types set (quantity) and tuple (tuple) will be briefly described here.\n",
    "\n",
    "A set is the Python equivalent of the [mathematical set concept](https://de.wikipedia.org/wiki/Menge_(Mathematik)). Each element can occur only once and the elements are not subject to a given order.\n",
    "**************************************\n",
    "سيتم وصف مجموعة أنواع البيانات (الكمية) و tuple (tuple) باختصار هنا.\n",
    "\n",
    "المجموعة هي المكافئ في Python لـ [مفهوم المجموعة الرياضية] (https://de.wikipedia.org/wiki/Menge_ (Mathematik)). يمكن أن يحدث كل عنصر مرة واحدة فقط ولا تخضع العناصر لترتيب معين."
   ]
  },
  {
   "cell_type": "code",
   "execution_count": 104,
   "metadata": {},
   "outputs": [
    {
     "name": "stdout",
     "output_type": "stream",
     "text": [
      "[1, 3, 5, 2, 4, 1, 3, 2, 'abc'] <class 'list'>\n",
      "{1, 2, 3, 4, 5, 'abc'} <class 'set'>\n",
      "True\n",
      "5 1\n",
      "max in list c is uuu \n",
      " max in list c is aa\n"
     ]
    }
   ],
   "source": [
    "a = [1,3,5,2,4,1,3,2,'abc']\n",
    "a_set=set(a)\n",
    "\n",
    "print(a, type(a))\n",
    "print(a_set, type(a_set))\n",
    "print(3 in a_set) # Ist 3 Element der Menge a_set?\n",
    "\n",
    "\n",
    "b = [1,3,5,2,4,1,3]\n",
    "print(max(b),(min(b)))\n",
    "\n",
    "c=['abc','aa','eee','uuu']\n",
    "c_set=set(c)     \n",
    "print('max in list c is',max(c),'\\n','max in list c is',min(c))\n",
    "print('max in list c is',max(c),'\\n','max in list c is',min(c))\n",
    "\n",
    "#set used to  \n",
    "\n",
    "#1- no duplicate\n",
    "#2- without the original order\n",
    "\n",
    "\n",
    "#tuple\n",
    "##???\n",
    "\n",
    "\n"
   ]
  },
  {
   "cell_type": "code",
   "execution_count": 82,
   "metadata": {},
   "outputs": [
    {
     "name": "stdout",
     "output_type": "stream",
     "text": [
      "[1, 2, 3, 4, 5, 5, 3, 2, 1] <class 'list'>\n",
      "{1, 2, 3, 4, 5} <class 'set'>\n"
     ]
    }
   ],
   "source": [
    "a=[1,2,3,4,5,5,3,2,1]\n",
    "a_set=set(a)\n",
    "print(a,type(a))\n",
    "print(a_set,type(a_set))"
   ]
  },
  {
   "cell_type": "markdown",
   "metadata": {},
   "source": [
    "###Wichtig###\n",
    "****************************\n",
    "Ein Tupel ist eine Liste, die nicht verändert werden kann. Dies ist z.B. dann sinnvoll, wenn bestimmte Variablen in fester Reihenfolge zusammengefasst werden sollen.\n",
    "*********************\n",
    "A tuple is a list that can not be changed. This is e.g. makes sense, if certain variables are to be summarized in a fixed order.*\n",
    "*******************\n",
    "المجموعة هي قائمة لا يمكن تغييرها. هذا على سبيل المثال من المنطقي ، إذا تم تلخيص بعض المتغيرات بترتيب ثابت. *"
   ]
  },
  {
   "cell_type": "code",
   "execution_count": 121,
   "metadata": {},
   "outputs": [
    {
     "name": "stdout",
     "output_type": "stream",
     "text": [
      "(3, 4, 5) <class 'tuple'>\n"
     ]
    },
    {
     "data": {
      "text/plain": [
       "True"
      ]
     },
     "execution_count": 121,
     "metadata": {},
     "output_type": "execute_result"
    }
   ],
   "source": [
    "dreieck = 3,4,5 # definiere ein Dreieck über drei Seitenlängen\n",
    "print(dreieck, type(dreieck))\n",
    "\n",
    "\n",
    "a,b,c = dreieck                     ###???\n",
    "rechtwinklig = (a*a+b*b == c*c) # Handelt es sich um ein rechtwinkliges Dreieck mit Hypothenuse c und Katheden a und b?\n",
    "rechtwinklig "
   ]
  },
  {
   "cell_type": "markdown",
   "metadata": {},
   "source": [
    "## Übung\n",
    "**1) Interpretieren Sie das Ergebnis der folgenden Indizierungen. Was sind die dahinterliegenden Syntaxregeln?**\n",
    "*****\n",
    "** 1) Interpret the result of the following indexes. What are the underlying syntax rules? **\n",
    "**********\n"
   ]
  },
  {
   "cell_type": "code",
   "execution_count": 105,
   "metadata": {},
   "outputs": [
    {
     "name": "stdout",
     "output_type": "stream",
     "text": [
      "Der Himmel ist blau.\n",
      ".\n",
      "er Himmel ist blau\n",
      "er Himmel ist blau.\n",
      "Himmel ist blau.\n"
     ]
    }
   ],
   "source": [
    "x = 'Der Himmel ist blau.'\n",
    "print(x[0:len(x)])\n",
    "print(x[-1])\n",
    "print(x[1:-1])\n",
    "print(x[1:])\n",
    "print(x[4:])\n"
   ]
  },
  {
   "cell_type": "code",
   "execution_count": 106,
   "metadata": {},
   "outputs": [
    {
     "name": "stdout",
     "output_type": "stream",
     "text": [
      "Der Himmel ist blau.\n",
      "DrHme s lu\n",
      "D mlsbu\n",
      "e imlitba.\n",
      "Der Himmel ist blau.\n"
     ]
    }
   ],
   "source": [
    "print(x[::1])\n",
    "print(x[::2])\n",
    "print(x[::3])\n",
    "\n",
    "print(x[1::2])\n",
    " \n",
    "print(x[:])"
   ]
  },
  {
   "cell_type": "code",
   "execution_count": 107,
   "metadata": {},
   "outputs": [
    {
     "name": "stdout",
     "output_type": "stream",
     "text": [
      ".ualb tsi lemmiH reD\n",
      ".abtilmi e\n",
      "Der Himmel ist bla\n"
     ]
    }
   ],
   "source": [
    "print(x[::-1])\n",
    "print(x[::-2])\n",
    "print(x[:-2])\n"
   ]
  },
  {
   "cell_type": "markdown",
   "metadata": {},
   "source": [
    "**2) Geben Sie die Zeichenkette \"`blau ist Der Himmel.`\" mithilfe von Indizierungen der Variablen `x` aus. Versuchen Sie, den Befehl so kurz wie möglich zu halten.**\n",
    "************************\n",
    "** 2) Output the string \"` blue is the sky.` \"using the indexing of the variable` x`. Try to keep the command as short as possible. **\n",
    "**************************\n",
    "** 2) أخرج السلسلة النصية \"` blue is the sky.` \"باستخدام فهرسة المتغير` x`. حاول أن تجعل الأمر قصيرًا قدر الإمكان. **"
   ]
  },
  {
   "cell_type": "code",
   "execution_count": 117,
   "metadata": {},
   "outputs": [
    {
     "name": "stdout",
     "output_type": "stream",
     "text": [
      "[1, 3, 5, 2, 4, 1, 3, 2, 'abc'] ['abc', 2, 3, 1, 4, 2, 5, 3, 1]\n",
      "blue is the sky.\n",
      "16\n"
     ]
    }
   ],
   "source": [
    "# Hier eigenen Code schreiben ...\n",
    "a = [1,3,5,2,4,1,3,2,'abc']\n",
    "\n",
    "print(a,a[::-1] )\n",
    "\n",
    "bb='blue is the sky.'\n",
    "\n",
    "print (bb[0:len(bb)],'\\n')\n",
    "print(len(bb))"
   ]
  },
  {
   "cell_type": "code",
   "execution_count": null,
   "metadata": {},
   "outputs": [],
   "source": []
  }
 ],
 "metadata": {
  "kernelspec": {
   "display_name": "Python 3",
   "language": "python",
   "name": "python3"
  },
  "language_info": {
   "codemirror_mode": {
    "name": "ipython",
    "version": 3
   },
   "file_extension": ".py",
   "mimetype": "text/x-python",
   "name": "python",
   "nbconvert_exporter": "python",
   "pygments_lexer": "ipython3",
   "version": "3.7.3"
  }
 },
 "nbformat": 4,
 "nbformat_minor": 4
}
