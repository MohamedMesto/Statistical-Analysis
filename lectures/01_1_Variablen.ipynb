{
 "cells": [
  {
   "cell_type": "markdown",
   "metadata": {},
   "source": [
    "# **Python für Ingenieure**\n",
    "<!-- Lizensiert unter (CC BY 2.0) Gert Herold, 2019 -->\n",
    "# 1. Variablen und Datentypen\n",
    "\n",
    "Um Werte im Programmverlauf zu speichern und abrufen zu können, werden Variablen verwendet. Der Name der Variable ist der Bezeichner, unter dem die Variable abgerufen werden kann. \n",
    "Eine Zuweisung sieht in Python so aus:\n",
    "`variablenname = wert`\n",
    "\n",
    "## 1.1. Einfache Datentypen\n",
    "\n",
    "***************************************************************\n",
    "# ** Python for engineers **\n",
    "<! - Licensed under (CC BY 2.0) Gert Herold, 2019 ->\n",
    "# 1. Variables and data types\n",
    "\n",
    "To store and retrieve values in the program, variables are used. The name of the variable is the identifier under which the variable can be retrieved.\n",
    "An assignment in Python looks like this:\n",
    "`variable name = value`\n",
    "\n",
    "## 1.1. Simple data types"
   ]
  },
  {
   "cell_type": "markdown",
   "metadata": {},
   "source": [
    "*integer*: Ganze Zahlen (positiv und negativ)"
   ]
  },
  {
   "cell_type": "code",
   "execution_count": 1,
   "metadata": {},
   "outputs": [
    {
     "name": "stdout",
     "output_type": "stream",
     "text": [
      "<class 'int'>\n",
      "3\n"
     ]
    }
   ],
   "source": [
    "a=3\n",
    "print(type(a))\n",
    "print(a)"
   ]
  },
  {
   "cell_type": "markdown",
   "metadata": {},
   "source": [
    "*float*: Fließkommazahlen"
   ]
  },
  {
   "cell_type": "code",
   "execution_count": 2,
   "metadata": {},
   "outputs": [
    {
     "name": "stdout",
     "output_type": "stream",
     "text": [
      "3.1\n"
     ]
    }
   ],
   "source": [
    "b=3.1\n",
    "type(b)\n",
    "print(b)"
   ]
  },
  {
   "cell_type": "code",
   "execution_count": 5,
   "metadata": {},
   "outputs": [
    {
     "name": "stdout",
     "output_type": "stream",
     "text": [
      "<class 'int'>\n",
      "4\n"
     ]
    }
   ],
   "source": []
  },
  {
   "cell_type": "markdown",
   "metadata": {},
   "source": [
    "*complex*: Komplexe Zahlen"
   ]
  },
  {
   "cell_type": "code",
   "execution_count": 5,
   "metadata": {},
   "outputs": [
    {
     "data": {
      "text/plain": [
       "complex"
      ]
     },
     "execution_count": 5,
     "metadata": {},
     "output_type": "execute_result"
    }
   ],
   "source": [
    "\n",
    "c=3.1+2j\n",
    "type(c)"
   ]
  },
  {
   "cell_type": "markdown",
   "metadata": {},
   "source": [
    "*string*: Zeichenketten\n",
    "\n",
    "* string *: strings"
   ]
  },
  {
   "cell_type": "code",
   "execution_count": 6,
   "metadata": {},
   "outputs": [
    {
     "data": {
      "text/plain": [
       "str"
      ]
     },
     "execution_count": 6,
     "metadata": {},
     "output_type": "execute_result"
    }
   ],
   "source": [
    "s = \"\"\n",
    "type(s)"
   ]
  },
  {
   "cell_type": "markdown",
   "metadata": {},
   "source": [
    "*boolean*: Boole'sche Variablen (wahr/falsch)"
   ]
  },
  {
   "cell_type": "code",
   "execution_count": 7,
   "metadata": {},
   "outputs": [
    {
     "data": {
      "text/plain": [
       "(True, bool)"
      ]
     },
     "execution_count": 7,
     "metadata": {},
     "output_type": "execute_result"
    }
   ],
   "source": [
    "d=(4>3)\n",
    "d, type(d)"
   ]
  },
  {
   "cell_type": "code",
   "execution_count": null,
   "metadata": {},
   "outputs": [],
   "source": []
  },
  {
   "cell_type": "markdown",
   "metadata": {},
   "source": [
    "### Mathematische Operatoren\n",
    "\n",
    "| Operator | Operation |\n",
    "| ---- | ----- |\n",
    "| `+`  | Addition   |\n",
    "| `-`  | Subtraktion | \n",
    "| `*` | Multiplikation |\n",
    "| `/` | Division |\n",
    "| `//` | Integerdivision |\n",
    "| `**` | Potenzierung |\n",
    "|  `%` | Restdivision |\n",
    "\n",
    "\n",
    "******************************\n",
    "### Mathematical operators\n",
    "\n",
    "| Operator | Operation |\n",
    "| ---- | ----- |\n",
    "| `+` | Addition |\n",
    "| `-` | Subtraction |\n",
    "| `*` | Multiplication |\n",
    "| `/` | Division |\n",
    "| `//` | Integer division |\n",
    "| `**` | Exponentiation |\n",
    "| `%` | Remaining division |"
   ]
  },
  {
   "cell_type": "code",
   "execution_count": 15,
   "metadata": {},
   "outputs": [
    {
     "name": "stdout",
     "output_type": "stream",
     "text": [
      "4.5 <class 'float'>\n",
      "8.0\n",
      "1.3333333333333333\n",
      "1\n"
     ]
    }
   ],
   "source": [
    "a=4\n",
    "b=0.5\n",
    "c=3\n",
    "z=a+b\n",
    "print(z, type(z))\n",
    "print(a//b)\n",
    "print(a/c)\n",
    "print(a//c)"
   ]
  },
  {
   "cell_type": "markdown",
   "metadata": {},
   "source": [
    "## Übung\n",
    "**1) Untersuchen Sie, welche Ergebnisse die Addition & Multiplikation zweier Variablen unterschiedlichen Typs haben:**\n",
    "* integer, float\n",
    "* complex, float\n",
    "* string, string\n",
    "* integer, boolean\n",
    "* integer, string\n",
    "\n",
    "Überlegen Sie vor der Ausführung, welches Ergebnis Sie erwarten würden."
   ]
  },
  {
   "cell_type": "code",
   "execution_count": 24,
   "metadata": {},
   "outputs": [
    {
     "name": "stdout",
     "output_type": "stream",
     "text": [
      "16.2\n",
      "41.6\n",
      "13\n",
      "haloohaloohaloohaloohaloohaloohaloohaloohaloohaloohaloohaloohaloo\n"
     ]
    },
    {
     "ename": "TypeError",
     "evalue": "can only concatenate str (not \"int\") to str",
     "output_type": "error",
     "traceback": [
      "\u001b[0;31m---------------------------------------------------------------------------\u001b[0m",
      "\u001b[0;31mTypeError\u001b[0m                                 Traceback (most recent call last)",
      "\u001b[0;32m<ipython-input-24-ce66afab0705>\u001b[0m in \u001b[0;36m<module>\u001b[0;34m\u001b[0m\n\u001b[1;32m      9\u001b[0m \u001b[0mprint\u001b[0m\u001b[0;34m(\u001b[0m\u001b[0mx\u001b[0m\u001b[0;34m+\u001b[0m\u001b[0mp\u001b[0m\u001b[0;34m)\u001b[0m\u001b[0;34m\u001b[0m\u001b[0;34m\u001b[0m\u001b[0m\n\u001b[1;32m     10\u001b[0m \u001b[0mprint\u001b[0m\u001b[0;34m(\u001b[0m\u001b[0mq\u001b[0m\u001b[0;34m*\u001b[0m\u001b[0mx\u001b[0m\u001b[0;34m)\u001b[0m\u001b[0;34m\u001b[0m\u001b[0;34m\u001b[0m\u001b[0m\n\u001b[0;32m---> 11\u001b[0;31m \u001b[0mprint\u001b[0m\u001b[0;34m(\u001b[0m\u001b[0mq\u001b[0m\u001b[0;34m+\u001b[0m\u001b[0mx\u001b[0m\u001b[0;34m)\u001b[0m\u001b[0;34m\u001b[0m\u001b[0;34m\u001b[0m\u001b[0m\n\u001b[0m\u001b[1;32m     12\u001b[0m \u001b[0;34m\u001b[0m\u001b[0m\n\u001b[1;32m     13\u001b[0m \u001b[0;34m\u001b[0m\u001b[0m\n",
      "\u001b[0;31mTypeError\u001b[0m: can only concatenate str (not \"int\") to str"
     ]
    }
   ],
   "source": [
    "q=\"haloo\"\n",
    "p=(4>7)\n",
    "x=13\n",
    "y=3.2\n",
    "z=x+y\n",
    "y=x*y\n",
    "print(z)\n",
    "print(y)\n",
    "print(x+p)\n",
    "print(q*x)\n",
    "print(q+x)\n",
    "\n",
    "\n",
    "\n"
   ]
  },
  {
   "cell_type": "markdown",
   "metadata": {},
   "source": [
    "#wichtig\n",
    "\n",
    "Für ein Beispiel die folgende Zelle öffnen."
   ]
  },
  {
   "cell_type": "code",
   "execution_count": 19,
   "metadata": {},
   "outputs": [
    {
     "name": "stdout",
     "output_type": "stream",
     "text": [
      "3 Hallo\n"
     ]
    },
    {
     "data": {
      "text/plain": [
       "'HalloHalloHallo'"
      ]
     },
     "execution_count": 19,
     "metadata": {},
     "output_type": "execute_result"
    }
   ],
   "source": [
    "a=3\n",
    "b='Hallo'\n",
    "print(a,b)\n",
    "a*b"
   ]
  },
  {
   "cell_type": "markdown",
   "metadata": {},
   "source": [
    "**2) Berechnen Sie Umfang und Flächeninhalt eines rechtwinkligen Dreiecks, dessen kurze Seiten 2 und 3 Zentimeter lang sind:**\n",
    "**********************\n",
    "2) Calculate the perimeter and area of a right triangle whose short sides are 2 and 3 centimeters long:"
   ]
  },
  {
   "cell_type": "code",
   "execution_count": 21,
   "metadata": {},
   "outputs": [
    {
     "name": "stdout",
     "output_type": "stream",
     "text": [
      "18\n"
     ]
    }
   ],
   "source": [
    "\n",
    " a = 2\n",
    "b = 3\n",
    "d =  0\n",
    "# Hier eigenen Code schreiben ...\n",
    "c = a*b**2\n",
    "print (c)"
   ]
  },
  {
   "cell_type": "code",
   "execution_count": 22,
   "metadata": {},
   "outputs": [
    {
     "name": "stdout",
     "output_type": "stream",
     "text": [
      "18\n"
     ]
    }
   ],
   "source": [
    "\n",
    "\n",
    " a = 2\n",
    "b = 3\n",
    "d =  0\n",
    "# Hier eigenen Code schreiben ...\n",
    "c = a*b**2\n",
    "print (c)"
   ]
  },
  {
   "cell_type": "code",
   "execution_count": null,
   "metadata": {},
   "outputs": [],
   "source": []
  }
 ],
 "metadata": {
  "kernelspec": {
   "display_name": "Python 3",
   "language": "python",
   "name": "python3"
  },
  "language_info": {
   "codemirror_mode": {
    "name": "ipython",
    "version": 3
   },
   "file_extension": ".py",
   "mimetype": "text/x-python",
   "name": "python",
   "nbconvert_exporter": "python",
   "pygments_lexer": "ipython3",
   "version": "3.7.3"
  }
 },
 "nbformat": 4,
 "nbformat_minor": 4
}
