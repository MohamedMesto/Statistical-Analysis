{
 "cells": [
  {
   "cell_type": "markdown",
   "metadata": {},
   "source": [
    "# **Python für Ingenieure**    ****Wichtig \n",
    "<!-- Lizensiert unter (CC BY 2.0) Gert Herold, 2019 -->\n",
    "# 5. Module\n",
    "\n",
    "Module sind Dateien, in denen unter anderem Funktionen und Variablen definiert werden, um sie später zur einfachen Verwendung zur Verfügung zu stellen.\n",
    "Eine Liste der in der aktuellen Python-Umgebung installierten Module lässt sich abbrufen:\n",
    "*************************************************\n",
    "Modules are files in which, among other things, functions and variables are defined so that they can later be made available for easy use.\n",
    "A list of the modules installed in the current Python environment can be called up:\n",
    "\n",
    "\n",
    "\n"
   ]
  },
  {
   "cell_type": "code",
   "execution_count": 1,
   "metadata": {},
   "outputs": [
    {
     "name": "stdout",
     "output_type": "stream",
     "text": [
      "\n",
      "Please wait a moment while I gather a list of all available modules...\n",
      "\n"
     ]
    },
    {
     "name": "stderr",
     "output_type": "stream",
     "text": [
      "/home/redstar/anaconda3/lib/python3.7/site-packages/IPython/kernel/__init__.py:13: ShimWarning: The `IPython.kernel` package has been deprecated since IPython 4.0.You should import from ipykernel or jupyter_client instead.\n",
      "  \"You should import from ipykernel or jupyter_client instead.\", ShimWarning)\n",
      "WARNING: AstropyDeprecationWarning: astropy.utils.compat.futures is now deprecated - use concurrent.futures instead [astropy.utils.compat.futures]\n",
      "/home/redstar/anaconda3/lib/python3.7/site-packages/nltk/twitter/__init__.py:22: UserWarning: The twython library has not been installed. Some functionality from the twitter package will not be available.\n",
      "  \"The twython library has not been installed. \"\n"
     ]
    },
    {
     "name": "stdout",
     "output_type": "stream",
     "text": [
      "DEBUG:pip._internal.vcs:Registered VCS backend: git\n",
      "DEBUG:pip._internal.vcs:Registered VCS backend: hg\n",
      "DEBUG:pip._internal.vcs:Registered VCS backend: svn\n",
      "DEBUG:pip._internal.vcs:Registered VCS backend: bzr\n"
     ]
    },
    {
     "name": "stderr",
     "output_type": "stream",
     "text": [
      "/home/redstar/anaconda3/lib/python3.7/site-packages/skimage/novice/__init__.py:103: UserWarning: The `skimage.novice` module was deprecated in version 0.14. It will be removed in 0.16.\n",
      "  warnings.warn(\"The `skimage.novice` module was deprecated in version 0.14. \"\n",
      "/home/redstar/anaconda3/lib/python3.7/site-packages/skimage/viewer/utils/core.py:10: UserWarning: Recommended matplotlib backend is `Agg` for full skimage.viewer functionality.\n",
      "  warn(\"Recommended matplotlib backend is `Agg` for full \"\n",
      "/home/redstar/anaconda3/lib/python3.7/site-packages/sklearn/externals/joblib/__init__.py:15: DeprecationWarning: sklearn.externals.joblib is deprecated in 0.21 and will be removed in 0.23. Please import this functionality directly from joblib, which can be installed with: pip install joblib. If this warning is raised when loading pickled models, you may need to re-serialize those models with scikit-learn 0.21+.\n",
      "  warnings.warn(msg, category=DeprecationWarning)\n",
      "/home/redstar/anaconda3/lib/python3.7/pkgutil.py:107: VisibleDeprecationWarning: zmq.eventloop.minitornado is deprecated in pyzmq 14.0 and will be removed.\n",
      "    Install tornado itself to use zmq with the tornado IOLoop.\n",
      "    \n",
      "  yield from walk_packages(path, info.name+'.', onerror)\n"
     ]
    },
    {
     "name": "stdout",
     "output_type": "stream",
     "text": [
      "Crypto              brain_multiprocessing jsonschema          rmagic\n",
      "Cython              brain_namedtuple_enum jupyter             rope\n",
      "IPython             brain_nose          jupyter_client      ruamel_yaml\n",
      "OpenSSL             brain_numpy         jupyter_console     runpy\n",
      "PIL                 brain_pkg_resources jupyter_core        sched\n",
      "PyQt5               brain_pytest        jupyterlab          scipy\n",
      "__future__          brain_qt            jupyterlab_server   scripts\n",
      "_abc                brain_random        keyring             seaborn\n",
      "_ast                brain_re            keyword             secrets\n",
      "_asyncio            brain_six           kiwisolver          secretstorage\n",
      "_bisect             brain_ssl           lazy_object_proxy   select\n",
      "_blake2             brain_subprocess    lib2to3             selectors\n",
      "_bootlocale         brain_threading     libarchive          send2trash\n",
      "_bz2                brain_typing        libfuturize         setuptools\n",
      "_cffi_backend       brain_uuid          libpasteurize       shelve\n",
      "_codecs             bs4                 lief                shlex\n",
      "_codecs_cn          builtins            linecache           shutil\n",
      "_codecs_hk          bz2                 llvmlite            signal\n",
      "_codecs_iso2022     cProfile            locale              simplegeneric\n",
      "_codecs_jp          calendar            locket              singledispatch\n",
      "_codecs_kr          certifi             logging             singledispatch_helpers\n",
      "_codecs_tw          cffi                lxml                sip\n",
      "_collections        cgi                 lzma                sipconfig\n",
      "_collections_abc    cgitb               macpath             sipdistutils\n",
      "_compat_pickle      chardet             mailbox             site\n",
      "_compression        chunk               mailcap             six\n",
      "_contextvars        click               markupsafe          skimage\n",
      "_crypt              cloudpickle         marshal             sklearn\n",
      "_csv                clyent              math                smtpd\n",
      "_ctypes             cmath               matplotlib          smtplib\n",
      "_ctypes_test        cmd                 mccabe              sndhdr\n",
      "_curses             code                mimetypes           snowballstemmer\n",
      "_curses_panel       codecs              mistune             socket\n",
      "_datetime           codeop              mkl                 socketserver\n",
      "_decimal            collections         mkl_fft             socks\n",
      "_dummy_thread       colorama            mkl_random          sockshandler\n",
      "_elementtree        colorsys            mmap                sortedcollections\n",
      "_functools          compileall          mock                sortedcontainers\n",
      "_hashlib            concurrent          modulefinder        soupsieve\n",
      "_heapq              conda               more_itertools      sphinx\n",
      "_imp                conda_build         mpmath              sphinxcontrib\n",
      "_io                 conda_env           msgpack             spwd\n",
      "_json               conda_package_handling multipledispatch    spyder\n",
      "_locale             conda_verify        multiprocessing     spyder_breakpoints\n",
      "_lsprof             configparser        navigator_updater   spyder_io_dcm\n",
      "_lzma               contextlib          nbconvert           spyder_io_hdf5\n",
      "_markupbase         contextlib2         nbformat            spyder_kernels\n",
      "_md5                contextvars         netrc               spyder_profiler\n",
      "_multibytecodec     copy                networkx            spyder_pylint\n",
      "_multiprocessing    copyreg             nis                 sqlalchemy\n",
      "_opcode             crypt               nltk                sqlite3\n",
      "_operator           cryptography        nntplib             sre_compile\n",
      "_osx_support        csv                 nose                sre_constants\n",
      "_pickle             ctypes              notebook            sre_parse\n",
      "_posixsubprocess    curl                ntpath              ssl\n",
      "_py_abc             curses              nturl2path          stat\n",
      "_pydecimal          cv2                 numba               statistics\n",
      "_pyio               cycler              numbers             statsmodels\n",
      "_pylief             cython              numexpr             storemagic\n",
      "_pyrsistent_version cythonmagic         numpy               string\n",
      "_pytest             cytoolz             numpydoc            stringprep\n",
      "_queue              dask                olefile             struct\n",
      "_random             dataclasses         opcode              subprocess\n",
      "_sha1               datetime            openpyxl            sunau\n",
      "_sha256             dateutil            operator            symbol\n",
      "_sha3               dbm                 optparse            sympy\n",
      "_sha512             decimal             os                  sympyprinting\n",
      "_signal             decorator           ossaudiodev         symtable\n",
      "_sitebuiltins       defusedxml          packaging           sys\n",
      "_socket             difflib             pandas              sysconfig\n",
      "_sqlite3            dis                 pandocfilters       syslog\n",
      "_sre                distributed         parser              tables\n",
      "_ssl                distutils           parso               tabnanny\n",
      "_stat               doctest             partd               tarfile\n",
      "_string             docutils            past                tblib\n",
      "_strptime           dummy_threading     path                telnetlib\n",
      "_struct             easy_install        pathlib             tempfile\n",
      "_symtable           email               pathlib2            terminado\n",
      "_sysconfigdata_i686_conda_cos6_linux_gnu encodings           patsy               termios\n",
      "_sysconfigdata_m_linux_x86_64-linux-gnu ensurepip           pdb                 test\n",
      "_sysconfigdata_powerpc64le_conda_cos7_linux_gnu entrypoints         pep8                test_data\n",
      "_sysconfigdata_x86_64_apple_darwin13_4_0 enum                pexpect             test_pycosat\n",
      "_sysconfigdata_x86_64_conda_cos6_linux_gnu errno               pickle              testpath\n",
      "_testbuffer         et_xmlfile          pickleshare         tests\n",
      "_testcapi           fastcache           pickletools         textwrap\n",
      "_testimportmultiple faulthandler        pip                 this\n",
      "_testmultiphase     fcntl               pipes               threading\n",
      "_thread             filecmp             pkg_resources       time\n",
      "_threading_local    fileinput           pkginfo             timeit\n",
      "_tkinter            filelock            pkgutil             tkinter\n",
      "_tracemalloc        flask               platform            tlz\n",
      "_warnings           fnmatch             plistlib            token\n",
      "_weakref            formatter           pluggy              tokenize\n",
      "_weakrefset         fractions           ply                 toolz\n",
      "_xxtestfuzz         ftplib              poplib              tornado\n",
      "_yaml               functools           posix               tqdm\n",
      "abc                 future              posixpath           trace\n",
      "aifc                gc                  pprint              traceback\n",
      "alabaster           genericpath         profile             tracemalloc\n",
      "anaconda_navigator  getopt              prometheus_client   traitlets\n",
      "anaconda_project    getpass             prompt_toolkit      tty\n",
      "antigravity         gettext             pstats              turtle\n",
      "argparse            gevent              psutil              turtledemo\n",
      "array               glob                pty                 types\n",
      "asn1crypto          glob2               ptyprocess          typing\n",
      "ast                 gmpy2               pvectorc            unicodecsv\n",
      "astroid             greenlet            pwd                 unicodedata\n",
      "astropy             grp                 py                  unittest\n",
      "asynchat            gzip                py_compile          urllib\n",
      "asyncio             h5py                pyclbr              urllib3\n",
      "asyncore            hashlib             pycodestyle         uu\n",
      "atexit              heapdict            pycosat             uuid\n",
      "atomicwrites        heapq               pycparser           venv\n",
      "attr                hmac                pycurl              warnings\n",
      "audioop             html                pydoc               wave\n",
      "autoreload          html5lib            pydoc_data          wcwidth\n",
      "babel               http                pyexpat             weakref\n",
      "backcall            idlelib             pyflakes            webbrowser\n",
      "backports           idna                pygments            webencodings\n",
      "base64              imageio             pylab               werkzeug\n",
      "bdb                 imagesize           pylint              wheel\n",
      "binascii            imaplib             pyodbc              widgetsnbextension\n",
      "binhex              imghdr              pyparsing           wort\n",
      "binstar_client      imp                 pyrsistent          wrapt\n",
      "bisect              importlib           pytest              wsgiref\n",
      "bitarray            importlib_metadata  pytest_arraydiff    wurlitzer\n",
      "bkcharts            inspect             pytest_doctestplus  xdrlib\n",
      "bleach              io                  pytest_openfiles    xlrd\n",
      "bokeh               ipaddress           pytest_remotedata   xlsxwriter\n",
      "boto                ipykernel           pytz                xlwt\n",
      "bottleneck          ipykernel_launcher  pywt                xml\n",
      "brain_argparse      ipython_genutils    pyximport           xmlrpc\n",
      "brain_attrs         ipywidgets          qtawesome           xxlimited\n",
      "brain_builtin_inference isort               qtconsole           xxsubtype\n",
      "brain_collections   isympy              qtpy                yaml\n",
      "brain_curses        itertools           queue               zict\n",
      "brain_dateutil      itsdangerous        quopri              zipapp\n",
      "brain_fstrings      jdcal               random              zipfile\n",
      "brain_functools     jedi                re                  zipimport\n",
      "brain_gi            jeepney             readline            zipp\n",
      "brain_hashlib       jinja2              reprlib             zlib\n",
      "brain_http          joblib              requests            zmq\n",
      "brain_io            json                resource            \n",
      "brain_mechanize     json5               rlcompleter         \n",
      "\n",
      "Enter any module name to get more help.  Or, type \"modules spam\" to search\n",
      "for modules whose name or summary contain the string \"spam\".\n",
      "\n",
      "DEBUG:matplotlib.pyplot:Loaded backend module://ipykernel.pylab.backend_inline version unknown.\n"
     ]
    }
   ],
   "source": [
    "help(\"modules\")"
   ]
  },
  {
   "cell_type": "code",
   "execution_count": 3,
   "metadata": {},
   "outputs": [
    {
     "data": {
      "text/plain": [
       "'Schön'"
      ]
     },
     "execution_count": 3,
     "metadata": {},
     "output_type": "execute_result"
    }
   ],
   "source": [
    "import wort\n",
    "wort.nice"
   ]
  },
  {
   "cell_type": "markdown",
   "metadata": {},
   "source": [
    "## 5.1. Import von Modulen\n",
    "\n",
    "Um die Funktionalitäten eines Moduls zu verwenden, muss dieses importiert werden:"
   ]
  },
  {
   "cell_type": "code",
   "execution_count": 4,
   "metadata": {},
   "outputs": [
    {
     "data": {
      "text/plain": [
       "'Guten Tag.'"
      ]
     },
     "execution_count": 4,
     "metadata": {},
     "output_type": "execute_result"
    }
   ],
   "source": [
    "import wort\n",
    "wort.hallo"
   ]
  },
  {
   "cell_type": "code",
   "execution_count": 5,
   "metadata": {},
   "outputs": [
    {
     "data": {
      "text/plain": [
       "'Guten Tag.'"
      ]
     },
     "execution_count": 5,
     "metadata": {},
     "output_type": "execute_result"
    }
   ],
   "source": [
    "import wort as wt\n",
    "wt.hallo"
   ]
  },
  {
   "cell_type": "code",
   "execution_count": 5,
   "metadata": {},
   "outputs": [
    {
     "data": {
      "text/plain": [
       "'Guten Tag.'"
      ]
     },
     "execution_count": 5,
     "metadata": {},
     "output_type": "execute_result"
    }
   ],
   "source": [
    "from wort import hallo\n",
    "hallo"
   ]
  },
  {
   "cell_type": "code",
   "execution_count": 6,
   "metadata": {},
   "outputs": [
    {
     "data": {
      "text/plain": [
       "'Guten Tag.'"
      ]
     },
     "execution_count": 6,
     "metadata": {},
     "output_type": "execute_result"
    }
   ],
   "source": [
    "from wort import hallo as moin\n",
    "moin"
   ]
  },
  {
   "cell_type": "code",
   "execution_count": 7,
   "metadata": {},
   "outputs": [
    {
     "data": {
      "text/plain": [
       "'Lorem ipsum dolor sit amet, consectetur adipiscing elit, sed do eiusmod tempor incididunt ut labore et dolore magna aliqua. Ut enim ad minim veniam, quis nostrud exercitation ullamco laboris nisi ut aliquip ex ea commodo consequat. Duis aute irure dolor in reprehenderit in voluptate velit esse cillum dolore eu fugiat nulla pariatur. Excepteur sint occaecat cupidatat non proident, sunt in culpa qui officia deserunt mollit anim id est laborum. Curabitur pretium tincidunt lacus. Nulla gravida orci a odio. Nullam varius, turpis et commodo pharetra, est eros bibendum elit, nec luctus magna felis sollicitudin mauris. Integer in mauris eu nibh euismod gravida. Duis ac tellus et risus vulputate vehicula. Donec lobortis risus a elit. Etiam tempor. Ut ullamcorper, ligula eu tempor congue, eros est euismod turpis, id tincidunt sapien risus a quam. Maecenas fermentum consequat mi. Donec fermentum. Pellentesque malesuada nulla a mi. Duis sapien sem, aliquet nec, commodo eget, consequat quis, neque. Aliquam aucibus, elit ut dictum aliquet, felis nisl adipiscing sapien, sed malesuada diam lacus eget erat. Cras mollis scelerisque nunc. Nullam arcu. Aliquam consequat. Curabitur augue lorem, dapibus quis, laoreet et, pretium ac, nisi. Aenean magna nisl, mollis quis, molestie eu, feugiat in, orci. In hac habitasse platea dictumst.'"
      ]
     },
     "execution_count": 7,
     "metadata": {},
     "output_type": "execute_result"
    }
   ],
   "source": [
    "from wort import *\n",
    "lorem"
   ]
  },
  {
   "cell_type": "code",
   "execution_count": 13,
   "metadata": {},
   "outputs": [
    {
     "name": "stdout",
     "output_type": "stream",
     "text": [
      "anzahl_vokale sind 490\n",
      "anzahl_woerter 201\n",
      "anzahl_konsonanten 595\n"
     ]
    }
   ],
   "source": [
    "###Wichtig###   anzahl_vokale\n",
    "\n",
    "\n",
    "print('anzahl_vokale sind',anzahl_vokale(lorem))\n",
    "print('anzahl_woerter',anzahl_woerter(lorem))\n",
    "print('anzahl_konsonanten',anzahl_konsonanten(lorem))\n",
    "\n"
   ]
  },
  {
   "cell_type": "code",
   "execution_count": null,
   "metadata": {},
   "outputs": [],
   "source": []
  },
  {
   "cell_type": "code",
   "execution_count": null,
   "metadata": {},
   "outputs": [],
   "source": []
  },
  {
   "cell_type": "markdown",
   "metadata": {},
   "source": [
    "###wichtig###\n",
    "********************\n",
    "\n",
    "## 5.2. Standardmodule   \n",
    "\n",
    "Bei jeder Python-Installation werden einige Module standardmäßig mitgeliefert. \n",
    "Eine ausführliche Beschreibung der Module und ihrer Funktionalitäten findet sich unter https://docs.python.org/3/library/.\n",
    "Einige Beispiele im Folgenden:\n",
    "\n",
    "\n",
    "************************************************************\n",
    "\n",
    "## 5.2. standard modules\n",
    "\n",
    "Each Python installation includes some modules as standard.\n",
    "A detailed description of the modules and their functionalities can be found at https://docs.python.org/3/library/.\n",
    "Some examples below:"
   ]
  },
  {
   "cell_type": "markdown",
   "metadata": {},
   "source": [
    "### 5.2.1 [`os`](https://docs.python.org/3/library/os.html)\n",
    "Arbeiten im Dateisystem\n",
    "\n",
    "************************\n",
    "### 5.2.1 [`os`] (https://docs.python.org/3/library/os.html)\n",
    "Working in the file system\n",
    "cwd: current work directory"
   ]
  },
  {
   "cell_type": "code",
   "execution_count": 46,
   "metadata": {},
   "outputs": [
    {
     "name": "stdout",
     "output_type": "stream",
     "text": [
      "/home/redstar/python_für_Ing/gelernt\n"
     ]
    }
   ],
   "source": [
    "import os \n",
    "path=os.getcwd()\n",
    "print(path)"
   ]
  },
  {
   "cell_type": "code",
   "execution_count": null,
   "metadata": {},
   "outputs": [],
   "source": []
  },
  {
   "cell_type": "code",
   "execution_count": 47,
   "metadata": {},
   "outputs": [
    {
     "data": {
      "text/plain": [
       "['05_Module.ipynb',\n",
       " '00_Jupyter.ipynb',\n",
       " 'HA2-5-AK.jpeg',\n",
       " 'HA2-abgeben.ipynb',\n",
       " '01_2_Sequentielle_Datentypen.ipynb',\n",
       " '04_3_Übungsaufgaben.ipynb',\n",
       " '.ipynb_checkpoints',\n",
       " '01_1_Variablen.ipynb',\n",
       " 'wort.py',\n",
       " '03_Funktionen.ipynb',\n",
       " 'HA2_LS.ipynb',\n",
       " 'HA1 (copy).ipynb',\n",
       " '__pycache__',\n",
       " '04_Noch_mehr_Funktionen.ipynb',\n",
       " 'HA2-3-Ja.jpeg',\n",
       " 'HA1.ipynb',\n",
       " '02_Kontrollstrukturen.ipynb',\n",
       " 'HA2.ipynb']"
      ]
     },
     "execution_count": 47,
     "metadata": {},
     "output_type": "execute_result"
    }
   ],
   "source": [
    "import os\n",
    "os.getcwd()\n",
    "#path=None\n",
    "fnames = os.listdir(path1)\n",
    "fnames"
   ]
  },
  {
   "cell_type": "code",
   "execution_count": 32,
   "metadata": {},
   "outputs": [
    {
     "name": "stdout",
     "output_type": "stream",
     "text": [
      "['05_Module.ipynb', '00_Jupyter.ipynb', 'HA2-5-AK.jpeg', 'HA2-abgeben.ipynb', '01_2_Sequentielle_Datentypen.ipynb', '04_3_Übungsaufgaben.ipynb', '.ipynb_checkpoints', '01_1_Variablen.ipynb', 'wort.py', '03_Funktionen.ipynb', 'HA2_LS.ipynb', 'HA1 (copy).ipynb', '__pycache__', '04_Noch_mehr_Funktionen.ipynb', 'HA2-3-Ja.jpeg', 'HA1.ipynb', '02_Kontrollstrukturen.ipynb', 'HA2.ipynb']\n"
     ]
    }
   ],
   "source": [
    "import os\n",
    "os.getcwd()\n",
    "#path=None\n",
    "fnames = os.listdir(path1)\n",
    "print(fnames)"
   ]
  },
  {
   "cell_type": "code",
   "execution_count": 33,
   "metadata": {},
   "outputs": [
    {
     "data": {
      "text/plain": [
       "'/home/redstar/python_für_Ing/gelernt'"
      ]
     },
     "execution_count": 33,
     "metadata": {},
     "output_type": "execute_result"
    }
   ],
   "source": [
    "os.getcwd()   #Return a string representing the current working directory."
   ]
  },
  {
   "cell_type": "code",
   "execution_count": 34,
   "metadata": {},
   "outputs": [
    {
     "data": {
      "text/plain": [
       "['05_Module.ipynb',\n",
       " '00_Jupyter.ipynb',\n",
       " 'HA2-5-AK.jpeg',\n",
       " 'HA2-abgeben.ipynb',\n",
       " '01_2_Sequentielle_Datentypen.ipynb',\n",
       " '04_3_Übungsaufgaben.ipynb',\n",
       " '.ipynb_checkpoints',\n",
       " '01_1_Variablen.ipynb',\n",
       " 'wort.py',\n",
       " '03_Funktionen.ipynb',\n",
       " 'HA2_LS.ipynb',\n",
       " 'HA1 (copy).ipynb',\n",
       " '__pycache__',\n",
       " '04_Noch_mehr_Funktionen.ipynb',\n",
       " 'HA2-3-Ja.jpeg',\n",
       " 'HA1.ipynb',\n",
       " '02_Kontrollstrukturen.ipynb',\n",
       " 'HA2.ipynb']"
      ]
     },
     "execution_count": 34,
     "metadata": {},
     "output_type": "execute_result"
    }
   ],
   "source": [
    "os.listdir()"
   ]
  },
  {
   "cell_type": "markdown",
   "metadata": {},
   "source": [
    "Verzeichnisse erstellen, umbennen und entfernen:"
   ]
  },
  {
   "cell_type": "code",
   "execution_count": 35,
   "metadata": {},
   "outputs": [],
   "source": [
    "os.mkdir('Ein_neuer_Ordner')"
   ]
  },
  {
   "cell_type": "code",
   "execution_count": 36,
   "metadata": {},
   "outputs": [],
   "source": [
    "os.rename('Ein_neuer_Ordner', 'ABCDEFG')"
   ]
  },
  {
   "cell_type": "code",
   "execution_count": 37,
   "metadata": {},
   "outputs": [],
   "source": [
    "os.rmdir('ABCDEFG')"
   ]
  },
  {
   "cell_type": "markdown",
   "metadata": {},
   "source": [
    "Datei erstellen und entfernen (für das Erstellen/Überschreiben von Dateien ist kein Modulimport notwendig);\n",
    "\n",
    "**************************\n",
    "Create and remove a file (no module import is required to create / overwrite files);"
   ]
  },
  {
   "cell_type": "code",
   "execution_count": 4,
   "metadata": {},
   "outputs": [],
   "source": [
    "import os\n",
    "datei = open('12345.txt', 'w')\n",
    "datei.write('Ein bisschen Text.\\n')\n",
    "path2=os.getcwd()\n",
    "datei.write(path2)\n",
    "#datei.write(path2[0])\n",
    "datei.close()\n"
   ]
  },
  {
   "cell_type": "code",
   "execution_count": 3,
   "metadata": {},
   "outputs": [],
   "source": [
    "os.remove('12345.abc')"
   ]
  },
  {
   "cell_type": "code",
   "execution_count": 38,
   "metadata": {},
   "outputs": [],
   "source": [
    "datei = open('22222.abc', 'w')\n",
    "datei.write('Ein bisschen Text.\\n')\n",
    "datei.write(os.listdir()[0])\n",
    "datei.close()\n",
    "\n",
    "\n",
    "# os.write(fd, str)\n",
    "\n",
    "    #Write the bytestring in str to file descriptor fd\n"
   ]
  },
  {
   "cell_type": "code",
   "execution_count": 68,
   "metadata": {},
   "outputs": [],
   "source": [
    "os.remove('22222.abc')"
   ]
  },
  {
   "cell_type": "markdown",
   "metadata": {},
   "source": [
    "### 5.2.2 [`glob`](https://docs.python.org/3/library/glob.html)\n",
    "\n",
    "Dateilisten filtern.\n",
    "\n",
    "***********************\n",
    "### Wichtig ###\n",
    "### 5.2.2 [`glob`] (https://docs.python.org/3/library/glob.html)\n",
    "\n",
    "Filter file lists."
   ]
  },
  {
   "cell_type": "code",
   "execution_count": 72,
   "metadata": {},
   "outputs": [
    {
     "data": {
      "text/plain": [
       "['HA1.ipynb', 'HA2.ipynb']"
      ]
     },
     "execution_count": 72,
     "metadata": {},
     "output_type": "execute_result"
    }
   ],
   "source": [
    "import glob\n",
    "glob.glob(\"HA?.*\")"
   ]
  },
  {
   "cell_type": "code",
   "execution_count": 74,
   "metadata": {},
   "outputs": [
    {
     "data": {
      "text/plain": [
       "['wort.py']"
      ]
     },
     "execution_count": 74,
     "metadata": {},
     "output_type": "execute_result"
    }
   ],
   "source": [
    "import glob\n",
    "glob.glob(\"*.py\")"
   ]
  },
  {
   "cell_type": "markdown",
   "metadata": {},
   "source": [
    "### 5.2.3 [`math`](https://docs.python.org/3/library/math.html)\n",
    "\n",
    "Mathematische Funktionen und Konstanten"
   ]
  },
  {
   "cell_type": "code",
   "execution_count": 75,
   "metadata": {},
   "outputs": [
    {
     "data": {
      "text/plain": [
       "(0.7071067811865475, 3.0)"
      ]
     },
     "execution_count": 75,
     "metadata": {},
     "output_type": "execute_result"
    }
   ],
   "source": [
    "from math import pi,sin,sqrt\n",
    "\n",
    "sin(pi/4), sqrt(9)"
   ]
  },
  {
   "cell_type": "markdown",
   "metadata": {},
   "source": [
    "### 5.2.4 [`random`](https://docs.python.org/3/library/random.html)\n",
    "\n",
    "Zufallszahlen und mehr."
   ]
  },
  {
   "cell_type": "code",
   "execution_count": 78,
   "metadata": {},
   "outputs": [],
   "source": [
    "import random"
   ]
  },
  {
   "cell_type": "markdown",
   "metadata": {},
   "source": [
    "Gleichverteilte Zufallszahl zwischen 0 und 1:\n",
    "***\n",
    "Uniformly distributed random number between 0 and 1:\n",
    "***\n",
    "رقم عشوائي موزع بشكل موحد بين 0 و 1:"
   ]
  },
  {
   "cell_type": "code",
   "execution_count": 91,
   "metadata": {},
   "outputs": [
    {
     "name": "stdout",
     "output_type": "stream",
     "text": [
      "None\n",
      "0.5029433536577004\n"
     ]
    }
   ],
   "source": [
    "print(random.seed())\n",
    "print(random.random())\n"
   ]
  },
  {
   "cell_type": "markdown",
   "metadata": {},
   "source": [
    "### Wichtig ###\n",
    "Liste zufällig umsortieren:\n",
    "************\n",
    "Sort list randomly:\n",
    "***\n"
   ]
  },
  {
   "cell_type": "code",
   "execution_count": 90,
   "metadata": {},
   "outputs": [
    {
     "name": "stdout",
     "output_type": "stream",
     "text": [
      "[8, 3, 7, 5, 1, 6, 4, 2]\n"
     ]
    }
   ],
   "source": [
    "import random\n",
    "a = [1,2,3,4,5,6,7,8]\n",
    "random.shuffle(a)\n",
    "print(a)\n",
    "#print(print( os.urandom(9)))"
   ]
  },
  {
   "cell_type": "markdown",
   "metadata": {},
   "source": [
    "Zufällige Ganzzahl zwischen 5 und (inkl.) 20:\n",
    "*******************\n",
    "Random integer between 5 and (including) 20:"
   ]
  },
  {
   "cell_type": "code",
   "execution_count": 94,
   "metadata": {},
   "outputs": [
    {
     "data": {
      "text/plain": [
       "7"
      ]
     },
     "execution_count": 94,
     "metadata": {},
     "output_type": "execute_result"
    }
   ],
   "source": [
    "random.randint(5,20)"
   ]
  },
  {
   "cell_type": "markdown",
   "metadata": {},
   "source": [
    "## Übung\n",
    "\n",
    "**1) In beiden Modulen (wort, math) wird eine Variable `pi` definiert. Beide sollen im Programm verwendet werden. Testen Sie, welche Auswirkungen ein Austausch der ersten beiden Zeilen für die Ausgabe hat. Wie kann das Programm für eine sinnvolle Ausgabe abgeändert werden?**\n",
    "**************************\n",
    "## exercise\n",
    "\n",
    "** 1) A variable `pi` is defined in both modules (word, math). Both should be used in the program. Test the effects of swapping the first two lines on the output. How can the program be modified for a meaningful edition? **\n",
    "***\n",
    "** 1) يتم تعريف المتغير \"pi\" في كلا الوحدتين (كلمة ، رياضيات). يجب استخدام كلاهما في البرنامج.\n",
    "اختبر تأثيرات تبديل أول سطرين على الإخراج.\n",
    "كيف يمكن تعديل البرنامج لنسخة ذات مغزى؟ **"
   ]
  },
  {
   "cell_type": "code",
   "execution_count": 95,
   "metadata": {},
   "outputs": [
    {
     "name": "stdout",
     "output_type": "stream",
     "text": [
      "Der 16. Buchstabe des griechischen Alphabets: Pi.\n",
      "Der Umfang eines Kreises mit einem Durchmesser von 3: Pi.Pi.Pi.\n"
     ]
    }
   ],
   "source": [
    "from math import *\n",
    "from wort import *\n",
    "\n",
    "print(\"Der 16. Buchstabe des griechischen Alphabets:\", pi)\n",
    "\n",
    "durchmesser = 3\n",
    "umfang = pi*durchmesser\n",
    "print(\"Der Umfang eines Kreises mit einem Durchmesser von %d:\" % durchmesser, umfang)"
   ]
  },
  {
   "cell_type": "markdown",
   "metadata": {},
   "source": [
    "**2) Schreiben Sie eine Funktion, die eine Liste mit *n* gleichverteilten Zufallszahlen zurückgibt. Der Parameter *n* soll der Funktion übergeben werden.**\n",
    "*********************\n",
    "** 2) Write a function that returns a list of * n * evenly distributed random numbers. The parameter * n * should be transferred to the function. **\n",
    "*************************\n",
    "** 2) اكتب دالة ترجع قائمة بأرقام عشوائية موزعة بالتساوي. يجب نقل المعلمة * n * إلى الوظيفة. **"
   ]
  },
  {
   "cell_type": "code",
   "execution_count": 6,
   "metadata": {},
   "outputs": [
    {
     "name": "stdout",
     "output_type": "stream",
     "text": [
      "Object `????????????????????????????????????????` not found.\n"
     ]
    }
   ],
   "source": [
    "\n",
    "#??????????????????????????????????????????\n",
    "\n",
    "\n",
    "\n",
    "\n"
   ]
  },
  {
   "cell_type": "markdown",
   "metadata": {},
   "source": [
    "**3) Schreiben Sie einen Programmabschnitt, der ...**\n",
    "  * ... die Datei oder das Verzeichnis mit dem längsten Namen im aktuellen Verzeichnis findet und diesen ausgibt. \n",
    "  * ... den Namen mit der höchsten Anzahl an Konsonanten ausgibt.\n",
    "  *********\n",
    "  ** 3) Write a program section that ... **\n",
    "   * ... finds the file or directory with the longest name in the current directory and outputs it.\n",
    "   * ... returns the name with the highest number of consonants.\n",
    "   ************\n",
    "   ** 3) اكتب قسم البرنامج الذي ... **\n",
    "   * ... يبحث عن الملف أو الدليل بأطول اسم في الدليل الحالي ويخرجه.\n",
    "   * ... إرجاع الاسم بأكبر عدد من الحروف الساكنة."
   ]
  },
  {
   "cell_type": "code",
   "execution_count": 108,
   "metadata": {},
   "outputs": [
    {
     "name": "stdout",
     "output_type": "stream",
     "text": [
      "05_Module.ipynb\n",
      "00_Jupyter.ipynb\n",
      "HA2-5-AK.jpeg\n",
      "HA2-abgeben.ipynb\n",
      "01_2_Sequentielle_Datentypen.ipynb\n",
      "04_3_Übungsaufgaben.ipynb\n",
      ".ipynb_checkpoints\n",
      "01_1_Variablen.ipynb\n",
      "wort.py\n",
      "03_Funktionen.ipynb\n",
      "HA2_LS.ipynb\n",
      "HA1 (copy).ipynb\n",
      "__pycache__\n",
      "04_Noch_mehr_Funktionen.ipynb\n",
      "HA2-3-Ja.jpeg\n",
      "HA1.ipynb\n",
      "02_Kontrollstrukturen.ipynb\n",
      "HA2.ipynb\n"
     ]
    }
   ],
   "source": [
    "#??????????????????????????????????????????\n",
    "\n",
    "\n",
    "import os\n",
    "import glob\n",
    "longname=glob.glob('*.*')\n",
    "path3=os.getcwd()\n",
    "#print(path3)\n",
    "for i in os.listdir():\n",
    "    if i >\n",
    "    print(i)\n",
    "    "
   ]
  },
  {
   "cell_type": "raw",
   "metadata": {},
   "source": [
    "Program to count the occurrences of a letter in a text file. The program output is also shown below."
   ]
  },
  {
   "cell_type": "code",
   "execution_count": 5,
   "metadata": {},
   "outputs": [
    {
     "name": "stdin",
     "output_type": "stream",
     "text": [
      "Enter file name:  12345.txt\n",
      "Enter letter to be searched: e\n"
     ]
    },
    {
     "name": "stdout",
     "output_type": "stream",
     "text": [
      "Occurrences of the letter:\n",
      "6\n"
     ]
    }
   ],
   "source": [
    "fname = input(\"Enter file name: \")\n",
    "l=input(\"Enter letter to be searched:\")\n",
    "k = 0\n",
    " \n",
    "with open(fname, 'r') as f:\n",
    "    for line in f:\n",
    "        words = line.split()\n",
    "        for i in words:\n",
    "            for letter in i:\n",
    "                if(letter==l):\n",
    "                    k=k+1\n",
    "print(\"Occurrences of the letter:\")\n",
    "print(k)\n"
   ]
  },
  {
   "cell_type": "code",
   "execution_count": null,
   "metadata": {},
   "outputs": [],
   "source": []
  }
 ],
 "metadata": {
  "kernelspec": {
   "display_name": "Python 3",
   "language": "python",
   "name": "python3"
  },
  "language_info": {
   "codemirror_mode": {
    "name": "ipython",
    "version": 3
   },
   "file_extension": ".py",
   "mimetype": "text/x-python",
   "name": "python",
   "nbconvert_exporter": "python",
   "pygments_lexer": "ipython3",
   "version": "3.7.3"
  }
 },
 "nbformat": 4,
 "nbformat_minor": 4
}
