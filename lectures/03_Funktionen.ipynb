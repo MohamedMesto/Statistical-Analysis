{
 "cells": [
  {
   "cell_type": "markdown",
   "metadata": {},
   "source": [
    "# **Python für Ingenieure**\n",
    "<!-- Lizensiert unter (CC BY 2.0) Gert Herold, 2019 -->\n",
    "# 3. Funktionen\n",
    "\n",
    "An verschiedenen Programmstellen benötigte Algorithmen werden für das für effizientes Abrufen in Funktionen gespeichert. Die Syntax einer Funktionsdefinition sieht so aus:\n",
    "\n",
    "```python\n",
    "def funktionsname(parameterliste):\n",
    "    anweisung1\n",
    "    anweisung2\n",
    "    ...\n",
    "    return ergebnis\n",
    "```\n",
    "\n",
    "Bereits kennengelernt haben wir z.B. die *print*-Funktion, die als Parameter eine Variable (etwa einen String) übergeben bekommt und diese dann ausgibt, sowie die *sum*-Funktion, die die Summe der Werte einer übergebenen Liste zurückgibt.\n",
    "<!-- Übung p-q-Formel als Funktion-->\n",
    "*************************\n",
    "\n",
    "Algorithms required at various program positions are stored in functions for efficient retrieval. The syntax of a function definition looks like this:\n",
    "\n",
    "```python\n",
    "def function name (parameterlist):\n",
    "     instruction1\n",
    "     instruction2\n",
    "     ...\n",
    "     return result\n",
    "```\n",
    "\n",
    "We have already met the * print * function, which receives a variable (such as a string) as a parameter and then outputs it, and the * sum * function, which returns the sum of the values of a transferred list.\n",
    "<! - Exercise p-q formula as a function ->"
   ]
  },
  {
   "cell_type": "code",
   "execution_count": null,
   "metadata": {},
   "outputs": [],
   "source": []
  },
  {
   "cell_type": "code",
   "execution_count": 1,
   "metadata": {},
   "outputs": [
    {
     "name": "stdout",
     "output_type": "stream",
     "text": [
      "(1.5, 1.4142135623730951)\n",
      "(68.0, 37.080992435478315)\n"
     ]
    }
   ],
   "source": [
    "# Beispiel: eine Funktion, die arithmetischen und geometrischen Mittelwert zweier Zahlen berechnet\n",
    "def mw(a,b):\n",
    "    am = (a+b)/2\n",
    "    gm = (a*b)**0.5\n",
    "    return am, gm\n",
    "\n",
    "print(mw(1,2))\n",
    "print(mw(11,125))"
   ]
  },
  {
   "cell_type": "code",
   "execution_count": 2,
   "metadata": {},
   "outputs": [
    {
     "data": {
      "text/plain": [
       "(1.5, 1.4142135623730951)"
      ]
     },
     "execution_count": 2,
     "metadata": {},
     "output_type": "execute_result"
    }
   ],
   "source": [
    "def mw(a,b):\n",
    "    am = (a+b)/2\n",
    "    gm = (a*b)**0.5\n",
    "    return am, gm\n",
    "mw(a=1,b=2)"
   ]
  },
  {
   "cell_type": "markdown",
   "metadata": {},
   "source": [
    "Eine Funktion muss nicht zwingend eine Parameterliste haben oder einen Wert zurückgeben. Bei einem Aufruf müssen dennoch die (leeren) Klammern gesetzt werden.\n",
    "************************\n",
    "A function does not necessarily have to have a parameter list or return a value. When calling, the (empty) brackets must still be placed."
   ]
  },
  {
   "cell_type": "code",
   "execution_count": 3,
   "metadata": {},
   "outputs": [
    {
     "name": "stdout",
     "output_type": "stream",
     "text": [
      "Was denn?\n"
     ]
    }
   ],
   "source": [
    "def schreib():\n",
    "    print('Was denn?')\n",
    "\n",
    "schreib()"
   ]
  },
  {
   "cell_type": "markdown",
   "metadata": {},
   "source": [
    "Der Standard-Rückgabewert ist dann `None`:\n",
    "******\n",
    "The standard return value is then `None`:\n"
   ]
  },
  {
   "cell_type": "code",
   "execution_count": 4,
   "metadata": {},
   "outputs": [
    {
     "name": "stdout",
     "output_type": "stream",
     "text": [
      "Was denn?\n",
      "None\n"
     ]
    }
   ],
   "source": [
    "print(schreib())"
   ]
  },
  {
   "cell_type": "markdown",
   "metadata": {},
   "source": [
    "## 3.1. Parameterliste\n",
    "\n",
    "Es können beliebig viele Parameter abgefragt werden. Beim Aufruf einer Funktion wird implizit erwartet, dass die Reihenfolge der Parameter der Definition entspricht:"
   ]
  },
  {
   "cell_type": "code",
   "execution_count": 5,
   "metadata": {},
   "outputs": [
    {
     "data": {
      "text/plain": [
       "8"
      ]
     },
     "execution_count": 5,
     "metadata": {},
     "output_type": "execute_result"
    }
   ],
   "source": [
    "def potenziere(basis, exponent, faktor):\n",
    "    return faktor*basis**exponent\n",
    "\n",
    "potenziere(2,3,1)"
   ]
  },
  {
   "cell_type": "markdown",
   "metadata": {},
   "source": [
    "Alternativ kann beim Aufruf der Name der Parameter mit angegeben werden. Dann muss die Reihenfolge nicht eingehalten werden:"
   ]
  },
  {
   "cell_type": "code",
   "execution_count": 28,
   "metadata": {},
   "outputs": [
    {
     "data": {
      "text/plain": [
       "8"
      ]
     },
     "execution_count": 28,
     "metadata": {},
     "output_type": "execute_result"
    }
   ],
   "source": [
    "potenziere(faktor=1, basis=2, exponent=3)"
   ]
  },
  {
   "cell_type": "markdown",
   "metadata": {},
   "source": [
    "Für den Fall, dass beim Aufruf bestimmte Parameter nur *optional* gesetzt werden sollen, können Standardwerte definiert werden:"
   ]
  },
  {
   "cell_type": "code",
   "execution_count": 29,
   "metadata": {},
   "outputs": [
    {
     "name": "stdout",
     "output_type": "stream",
     "text": [
      "40\n",
      "8\n",
      "4\n"
     ]
    }
   ],
   "source": [
    "def potenziere(basis, exponent=2, faktor=1):\n",
    "    return faktor*basis**exponent\n",
    "\n",
    "print(potenziere(2,3,5))\n",
    "print(potenziere(2,3))\n",
    "print(potenziere(2))"
   ]
  },
  {
   "cell_type": "markdown",
   "metadata": {},
   "source": [
    "###Wichtig###\n",
    "******************************\n",
    "\n",
    "## 3.2. Globale und lokale Variablen\n",
    "\n",
    "Sollen an eine Funktion übergebene Variablen darin verändert werden, so muss es sich dabei um Variablen handeln, deren Inhalt ohne Neuzuweisung veränderbar ist (wie z.B. Listen).\n",
    "*******************\n",
    "If variables passed to a function are to be changed, these must be variables whose content can be changed without reassignment (such as lists).\n",
    "*********************\n",
    "إذا تم تغيير المتغيرات التي تم تمريرها إلى دالة ، فيجب أن تكون هذه متغيرات يمكن تغيير محتواها دون إعادة التعيين (مثل القوائم)."
   ]
  },
  {
   "cell_type": "code",
   "execution_count": 14,
   "metadata": {},
   "outputs": [
    {
     "name": "stdout",
     "output_type": "stream",
     "text": [
      " Vor Funktion: 1 [2]\n",
      "  In Funktion: 11 [12]\n",
      "Nach Funktion: 1 [12]\n"
     ]
    }
   ],
   "source": [
    "def addier_was_drauf(x,y):\n",
    "    x = x+10\n",
    "    y[0] = y[0]+10\n",
    "    print('  In Funktion:',x,y)\n",
    "\n",
    "a = 1\n",
    "b = [2]\n",
    "print(' Vor Funktion:',a,b)\n",
    "\n",
    "\n",
    "\n",
    "addier_was_drauf(a,b)\n",
    "print('Nach Funktion:',a,b)"
   ]
  },
  {
   "cell_type": "markdown",
   "metadata": {},
   "source": [
    "###Wichtig###\n",
    "******************************\n",
    "\n",
    "Variablen in einer Funktion sind immer *lokal*, d.h. außerhalb dieser nicht bekannt. \n",
    "Man spricht auch vom *lokalen Namensraum* (engl. *local namespace*).\n",
    "Umgekehrt sind Variablen, die vor der Funktionsdeklaration schon existieren, innerhalb der Funktion abrufbar.\n",
    "Für ihre Veränderung gelten aber dieselben Regeln wie für Variablen, die über die Parameterliste übergeben werden.\n",
    "*******\n",
    "Variables in a function are always * local *, i.e. not known outside of this.\n",
    "One also speaks of the * local namespace *.\n",
    "Conversely, variables that already exist before the function declaration can be called up within the function.\n",
    "The same rules apply to changing them as to variables that are transferred via the parameter list.\n",
    "****************\n",
    "تكون المتغيرات في الوظيفة دائمًا * محلية * ، أي غير معروف خارج هذا.\n",
    "يتحدث المرء أيضًا عن * مساحة الاسم المحلية *.\n",
    "على العكس ، يمكن استدعاء المتغيرات الموجودة بالفعل قبل إعلان الوظيفة داخل الوظيفة.\n",
    "تنطبق نفس القواعد على تغييرها مثل المتغيرات التي يتم نقلها عبر قائمة المعلمات."
   ]
  },
  {
   "cell_type": "code",
   "execution_count": 20,
   "metadata": {},
   "outputs": [
    {
     "name": "stdout",
     "output_type": "stream",
     "text": [
      "[2] <class 'list'>\n",
      "2 <class 'int'>\n"
     ]
    }
   ],
   "source": [
    "\n",
    "a = 1\n",
    "b = [2]\n",
    "print(b,type(b))\n",
    "print(b[0],type(b[0]))"
   ]
  },
  {
   "cell_type": "code",
   "execution_count": 15,
   "metadata": {},
   "outputs": [
    {
     "name": "stdout",
     "output_type": "stream",
     "text": [
      "hallo\n",
      "  In Funktion 1: 1 11\n",
      "Nach Funktion 1: 1 [2]\n",
      "**************\n",
      "  In Funktion 2: 1234 [12]\n",
      "Nach Funktion 2: 1 [12]\n"
     ]
    }
   ],
   "source": [
    "a = 1\n",
    "b = [2]\n",
    "\n",
    "def machwas():\n",
    "    b = a+10\n",
    "    print('  In Funktion 1:',a,b)\n",
    "print('hallo')\n",
    "\n",
    "machwas()\n",
    "\n",
    "print('Nach Funktion 1:',a,b)\n",
    "\n",
    "print('**************')\n",
    "def machwasandres():\n",
    "    b[0] = b[0]+10\n",
    "    a = 1234\n",
    "    print('  In Funktion 2:',a,b)\n",
    "#print(type(b))\n",
    "machwasandres()\n",
    "print('Nach Funktion 2:',a,b)"
   ]
  },
  {
   "cell_type": "markdown",
   "metadata": {},
   "source": [
    "###Wichtig### Golbal Variables\n",
    "******************************\n",
    "\n",
    "Allerdings gibt es die Möglichkeit, explizit anzugeben, dass man eine Variable auch innerhalb einer Funktion als *global* behandeln möchte:\n",
    "*****************\n",
    "However, there is the possibility to explicitly state that you want to treat a variable as * global * within a function:\n",
    "****************\n",
    "ومع ذلك ، هناك إمكانية أن تنص صراحةً على أنك تريد معاملة متغير على أنه * عام * داخل دالة:"
   ]
  },
  {
   "cell_type": "code",
   "execution_count": 9,
   "metadata": {},
   "outputs": [
    {
     "name": "stdout",
     "output_type": "stream",
     "text": [
      "  In Funktion 2: 1234 [12]\n",
      "Nach Funktion 2: 1234 [12]\n"
     ]
    }
   ],
   "source": [
    "a = 1\n",
    "b = [2]\n",
    "\n",
    "def machwasandres():\n",
    "    global a\n",
    "    b[0] = b[0]+10\n",
    "    a = 1234\n",
    "    print('  In Funktion 2:',a,b)\n",
    "\n",
    "machwasandres()\n",
    "print('Nach Funktion 2:',a,b)"
   ]
  },
  {
   "cell_type": "markdown",
   "metadata": {},
   "source": [
    "## Übung\n",
    "\n",
    "**1) Schreiben Sie eine Funktion, die die Fakultät einer ihr übergebenen Zahl berechnet und zurückgibt.**\n",
    "************\n",
    "** 1) Write a function that calculates and returns the factorial of a given number. **"
   ]
  },
  {
   "cell_type": "code",
   "execution_count": 21,
   "metadata": {},
   "outputs": [
    {
     "name": "stdin",
     "output_type": "stream",
     "text": [
      "insert please value of n: 6\n"
     ]
    },
    {
     "name": "stdout",
     "output_type": "stream",
     "text": [
      "Factorial of 6 is  720\n"
     ]
    }
   ],
   "source": [
    "# Hier eigenen Code schreiben ...\n",
    "def Factorial(n):\n",
    "    R=1\n",
    "    for i in range(1,n+1):\n",
    "        R*=i\n",
    "    return R\n",
    "n = int(input('insert please value of n:'))\n",
    "print('Factorial of', n, 'is ',Factorial(n))\n",
    "\n",
    "        "
   ]
  },
  {
   "cell_type": "code",
   "execution_count": null,
   "metadata": {},
   "outputs": [],
   "source": [
    " "
   ]
  },
  {
   "cell_type": "code",
   "execution_count": 28,
   "metadata": {},
   "outputs": [
    {
     "name": "stdout",
     "output_type": "stream",
     "text": [
      "Factorial of 6 is 720\n"
     ]
    }
   ],
   "source": [
    "# Python3 program to find \n",
    "# factorial of given number \n",
    "  \n",
    "def factorial(n): \n",
    "      \n",
    "    # single line to \n",
    "    # find factorial \n",
    "    return 1 if (n == 1 or n == 0) else n * factorial(n - 1); \n",
    "  \n",
    "# Driver Code \n",
    "num = 6; \n",
    "print(\"Factorial of\", num, \"is\", factorial(num)); \n",
    "  \n",
    "# This is contributed by mits \n"
   ]
  },
  {
   "cell_type": "markdown",
   "metadata": {},
   "source": [
    "**2) Schreiben Sie eine Funktion, die ...**\n",
    " * ... das Produkt zweier Zahlen zurückgibt, wenn sie zwei Parameter übergeben bekommt.\n",
    " * ... das Quadrat einer Zahl zurückgibt, wenn sie nur einen Parameter übergeben bekommt.\n",
    " ****************************\n",
    " ** 2) Write a function that ... **\n",
    "  * ... returns the product of two numbers if it is given two parameters.\n",
    "  * ... returns the square of a number if it is only given one parameter."
   ]
  },
  {
   "cell_type": "code",
   "execution_count": 30,
   "metadata": {},
   "outputs": [
    {
     "name": "stdout",
     "output_type": "stream",
     "text": [
      "product_square of 1 [2] are 35\n",
      "product_square of 1 [2] are 49\n"
     ]
    }
   ],
   "source": [
    "# Hier eigenen Code schreiben ...\n",
    "def product_square(a,b=None):\n",
    "    if (b==None) : \n",
    "        x=a**2\n",
    "    else:\n",
    "        x=a*b\n",
    "    return x\n",
    "\n",
    "#a=int(input('insert please value of a:'))\n",
    "#b=int(input('insert please value of b:'))\n",
    "#print ('product_square of',a,b,'are',product_square(a,b))\n",
    "\n",
    "print ('product_square of',a,b,'are',product_square(7,5))\n",
    "print ('product_square of',a,b,'are',product_square(7))"
   ]
  },
  {
   "cell_type": "code",
   "execution_count": null,
   "metadata": {},
   "outputs": [],
   "source": [
    "\n"
   ]
  },
  {
   "cell_type": "markdown",
   "metadata": {},
   "source": [
    "**3) Schreiben Sie eine Funktion, die für einen ihr übergebenen Text eine Statistik ausgibt. Diese soll enthalten:**\n",
    "  * Anzahl der Zeichen\n",
    "  * Anzahl der [Wörter](https://docs.python.org/3/library/stdtypes.html#str.split)\n",
    "  * Anzahl der Vokale\n",
    "  *************\n",
    "  3) Write a function that outputs statistics for a text passed to it. This should contain:\n",
    "\n",
    "     Number of characters\n",
    "     number of words\n",
    "     Number of vowels"
   ]
  },
  {
   "cell_type": "code",
   "execution_count": 52,
   "metadata": {},
   "outputs": [
    {
     "name": "stdin",
     "output_type": "stream",
     "text": [
      "insert please value of b: wir machen Deutschland zusamme nstark ^%$## 12345\n"
     ]
    },
    {
     "name": "stdout",
     "output_type": "stream",
     "text": [
      "Vowels: 10\n",
      "Consonant: 23\n",
      "Digit: 5\n",
      "Special Character: 11\n"
     ]
    }
   ],
   "source": [
    "# Hier eigenen Code schreiben ...\n",
    "'''def statistics(a):\n",
    "    vowels=0\n",
    "    characters=0\n",
    "    words=0\n",
    "    for i in range(1,len(a)):\n",
    "        if (i==a or i==e or i==i or i==u or i==o):\n",
    "            vowels=vowels+i\n",
    "        elif (i=!a or i=!e or i=!i or i=!u or i==o)\n",
    "'''         \n",
    "\n",
    "# Python3 Program to count vowels, \n",
    "# consonant, digits and special  \n",
    "# character in a given string. \n",
    "  \n",
    "# Function to count number of vowels, \n",
    "# consonant, digits and special  \n",
    "# character in a string. \n",
    "def countCharacterType(str): \n",
    "  \n",
    "    # Declare the variable vowels,  \n",
    "    # consonant, digit and special \n",
    "    # characters \n",
    "    vowels = 0\n",
    "    consonant = 0\n",
    "    specialChar = 0\n",
    "    digit = 0\n",
    "  \n",
    "    # str.length() function to count  \n",
    "    # number of character in given string. \n",
    "    for i in range(0, len(str)):  \n",
    "          \n",
    "        ch = str[i]  \n",
    "  \n",
    "        if ( (ch >= 'a' and ch <= 'z') or \n",
    "             (ch >= 'A' and ch <= 'Z') ):  \n",
    "  \n",
    "            # To handle upper case letters \n",
    "            ch = ch.lower() \n",
    "  \n",
    "            if (ch == 'a' or ch == 'e' or ch == 'i' \n",
    "                        or ch == 'o' or ch == 'u'): \n",
    "                vowels += 1\n",
    "            else: \n",
    "                consonant += 1\n",
    "          \n",
    "        elif (ch >= '0' and ch <= '9'): \n",
    "            digit += 1\n",
    "        else: \n",
    "            specialChar += 1\n",
    "      \n",
    "    print(\"Vowels:\", vowels) \n",
    "    print(\"Consonant:\", consonant)  \n",
    "    print(\"Digit:\", digit)  \n",
    "    print(\"Special Character:\", specialChar)  \n",
    "  \n",
    "  \n",
    "# Driver function. \n",
    "\n",
    "str=input('insert please value of b:')\n",
    "\n",
    "countCharacterType(str)  \n",
    "  \n",
    " \n",
    "    \n"
   ]
  },
  {
   "cell_type": "code",
   "execution_count": null,
   "metadata": {},
   "outputs": [],
   "source": []
  }
 ],
 "metadata": {
  "kernelspec": {
   "display_name": "Python 3",
   "language": "python",
   "name": "python3"
  },
  "language_info": {
   "codemirror_mode": {
    "name": "ipython",
    "version": 3
   },
   "file_extension": ".py",
   "mimetype": "text/x-python",
   "name": "python",
   "nbconvert_exporter": "python",
   "pygments_lexer": "ipython3",
   "version": "3.7.3"
  }
 },
 "nbformat": 4,
 "nbformat_minor": 4
}
