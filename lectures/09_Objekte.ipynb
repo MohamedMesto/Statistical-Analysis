{
 "cells": [
  {
   "cell_type": "markdown",
   "metadata": {},
   "source": [
    "# **Python für Ingenieure**\n",
    "<!-- Lizensiert unter (CC BY 2.0) Gert Herold, 2020 -->\n",
    "# 9. Objekte und Klassen\n",
    "\n",
    "Variablen und Funktionen? In Python alles Objekte! \n",
    "\n",
    "Ein Objekt zeichnet sich aus durch:\n",
    "  * Eigenschaften (*Attribute*)\n",
    "  * spezifische Funktionalitäten (*Methoden*)\n",
    "  \n",
    "## 9.1. Aufruf von Objekteigenschaften\n",
    "\n",
    "Um Attribute oder Methoden eines Python-Objektes aufzurufen, wird diesem ein Punkt (`.`) angehängt:\n",
    "*********\n",
    "# ** Python for engineers **\n",
    "<! - Licensed under (CC BY 2.0) Gert Herold, 2020 ->\n",
    "# 9. Objects and classes\n",
    "\n",
    "Variables and functions? In Python all objects!\n",
    "\n",
    "An object is characterized by:\n",
    "   * Properties (* Attributes *)\n",
    "   * specific functionalities (* methods *)\n",
    "  \n",
    "## 9.1. Calling up object properties\n",
    "\n",
    "To call attributes or methods of a Python object, a period (`.`) is appended to it:"
   ]
  },
  {
   "cell_type": "code",
   "execution_count": 1,
   "metadata": {},
   "outputs": [
    {
     "name": "stdout",
     "output_type": "stream",
     "text": [
      "<class 'numpy.ndarray'>\n",
      "(2, 2)\n",
      "10\n",
      "int32\n"
     ]
    }
   ],
   "source": [
    "from numpy import array\n",
    "\n",
    "a = array([[ 1,  7],\n",
    "           [ 3, -1]])\n",
    "\n",
    "print(a.__class__)\n",
    "print(a.shape)\n",
    "print(a.sum())\n",
    "print(a.dtype)"
   ]
  },
  {
   "cell_type": "code",
   "execution_count": 2,
   "metadata": {},
   "outputs": [
    {
     "name": "stdout",
     "output_type": "stream",
     "text": [
      "<class 'complex'>\n",
      "2.3 1.0\n"
     ]
    }
   ],
   "source": [
    "b = 2.3 + 1j\n",
    "\n",
    "print(b.__class__)\n",
    "print(b.real, b.imag)"
   ]
  },
  {
   "cell_type": "code",
   "execution_count": 3,
   "metadata": {},
   "outputs": [
    {
     "name": "stdout",
     "output_type": "stream",
     "text": [
      "<class 'float'>\n",
      "False\n",
      "(7656119366529843, 2251799813685248)\n"
     ]
    }
   ],
   "source": [
    "c = 3.4\n",
    "\n",
    "print(c.__class__)\n",
    "print(c.is_integer())\n",
    "print(c.as_integer_ratio())"
   ]
  },
  {
   "cell_type": "code",
   "execution_count": 4,
   "metadata": {},
   "outputs": [
    {
     "name": "stdout",
     "output_type": "stream",
     "text": [
      "<class 'int'>\n"
     ]
    },
    {
     "data": {
      "text/plain": [
       "'15'"
      ]
     },
     "execution_count": 4,
     "metadata": {},
     "output_type": "execute_result"
    }
   ],
   "source": [
    "d=15\n",
    "print(d.__class__)\n",
    "d.__str__()"
   ]
  },
  {
   "cell_type": "code",
   "execution_count": 5,
   "metadata": {},
   "outputs": [
    {
     "name": "stdout",
     "output_type": "stream",
     "text": [
      "2\n",
      "<class 'builtin_function_or_method'>\n",
      "len\n",
      "builtins\n"
     ]
    }
   ],
   "source": [
    "print(len(a))\n",
    "print(len.__class__)\n",
    "print(len.__name__)\n",
    "print(len.__module__)"
   ]
  },
  {
   "cell_type": "markdown",
   "metadata": {},
   "source": [
    "## 9.2. Klassen definieren und instanzieren\n",
    "******\n",
    "## 9.2. Define and instantiate classes\n",
    "********\n",
    "## 9.2. تعريف الطبقات وإنشاء مثيل لها"
   ]
  },
  {
   "cell_type": "code",
   "execution_count": 6,
   "metadata": {},
   "outputs": [],
   "source": [
    "class Ding:\n",
    "    farbe = 'blau'"
   ]
  },
  {
   "cell_type": "code",
   "execution_count": 7,
   "metadata": {},
   "outputs": [
    {
     "data": {
      "text/plain": [
       "<__main__.Ding at 0x5a1ca00>"
      ]
     },
     "execution_count": 7,
     "metadata": {},
     "output_type": "execute_result"
    }
   ],
   "source": [
    "d = Ding()\n",
    "d#, type(d)#, d.farbe"
   ]
  },
  {
   "cell_type": "code",
   "execution_count": 8,
   "metadata": {},
   "outputs": [],
   "source": [
    "class Zylinder:\n",
    "    \n",
    "    translate_class_name = 'cylinder'\n",
    "    \n",
    "    def __init__(self, grundflaeche, hoehe):\n",
    "        self.grundflaeche = grundflaeche\n",
    "        self.hoehe = hoehe\n",
    "    \n",
    "    def mach_hoeher(self, dh):\n",
    "        self.hoehe += dh\n",
    "    \n",
    "    def __getvol( self ):\n",
    "        return self.grundflaeche * self.hoehe\n",
    "    \n",
    "    volumen = property(__getvol)"
   ]
  },
  {
   "cell_type": "code",
   "execution_count": 9,
   "metadata": {},
   "outputs": [
    {
     "name": "stdout",
     "output_type": "stream",
     "text": [
      "Zylinder cylinder\n"
     ]
    },
    {
     "data": {
      "text/plain": [
       "(20, 6.720000000000001)"
      ]
     },
     "execution_count": 9,
     "metadata": {},
     "output_type": "execute_result"
    }
   ],
   "source": [
    "a = Zylinder(10,2)\n",
    "b = Zylinder(2.1,3.2)\n",
    "\n",
    "print(a.__class__.__name__, a.translate_class_name)\n",
    "\n",
    "a.volumen, b.volumen"
   ]
  },
  {
   "cell_type": "code",
   "execution_count": 10,
   "metadata": {},
   "outputs": [
    {
     "name": "stdout",
     "output_type": "stream",
     "text": [
      "Vol: 5.75 , Gf: 2.3 , Höhe: 2.5\n"
     ]
    }
   ],
   "source": [
    "a.grundflaeche = 2.3\n",
    "a.mach_hoeher(0.5)\n",
    "print('Vol:',a.volumen,', Gf:', a.grundflaeche,', Höhe:', a.hoehe)"
   ]
  },
  {
   "cell_type": "code",
   "execution_count": 11,
   "metadata": {},
   "outputs": [],
   "source": [
    "import math\n",
    "class Kreiszylinder(Zylinder):\n",
    "    \n",
    "    translate_class_name = 'circular cylinder'\n",
    "    \n",
    "    def __getradius( self ):\n",
    "        return (self.grundflaeche/math.pi)**0.5\n",
    "    \n",
    "    def __setradius(self, r):\n",
    "        self.grundflaeche = math.pi * r*r\n",
    "    \n",
    "    radius = property(__getradius, __setradius)\n",
    "    \n",
    "    def tone(self, v):\n",
    "        return 0.1*v/self.radius"
   ]
  },
  {
   "cell_type": "code",
   "execution_count": 12,
   "metadata": {},
   "outputs": [
    {
     "name": "stdout",
     "output_type": "stream",
     "text": [
      "Kreiszylinder circular cylinder\n",
      "Vol: 12 , Gf: 3 , Höhe: 4 , Radius: 0.9772050238058398\n"
     ]
    },
    {
     "data": {
      "text/plain": [
       "<__main__.Kreiszylinder at 0x5a1c8e0>"
      ]
     },
     "execution_count": 12,
     "metadata": {},
     "output_type": "execute_result"
    }
   ],
   "source": [
    "a = Kreiszylinder(3,4)\n",
    "print(a.__class__.__name__, a.translate_class_name)\n",
    "print('Vol:',a.volumen,', Gf:', a.grundflaeche,', Höhe:', a.hoehe,', Radius:', a.radius)\n",
    "a"
   ]
  },
  {
   "cell_type": "code",
   "execution_count": 13,
   "metadata": {},
   "outputs": [
    {
     "name": "stdout",
     "output_type": "stream",
     "text": [
      "Vol: 50.26548245743669 , Gf: 12.566370614359172 , Höhe: 4 , Radius: 2.0\n"
     ]
    }
   ],
   "source": [
    "a.radius=2\n",
    "print('Vol:',a.volumen,', Gf:', a.grundflaeche,', Höhe:', a.hoehe,', Radius:', a.radius)"
   ]
  },
  {
   "cell_type": "code",
   "execution_count": 14,
   "metadata": {},
   "outputs": [
    {
     "data": {
      "text/plain": [
       "2000.0"
      ]
     },
     "execution_count": 14,
     "metadata": {},
     "output_type": "execute_result"
    }
   ],
   "source": [
    "x = Kreiszylinder(0,0)\n",
    "x.hoehe = 10\n",
    "x.radius = 0.002\n",
    "x.tone(40)"
   ]
  },
  {
   "cell_type": "code",
   "execution_count": null,
   "metadata": {},
   "outputs": [],
   "source": []
  }
 ],
 "metadata": {
  "kernelspec": {
   "display_name": "Python 3",
   "language": "python",
   "name": "python3"
  },
  "language_info": {
   "codemirror_mode": {
    "name": "ipython",
    "version": 3
   },
   "file_extension": ".py",
   "mimetype": "text/x-python",
   "name": "python",
   "nbconvert_exporter": "python",
   "pygments_lexer": "ipython3",
   "version": "3.8.3"
  }
 },
 "nbformat": 4,
 "nbformat_minor": 4
}
