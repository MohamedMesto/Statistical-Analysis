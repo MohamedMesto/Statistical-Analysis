{
 "cells": [
  {
   "cell_type": "markdown",
   "metadata": {},
   "source": [
    "# **Python für Ingenieure**\n",
    "<!-- Lizensiert unter (CC BY 2.0) Gert Herold, 2019 -->\n",
    "# 2. Kontrollstrukturen\n",
    "\n",
    "Für komplexere Programmieraufgaben werden Strukturen benötigt, die den Ablauf eines Programms steuern.\n",
    "Hierzu gehören *Schleifen*, die dann Anwendung finden, wenn gleichartige Anweisungen wiederholt werden sollen, sowie *Verzweigungen*, die die Ausführung von Anweisungen an Bedingungen knüpfen.\n",
    "***********************\n",
    "\n",
    "Structures that control the execution of a program are required for more complex programming tasks.\n",
    "These include * loops *, which are used when instructions of the same type are to be repeated, and * branches *, which link the execution of instructions to conditions."
   ]
  },
  {
   "cell_type": "markdown",
   "metadata": {},
   "source": [
    "## 2.1. *if/elif/else*"
   ]
  },
  {
   "cell_type": "markdown",
   "metadata": {},
   "source": [
    "Um Programmcode nur unter Bedingungen auszuführen, wird folgende Syntax verwendet:\n",
    "********\n",
    "The following syntax is used to execute program code only under certain conditions:"
   ]
  },
  {
   "cell_type": "code",
   "execution_count": 1,
   "metadata": {},
   "outputs": [
    {
     "name": "stdout",
     "output_type": "stream",
     "text": [
      "kleiner als zehn!\n"
     ]
    }
   ],
   "source": [
    "i=10\n",
    "if i<=10:\n",
    "    print('kleiner als zehn!')\n",
    "elif(i>=5):\n",
    "    print('i=5')\n",
    "else:\n",
    "    print('end')"
   ]
  },
  {
   "cell_type": "markdown",
   "metadata": {},
   "source": [
    "Falls mehrere Bedingungen geprüft werden sollen bzw. es einen \"Sonst\"-Fall geben soll:"
   ]
  },
  {
   "cell_type": "code",
   "execution_count": 4,
   "metadata": {},
   "outputs": [
    {
     "name": "stdout",
     "output_type": "stream",
     "text": [
      "0 oder größer 10\n"
     ]
    }
   ],
   "source": [
    "i = 25\n",
    "if (i<=10 and i>=1):\n",
    "    print('zwischen 1 und 10')\n",
    "elif (i < 0):\n",
    "    print('negativ')\n",
    "else:\n",
    "    print('0 oder größer 10')\n",
    "    \n"
   ]
  },
  {
   "cell_type": "markdown",
   "metadata": {},
   "source": [
    "## 2.2. *for*-Schleife\n",
    "\n",
    "Eine Anweisung eine bestimmte Anzahl von Wiederholungen (Iterationen) zu durchlaufen, ist mit folgender Struktur möglich:\n",
    "***********\n",
    "An instruction to run through a certain number of repetitions (iterations) is possible with the following structure:\n",
    "**********\n",
    "يمكن الحصول على تعليمات للتشغيل من خلال عدد معين من التكرارات (التكرارات) مع الهيكل التالي:"
   ]
  },
  {
   "cell_type": "code",
   "execution_count": 14,
   "metadata": {},
   "outputs": [
    {
     "name": "stdout",
     "output_type": "stream",
     "text": [
      "Wiederholung: 0\n",
      "Wiederholung: 1\n",
      "Wiederholung: 2\n",
      "Wiederholung: 3\n",
      "Wiederholung: 4\n"
     ]
    }
   ],
   "source": [
    "for i in range(5):\n",
    "    print('Wiederholung:',i)"
   ]
  },
  {
   "cell_type": "markdown",
   "metadata": {},
   "source": [
    "**Achtung:** Im Gegensatz zu vielen anderen Programmiersprachen hat unter Python die Einrückung (engl: *indentation*) des Quellcodes eine elementare Bedeutung für den Programmablauf. Zeilen \n",
    "gleicher Einrückung markieren jeweils einen zusammenhängenden Block.\n",
    "\n",
    "Iteriert werden kann mit einer for-Schleife nicht nur über einen Zahlenbereich, sondern über jedes iterierbare Objekt, z.B. auch über Listen:\n",
    "********************\n",
    "** Attention: ** In contrast to many other programming languages, the indentation of the source code under Python has an elementary meaning for the program flow. Lines\n",
    "with the same indentation each mark a coherent block.\n",
    "\n",
    "You can iterate with a for loop not only over a range of numbers, but over every iterable object, e.g. also via lists:\n",
    "*************\n",
    "** انتباه: ** على عكس العديد من لغات البرمجة الأخرى ، فإن المسافة البادئة للكود المصدري تحت Python لها معنى أولي لتدفق البرنامج. كل خط من الأسطر التي لها نفس المسافة البادئة تحدد كتلة متماسكة.\n",
    "\n",
    "يمكنك التكرار باستخدام حلقة for ليس فقط عبر نطاق من الأرقام ، ولكن على كل كائن قابل للتكرار ، على سبيل المثال أيضًا عبر القوائم:"
   ]
  },
  {
   "cell_type": "code",
   "execution_count": 14,
   "metadata": {},
   "outputs": [
    {
     "name": "stdout",
     "output_type": "stream",
     "text": [
      "1\n",
      "2\n",
      "lalala\n",
      "14\n",
      "-2.3\n"
     ]
    }
   ],
   "source": [
    "a = [1, 2, 'lalala', 14, -2.3]\n",
    "for i in a:\n",
    "    print(i)"
   ]
  },
  {
   "cell_type": "markdown",
   "metadata": {},
   "source": [
    "Das Ergebnis der oben verwendeten Funktion *range* kann auch in eine Liste umgewandelt werden. Außerdem muss eine *range* nicht bei 0 starten:\n",
    "************************\n",
    "The result of the * range * function used above can also be converted into a list. In addition, a * range * does not have to start at 0:\n",
    "*********\n",
    "يمكن أيضًا تحويل نتيجة الوظيفة * النطاق * المستخدمة أعلاه إلى قائمة. بالإضافة إلى ذلك ، لا يجب أن يبدأ النطاق * النطاق * من 0:"
   ]
  },
  {
   "cell_type": "code",
   "execution_count": 15,
   "metadata": {},
   "outputs": [
    {
     "data": {
      "text/plain": [
       "\u001b[0;31mInit signature:\u001b[0m \u001b[0mrange\u001b[0m\u001b[0;34m(\u001b[0m\u001b[0mself\u001b[0m\u001b[0;34m,\u001b[0m \u001b[0;34m/\u001b[0m\u001b[0;34m,\u001b[0m \u001b[0;34m*\u001b[0m\u001b[0margs\u001b[0m\u001b[0;34m,\u001b[0m \u001b[0;34m**\u001b[0m\u001b[0mkwargs\u001b[0m\u001b[0;34m)\u001b[0m\u001b[0;34m\u001b[0m\u001b[0;34m\u001b[0m\u001b[0m\n",
       "\u001b[0;31mDocstring:\u001b[0m     \n",
       "range(stop) -> range object\n",
       "range(start, stop[, step]) -> range object\n",
       "\n",
       "Return an object that produces a sequence of integers from start (inclusive)\n",
       "to stop (exclusive) by step.  range(i, j) produces i, i+1, i+2, ..., j-1.\n",
       "start defaults to 0, and stop is omitted!  range(4) produces 0, 1, 2, 3.\n",
       "These are exactly the valid indices for a list of 4 elements.\n",
       "When step is given, it specifies the increment (or decrement).\n",
       "\u001b[0;31mType:\u001b[0m           type\n",
       "\u001b[0;31mSubclasses:\u001b[0m     \n"
      ]
     },
     "metadata": {},
     "output_type": "display_data"
    }
   ],
   "source": [
    "range?\n"
   ]
  },
  {
   "cell_type": "markdown",
   "metadata": {},
   "source": [
    "##Wichtig###      convert range-->> list\n"
   ]
  },
  {
   "cell_type": "code",
   "execution_count": 16,
   "metadata": {},
   "outputs": [
    {
     "name": "stdout",
     "output_type": "stream",
     "text": [
      "range(3, 7, 2) <class 'range'>\n",
      "[3, 5]\n"
     ]
    }
   ],
   "source": [
    "###Wichtig###      convert range-->> list\n",
    "r = range(3,7,2)\n",
    "print(r,type(r))\n",
    "#for i in r:\n",
    "#    print (i)\n",
    "print(list(r))"
   ]
  },
  {
   "cell_type": "code",
   "execution_count": 17,
   "metadata": {},
   "outputs": [
    {
     "name": "stdout",
     "output_type": "stream",
     "text": [
      "range(3, 7)\n",
      "[3, 4, 5, 6]\n"
     ]
    }
   ],
   "source": [
    "r = range(3,7,1)\n",
    "print(r)\n",
    "print(list(r))"
   ]
  },
  {
   "cell_type": "code",
   "execution_count": 18,
   "metadata": {},
   "outputs": [
    {
     "name": "stdout",
     "output_type": "stream",
     "text": [
      "range(3, 7)\n",
      "[3, 4, 5, 6]\n"
     ]
    }
   ],
   "source": [
    "r = range(3,7)\n",
    "print(r)\n",
    "print(list(r))"
   ]
  },
  {
   "cell_type": "markdown",
   "metadata": {},
   "source": [
    "Durch zwei Sequenzen gleichzeitig iterieren:     zip       ###Wichtig###\n",
    "\n",
    "******\n",
    "Iterate through two sequences simultaneously:           zip\n",
    "****\n",
    "كرر من خلال سلسلتين في وقت واحد:          zip"
   ]
  },
  {
   "cell_type": "code",
   "execution_count": 19,
   "metadata": {},
   "outputs": [
    {
     "name": "stdout",
     "output_type": "stream",
     "text": [
      "H 12\n",
      "a -7.3\n",
      "l 1\n",
      "l 0\n",
      "o False\n"
     ]
    }
   ],
   "source": [
    "###Wichtig###\n",
    "\n",
    "for x,y in zip('Hallo',[12, -7.3, 1, 0, False]):\n",
    "    print(x,y)"
   ]
  },
  {
   "cell_type": "code",
   "execution_count": null,
   "metadata": {},
   "outputs": [],
   "source": []
  },
  {
   "cell_type": "markdown",
   "metadata": {},
   "source": [
    "Einen Zähler mitlaufen lassen:\n",
    "********\n",
    "Let a counter run:"
   ]
  },
  {
   "cell_type": "code",
   "execution_count": 28,
   "metadata": {},
   "outputs": [
    {
     "name": "stdout",
     "output_type": "stream",
     "text": [
      "H\n",
      "a\n",
      "l\n",
      "l\n",
      "o\n"
     ]
    }
   ],
   "source": [
    "for x,y in zip('Hallo',[12, -7.3, 1, 0, False]):\n",
    "    print(x)"
   ]
  },
  {
   "cell_type": "code",
   "execution_count": 30,
   "metadata": {},
   "outputs": [
    {
     "name": "stdout",
     "output_type": "stream",
     "text": [
      "0 12\n",
      "1 -7.3\n",
      "2 1\n",
      "3 0\n",
      "4 False\n"
     ]
    }
   ],
   "source": [
    "for x,y, in enumerate([12, -7.3, 1, 0, False]):\n",
    "    print(x,y)"
   ]
  },
  {
   "cell_type": "code",
   "execution_count": 32,
   "metadata": {},
   "outputs": [
    {
     "name": "stdout",
     "output_type": "stream",
     "text": [
      "0 Hallo\n",
      "1 12\n",
      "2 -7.3\n",
      "3 1\n",
      "4 0\n",
      "5 False\n"
     ]
    }
   ],
   "source": [
    "\n",
    "for x,y, in enumerate(['Hallo',12, -7.3, 1, 0, False]):\n",
    "    print(x,y)"
   ]
  },
  {
   "cell_type": "code",
   "execution_count": 20,
   "metadata": {},
   "outputs": [
    {
     "ename": "SyntaxError",
     "evalue": "invalid syntax (<ipython-input-20-cad8a2499fa2>, line 1)",
     "output_type": "error",
     "traceback": [
      "\u001b[0;36m  File \u001b[0;32m\"<ipython-input-20-cad8a2499fa2>\"\u001b[0;36m, line \u001b[0;32m1\u001b[0m\n\u001b[0;31m    13. Enumerate\u001b[0m\n\u001b[0m                ^\u001b[0m\n\u001b[0;31mSyntaxError\u001b[0m\u001b[0;31m:\u001b[0m invalid syntax\n"
     ]
    }
   ],
   "source": [
    "\n",
    "13. Enumerate\n",
    "\n",
    "Enumerate is a built-in function of Python. Its usefulness can not be summarized in a single line.\n",
    "Yet most of the newcomers and even some advanced programmers are unaware of it.\n",
    "\n",
    "***It allows us to loop over something and have an automatic counter.***\n",
    "Here is an example:\n",
    "    \n",
    "\n",
    "my_list = ['apple', 'banana', 'grapes', 'pear']\n",
    "for counter, value in enumerate(my_list):\n",
    "    print counter, value\n",
    "\n",
    "# Output:\n",
    "# 0 apple\n",
    "# 1 banana\n",
    "# 2 grapes\n",
    "# 3 pear\n",
    "\n",
    "And there is more! enumerate also accepts an optional argument that allows us to specify the starting index of the counter.\n",
    "\n",
    "my_list = ['apple', 'banana', 'grapes', 'pear']\n",
    "for c, value in enumerate(my_list, 3):\n",
    "    print(c, value)\n",
    "\n",
    "# Output:\n",
    "# 3 apple\n",
    "# 4 banana\n",
    "# 5 grapes\n",
    "# 6 pear\n",
    "\n",
    "An example of where the optional argument of enumerate comes in handy is creating tuples\n",
    "containing the index and list item using a list. \n",
    "Here is an example:\n",
    "\n",
    "my_list = ['apple', 'banana', 'grapes', 'pear']\n",
    "counter_list = list(enumerate(my_list, 1))\n",
    "print(counter_list)\n",
    "# Output: [(1, 'apple'), (2, 'banana'), (3, 'grapes'), (4, 'pear')]\n",
    "\n"
   ]
  },
  {
   "cell_type": "code",
   "execution_count": 23,
   "metadata": {},
   "outputs": [
    {
     "name": "stdout",
     "output_type": "stream",
     "text": [
      "4 apple\n",
      "5 banana\n",
      "6 grapes\n",
      "7 pear\n"
     ]
    }
   ],
   "source": [
    "\n",
    "my_list = ['apple', 'banana', 'grapes', 'pear']\n",
    "for c, value in enumerate(my_list, 4):\n",
    "    print(c, value)"
   ]
  },
  {
   "cell_type": "code",
   "execution_count": 24,
   "metadata": {},
   "outputs": [
    {
     "name": "stdout",
     "output_type": "stream",
     "text": [
      "[(1, 'apple'), (2, 'banana'), (3, 'grapes'), (4, 'pear')]\n"
     ]
    }
   ],
   "source": [
    "my_list = ['apple', 'banana', 'grapes', 'pear']\n",
    "counter_list = list(enumerate(my_list, 1))\n",
    "print(counter_list)\n",
    "# Output: [(1, 'apple'), (2, 'banana'), (3, 'grapes'), (4, 'pear')]\n"
   ]
  },
  {
   "cell_type": "code",
   "execution_count": 31,
   "metadata": {},
   "outputs": [
    {
     "name": "stdout",
     "output_type": "stream",
     "text": [
      "(0, 'apple')\n",
      "(1, 'banana')\n",
      "(2, 'grapes')\n",
      "(3, 'pear')\n",
      "[(0, 'apple'), (1, 'banana'), (2, 'grapes'), (3, 'pear')]\n"
     ]
    }
   ],
   "source": [
    "list2=['apple', 'banana', 'grapes', 'pear']\n",
    "for i in enumerate(list2):\n",
    "    print (i)\n",
    "counter_list2=list(enumerate(list2))\n",
    "print (counter_list2)"
   ]
  },
  {
   "cell_type": "code",
   "execution_count": null,
   "metadata": {},
   "outputs": [],
   "source": []
  },
  {
   "cell_type": "markdown",
   "metadata": {},
   "source": [
    "## 2.3. *while*-Schleife"
   ]
  },
  {
   "cell_type": "markdown",
   "metadata": {},
   "source": [
    "Um eine Anweisung so lang wiederholen zu lassen, wie eine Bedingung erfüllt ist:\n",
    "To repeat a statement as long as a condition is met:\n",
    "************************\n",
    "To repeat an instruction as long as a condition is met:\n",
    "To repeat a statement as long as a condition is met:\n",
    "************************************\n",
    "مثال على المكان الذي تكون فيه الوسيطة الاختيارية للتعداد مفيدة \n",
    "وهي إنشاء مجموعات تحتوي على فهرس وعنصر قائمة باستخدام قائمة."
   ]
  },
  {
   "cell_type": "code",
   "execution_count": 32,
   "metadata": {},
   "outputs": [
    {
     "name": "stdout",
     "output_type": "stream",
     "text": [
      "HalloHallo\n",
      "HalloHalloHalloHallo\n",
      "HalloHalloHalloHalloHalloHalloHalloHallo\n"
     ]
    }
   ],
   "source": [
    "a = 'Hallo'\n",
    "while len(a)<40:\n",
    "    a = a+a\n",
    "    print(a)\n"
   ]
  },
  {
   "cell_type": "markdown",
   "metadata": {},
   "source": [
    "Soll eine Bedingung nicht am Anfang der Schleife, sondern an anderer Stelle geprüft werden:"
   ]
  },
  {
   "cell_type": "code",
   "execution_count": 15,
   "metadata": {},
   "outputs": [
    {
     "name": "stdout",
     "output_type": "stream",
     "text": [
      "HalloHallo\n",
      "HalloHalloHalloHallo\n",
      "HalloHalloHalloHalloHalloHalloHalloHallo\n",
      "HalloHalloHalloHalloHalloHalloHalloHalloHalloHalloHalloHalloHalloHalloHalloHallo\n"
     ]
    }
   ],
   "source": [
    "a = 'Hallo'\n",
    "while True:\n",
    "    a = a+a\n",
    "    print(a)\n",
    "    if len(a)>40:\n",
    "        break"
   ]
  },
  {
   "cell_type": "markdown",
   "metadata": {},
   "source": [
    "### Vergleichsoperatoren\n",
    "\n",
    "| Operator | Vergleichsoperation          |\n",
    "|----------|------------------------------|\n",
    "| `==`     | gleicher Wert                |\n",
    "| `!=`     | ungleich                     |\n",
    "| `<`      | kleiner als                  |\n",
    "| `<=`     | kleiner oder gleich          |\n",
    "| `>`      | größer als                   |\n",
    "| `>=`     | größer oder gleich           |\n",
    "| `is`     | gleiches Objekt              |\n",
    "| `in`     | Element in Sequenz enthalten |\n",
    "\n",
    "\n",
    "***********************************************************\n",
    "\n",
    "### Comparison operators\n",
    "\n",
    "\n",
    "| Operator | Vergleichsoperation              |\n",
    "|----------|----------------------------------|\n",
    "| `==`     | same value                       |\n",
    "| `!=`     | not equal                        |\n",
    "| `<`      |  less than                       |\n",
    "| `<=`     | less than or equal to            |\n",
    "| `>`      | greater than                     |\n",
    "| `>=`     | greater or equal                 |\n",
    "| `is`     | is the same object               |\n",
    "| `in`     | contained in element in sequence |"
   ]
  },
  {
   "cell_type": "code",
   "execution_count": 33,
   "metadata": {},
   "outputs": [
    {
     "data": {
      "text/plain": [
       "(True, True, True, False)"
      ]
     },
     "execution_count": 33,
     "metadata": {},
     "output_type": "execute_result"
    }
   ],
   "source": [
    "b=1.5\n",
    "a=b\n",
    "c=3/2\n",
    "a==b, a==c, a is b, a is c "
   ]
  },
  {
   "cell_type": "markdown",
   "metadata": {},
   "source": [
    "###wichtig###\n",
    "\n",
    "\n",
    "Es können auch mehrere Vergleiche gleichzeitig durchgeführt werden:\n",
    "*******\n",
    "\n",
    "Several comparisons can be performed simultaneously:"
   ]
  },
  {
   "cell_type": "code",
   "execution_count": 35,
   "metadata": {},
   "outputs": [
    {
     "name": "stdout",
     "output_type": "stream",
     "text": [
      "Ja\n"
     ]
    }
   ],
   "source": [
    "###wichtig###\n",
    "d = 3\n",
    "e = 6\n",
    "if 1<=d<=5<e:\n",
    "    print('Ja')\n",
    "else:\n",
    "    print('Nein')"
   ]
  },
  {
   "cell_type": "markdown",
   "metadata": {},
   "source": [
    "### Logische Operatoren\n",
    "\n",
    "Zur Verknüpfung von Bedingungen:\n",
    "*************\n",
    "### Logical operators\n",
    "\n",
    "To link conditions:\n",
    "********************\n",
    "\n",
    "| Operator | Ergebnis                                                  |\n",
    "|----------|-----------------------------------------------------------|\n",
    "| `and`    | `True` wenn beide Operanden `True` sind, sonst `False`    |\n",
    "| `or`     | `True` wenn einer der Operanden `True` ist, sonst `False` |\n",
    "| `not`    | `True` wenn Operand `False` und umgekehrt                 |"
   ]
  },
  {
   "cell_type": "code",
   "execution_count": 37,
   "metadata": {},
   "outputs": [
    {
     "name": "stdout",
     "output_type": "stream",
     "text": [
      "Ja\n"
     ]
    }
   ],
   "source": [
    "d = 3\n",
    "e = 6\n",
    "if d>=1 and not e>10:\n",
    "    print('Ja')\n",
    "else:\n",
    "    print('Nein')"
   ]
  },
  {
   "cell_type": "markdown",
   "metadata": {},
   "source": [
    "## Übung\n",
    "\n",
    "**1) Berechnen Sie die Summe aller ungeraden ganzen Zahlen zwischen 75 und 1001 ...**\n",
    "  * ... mithilfe einer for-Schleife.\n",
    "  * ... mithilfe einer while-Schleife.\n",
    "  * ... ohne Schleife.\n",
    "  \n",
    " ## exercise\n",
    "\n",
    "1)\n",
    "Calculate the sum of all odd integers between 75 and 1001 ...\n",
    "\n",
    "     ... using a for loop.\n",
    "     ... using a while loop.\n",
    "     ... without a loop."
   ]
  },
  {
   "cell_type": "code",
   "execution_count": 52,
   "metadata": {},
   "outputs": [
    {
     "name": "stdout",
     "output_type": "stream",
     "text": [
      "[75, 77, 79, 81, 83, 85, 87, 89, 91, 93, 95, 97, 99, 101, 103, 105, 107, 109, 111, 113, 115, 117, 119, 121, 123, 125, 127, 129, 131, 133, 135, 137, 139, 141, 143, 145, 147, 149, 151, 153, 155, 157, 159, 161, 163, 165, 167, 169, 171, 173, 175, 177, 179, 181, 183, 185, 187, 189, 191, 193, 195, 197, 199, 201, 203, 205, 207, 209, 211, 213, 215, 217, 219, 221, 223, 225, 227, 229, 231, 233, 235, 237, 239, 241, 243, 245, 247, 249, 251, 253, 255, 257, 259, 261, 263, 265, 267, 269, 271, 273, 275, 277, 279, 281, 283, 285, 287, 289, 291, 293, 295, 297, 299, 301, 303, 305, 307, 309, 311, 313, 315, 317, 319, 321, 323, 325, 327, 329, 331, 333, 335, 337, 339, 341, 343, 345, 347, 349, 351, 353, 355, 357, 359, 361, 363, 365, 367, 369, 371, 373, 375, 377, 379, 381, 383, 385, 387, 389, 391, 393, 395, 397, 399, 401, 403, 405, 407, 409, 411, 413, 415, 417, 419, 421, 423, 425, 427, 429, 431, 433, 435, 437, 439, 441, 443, 445, 447, 449, 451, 453, 455, 457, 459, 461, 463, 465, 467, 469, 471, 473, 475, 477, 479, 481, 483, 485, 487, 489, 491, 493, 495, 497, 499, 501, 503, 505, 507, 509, 511, 513, 515, 517, 519, 521, 523, 525, 527, 529, 531, 533, 535, 537, 539, 541, 543, 545, 547, 549, 551, 553, 555, 557, 559, 561, 563, 565, 567, 569, 571, 573, 575, 577, 579, 581, 583, 585, 587, 589, 591, 593, 595, 597, 599, 601, 603, 605, 607, 609, 611, 613, 615, 617, 619, 621, 623, 625, 627, 629, 631, 633, 635, 637, 639, 641, 643, 645, 647, 649, 651, 653, 655, 657, 659, 661, 663, 665, 667, 669, 671, 673, 675, 677, 679, 681, 683, 685, 687, 689, 691, 693, 695, 697, 699, 701, 703, 705, 707, 709, 711, 713, 715, 717, 719, 721, 723, 725, 727, 729, 731, 733, 735, 737, 739, 741, 743, 745, 747, 749, 751, 753, 755, 757, 759, 761, 763, 765, 767, 769, 771, 773, 775, 777, 779, 781, 783, 785, 787, 789, 791, 793, 795, 797, 799, 801, 803, 805, 807, 809, 811, 813, 815, 817, 819, 821, 823, 825, 827, 829, 831, 833, 835, 837, 839, 841, 843, 845, 847, 849, 851, 853, 855, 857, 859, 861, 863, 865, 867, 869, 871, 873, 875, 877, 879, 881, 883, 885, 887, 889, 891, 893, 895, 897, 899, 901, 903, 905, 907, 909, 911, 913, 915, 917, 919, 921, 923, 925, 927, 929, 931, 933, 935, 937, 939, 941, 943, 945, 947, 949, 951, 953, 955, 957, 959, 961, 963, 965, 967, 969, 971, 973, 975, 977, 979, 981, 983, 985, 987, 989, 991, 993, 995, 997, 999, 1001] \n",
      "\n",
      "*******************\n",
      "sum= 249632\n"
     ]
    }
   ],
   "source": [
    "sum1=0\n",
    "list1=range(75,1002,2)\n",
    "print(list(list1),'\\n')\n",
    "print('*******************')\n",
    "for i in list1:\n",
    "    sum1=sum1+i\n",
    "print('sum=',sum1)"
   ]
  },
  {
   "cell_type": "code",
   "execution_count": 20,
   "metadata": {},
   "outputs": [
    {
     "name": "stdout",
     "output_type": "stream",
     "text": [
      "[75, 77, 79, 81, 83, 85, 87, 89, 91, 93, 95, 97, 99, 101, 103, 105, 107, 109, 111, 113, 115, 117, 119, 121, 123, 125, 127, 129, 131, 133, 135, 137, 139, 141, 143, 145, 147, 149, 151, 153, 155, 157, 159, 161, 163, 165, 167, 169, 171, 173, 175, 177, 179, 181, 183, 185, 187, 189, 191, 193, 195, 197, 199, 201, 203, 205, 207, 209, 211, 213, 215, 217, 219, 221, 223, 225, 227, 229, 231, 233, 235, 237, 239, 241, 243, 245, 247, 249, 251, 253, 255, 257, 259, 261, 263, 265, 267, 269, 271, 273, 275, 277, 279, 281, 283, 285, 287, 289, 291, 293, 295, 297, 299, 301, 303, 305, 307, 309, 311, 313, 315, 317, 319, 321, 323, 325, 327, 329, 331, 333, 335, 337, 339, 341, 343, 345, 347, 349, 351, 353, 355, 357, 359, 361, 363, 365, 367, 369, 371, 373, 375, 377, 379, 381, 383, 385, 387, 389, 391, 393, 395, 397, 399, 401, 403, 405, 407, 409, 411, 413, 415, 417, 419, 421, 423, 425, 427, 429, 431, 433, 435, 437, 439, 441, 443, 445, 447, 449, 451, 453, 455, 457, 459, 461, 463, 465, 467, 469, 471, 473, 475, 477, 479, 481, 483, 485, 487, 489, 491, 493, 495, 497, 499, 501, 503, 505, 507, 509, 511, 513, 515, 517, 519, 521, 523, 525, 527, 529, 531, 533, 535, 537, 539, 541, 543, 545, 547, 549, 551, 553, 555, 557, 559, 561, 563, 565, 567, 569, 571, 573, 575, 577, 579, 581, 583, 585, 587, 589, 591, 593, 595, 597, 599, 601, 603, 605, 607, 609, 611, 613, 615, 617, 619, 621, 623, 625, 627, 629, 631, 633, 635, 637, 639, 641, 643, 645, 647, 649, 651, 653, 655, 657, 659, 661, 663, 665, 667, 669, 671, 673, 675, 677, 679, 681, 683, 685, 687, 689, 691, 693, 695, 697, 699, 701, 703, 705, 707, 709, 711, 713, 715, 717, 719, 721, 723, 725, 727, 729, 731, 733, 735, 737, 739, 741, 743, 745, 747, 749, 751, 753, 755, 757, 759, 761, 763, 765, 767, 769, 771, 773, 775, 777, 779, 781, 783, 785, 787, 789, 791, 793, 795, 797, 799, 801, 803, 805, 807, 809, 811, 813, 815, 817, 819, 821, 823, 825, 827, 829, 831, 833, 835, 837, 839, 841, 843, 845, 847, 849, 851, 853, 855, 857, 859, 861, 863, 865, 867, 869, 871, 873, 875, 877, 879, 881, 883, 885, 887, 889, 891, 893, 895, 897, 899, 901, 903, 905, 907, 909, 911, 913, 915, 917, 919, 921, 923, 925, 927, 929, 931, 933, 935, 937, 939, 941, 943, 945, 947, 949, 951, 953, 955, 957, 959, 961, 963, 965, 967, 969, 971, 973, 975, 977, 979, 981, 983, 985, 987, 989, 991, 993, 995, 997, 999, 1001] \n",
      "\n",
      "*******************\n",
      "sum= 249632\n"
     ]
    }
   ],
   "source": [
    "'''a = 'Hallo'\n",
    "while True:\n",
    "    a = a+a\n",
    "    print(a)\n",
    "    if len(a)>40:\n",
    "        break'''\n",
    "\n",
    "\n",
    "sum2=0\n",
    "j=75\n",
    "list2=range(75,1002,2)\n",
    "print(list(list2),'\\n')\n",
    "print('*******************')\n",
    "\n",
    "while (j>=75) and (j<=1001):\n",
    "    sum2=sum2+j\n",
    "    #print(j,'\\n')\n",
    "    j=j+2\n",
    "print('sum=',sum2)"
   ]
  },
  {
   "cell_type": "code",
   "execution_count": 26,
   "metadata": {},
   "outputs": [
    {
     "name": "stdout",
     "output_type": "stream",
     "text": [
      "[75, 77, 79, 81, 83, 85, 87, 89, 91, 93, 95, 97, 99, 101, 103, 105, 107, 109, 111, 113, 115, 117, 119, 121, 123, 125, 127, 129, 131, 133, 135, 137, 139, 141, 143, 145, 147, 149, 151, 153, 155, 157, 159, 161, 163, 165, 167, 169, 171, 173, 175, 177, 179, 181, 183, 185, 187, 189, 191, 193, 195, 197, 199, 201, 203, 205, 207, 209, 211, 213, 215, 217, 219, 221, 223, 225, 227, 229, 231, 233, 235, 237, 239, 241, 243, 245, 247, 249, 251, 253, 255, 257, 259, 261, 263, 265, 267, 269, 271, 273, 275, 277, 279, 281, 283, 285, 287, 289, 291, 293, 295, 297, 299, 301, 303, 305, 307, 309, 311, 313, 315, 317, 319, 321, 323, 325, 327, 329, 331, 333, 335, 337, 339, 341, 343, 345, 347, 349, 351, 353, 355, 357, 359, 361, 363, 365, 367, 369, 371, 373, 375, 377, 379, 381, 383, 385, 387, 389, 391, 393, 395, 397, 399, 401, 403, 405, 407, 409, 411, 413, 415, 417, 419, 421, 423, 425, 427, 429, 431, 433, 435, 437, 439, 441, 443, 445, 447, 449, 451, 453, 455, 457, 459, 461, 463, 465, 467, 469, 471, 473, 475, 477, 479, 481, 483, 485, 487, 489, 491, 493, 495, 497, 499, 501, 503, 505, 507, 509, 511, 513, 515, 517, 519, 521, 523, 525, 527, 529, 531, 533, 535, 537, 539, 541, 543, 545, 547, 549, 551, 553, 555, 557, 559, 561, 563, 565, 567, 569, 571, 573, 575, 577, 579, 581, 583, 585, 587, 589, 591, 593, 595, 597, 599, 601, 603, 605, 607, 609, 611, 613, 615, 617, 619, 621, 623, 625, 627, 629, 631, 633, 635, 637, 639, 641, 643, 645, 647, 649, 651, 653, 655, 657, 659, 661, 663, 665, 667, 669, 671, 673, 675, 677, 679, 681, 683, 685, 687, 689, 691, 693, 695, 697, 699, 701, 703, 705, 707, 709, 711, 713, 715, 717, 719, 721, 723, 725, 727, 729, 731, 733, 735, 737, 739, 741, 743, 745, 747, 749, 751, 753, 755, 757, 759, 761, 763, 765, 767, 769, 771, 773, 775, 777, 779, 781, 783, 785, 787, 789, 791, 793, 795, 797, 799, 801, 803, 805, 807, 809, 811, 813, 815, 817, 819, 821, 823, 825, 827, 829, 831, 833, 835, 837, 839, 841, 843, 845, 847, 849, 851, 853, 855, 857, 859, 861, 863, 865, 867, 869, 871, 873, 875, 877, 879, 881, 883, 885, 887, 889, 891, 893, 895, 897, 899, 901, 903, 905, 907, 909, 911, 913, 915, 917, 919, 921, 923, 925, 927, 929, 931, 933, 935, 937, 939, 941, 943, 945, 947, 949, 951, 953, 955, 957, 959, 961, 963, 965, 967, 969, 971, 973, 975, 977, 979, 981, 983, 985, 987, 989, 991, 993, 995, 997, 999, 1001] \n",
      "\n",
      "*******************\n",
      "sum= 249632\n",
      "*******************\n",
      "[(0, 75), (1, 77), (2, 79), (3, 81), (4, 83), (5, 85), (6, 87), (7, 89), (8, 91), (9, 93), (10, 95), (11, 97), (12, 99), (13, 101), (14, 103), (15, 105), (16, 107), (17, 109), (18, 111), (19, 113), (20, 115), (21, 117), (22, 119), (23, 121), (24, 123), (25, 125), (26, 127), (27, 129), (28, 131), (29, 133), (30, 135), (31, 137), (32, 139), (33, 141), (34, 143), (35, 145), (36, 147), (37, 149), (38, 151), (39, 153), (40, 155), (41, 157), (42, 159), (43, 161), (44, 163), (45, 165), (46, 167), (47, 169), (48, 171), (49, 173), (50, 175), (51, 177), (52, 179), (53, 181), (54, 183), (55, 185), (56, 187), (57, 189), (58, 191), (59, 193), (60, 195), (61, 197), (62, 199), (63, 201), (64, 203), (65, 205), (66, 207), (67, 209), (68, 211), (69, 213), (70, 215), (71, 217), (72, 219), (73, 221), (74, 223), (75, 225), (76, 227), (77, 229), (78, 231), (79, 233), (80, 235), (81, 237), (82, 239), (83, 241), (84, 243), (85, 245), (86, 247), (87, 249), (88, 251), (89, 253), (90, 255), (91, 257), (92, 259), (93, 261), (94, 263), (95, 265), (96, 267), (97, 269), (98, 271), (99, 273), (100, 275), (101, 277), (102, 279), (103, 281), (104, 283), (105, 285), (106, 287), (107, 289), (108, 291), (109, 293), (110, 295), (111, 297), (112, 299), (113, 301), (114, 303), (115, 305), (116, 307), (117, 309), (118, 311), (119, 313), (120, 315), (121, 317), (122, 319), (123, 321), (124, 323), (125, 325), (126, 327), (127, 329), (128, 331), (129, 333), (130, 335), (131, 337), (132, 339), (133, 341), (134, 343), (135, 345), (136, 347), (137, 349), (138, 351), (139, 353), (140, 355), (141, 357), (142, 359), (143, 361), (144, 363), (145, 365), (146, 367), (147, 369), (148, 371), (149, 373), (150, 375), (151, 377), (152, 379), (153, 381), (154, 383), (155, 385), (156, 387), (157, 389), (158, 391), (159, 393), (160, 395), (161, 397), (162, 399), (163, 401), (164, 403), (165, 405), (166, 407), (167, 409), (168, 411), (169, 413), (170, 415), (171, 417), (172, 419), (173, 421), (174, 423), (175, 425), (176, 427), (177, 429), (178, 431), (179, 433), (180, 435), (181, 437), (182, 439), (183, 441), (184, 443), (185, 445), (186, 447), (187, 449), (188, 451), (189, 453), (190, 455), (191, 457), (192, 459), (193, 461), (194, 463), (195, 465), (196, 467), (197, 469), (198, 471), (199, 473), (200, 475), (201, 477), (202, 479), (203, 481), (204, 483), (205, 485), (206, 487), (207, 489), (208, 491), (209, 493), (210, 495), (211, 497), (212, 499), (213, 501), (214, 503), (215, 505), (216, 507), (217, 509), (218, 511), (219, 513), (220, 515), (221, 517), (222, 519), (223, 521), (224, 523), (225, 525), (226, 527), (227, 529), (228, 531), (229, 533), (230, 535), (231, 537), (232, 539), (233, 541), (234, 543), (235, 545), (236, 547), (237, 549), (238, 551), (239, 553), (240, 555), (241, 557), (242, 559), (243, 561), (244, 563), (245, 565), (246, 567), (247, 569), (248, 571), (249, 573), (250, 575), (251, 577), (252, 579), (253, 581), (254, 583), (255, 585), (256, 587), (257, 589), (258, 591), (259, 593), (260, 595), (261, 597), (262, 599), (263, 601), (264, 603), (265, 605), (266, 607), (267, 609), (268, 611), (269, 613), (270, 615), (271, 617), (272, 619), (273, 621), (274, 623), (275, 625), (276, 627), (277, 629), (278, 631), (279, 633), (280, 635), (281, 637), (282, 639), (283, 641), (284, 643), (285, 645), (286, 647), (287, 649), (288, 651), (289, 653), (290, 655), (291, 657), (292, 659), (293, 661), (294, 663), (295, 665), (296, 667), (297, 669), (298, 671), (299, 673), (300, 675), (301, 677), (302, 679), (303, 681), (304, 683), (305, 685), (306, 687), (307, 689), (308, 691), (309, 693), (310, 695), (311, 697), (312, 699), (313, 701), (314, 703), (315, 705), (316, 707), (317, 709), (318, 711), (319, 713), (320, 715), (321, 717), (322, 719), (323, 721), (324, 723), (325, 725), (326, 727), (327, 729), (328, 731), (329, 733), (330, 735), (331, 737), (332, 739), (333, 741), (334, 743), (335, 745), (336, 747), (337, 749), (338, 751), (339, 753), (340, 755), (341, 757), (342, 759), (343, 761), (344, 763), (345, 765), (346, 767), (347, 769), (348, 771), (349, 773), (350, 775), (351, 777), (352, 779), (353, 781), (354, 783), (355, 785), (356, 787), (357, 789), (358, 791), (359, 793), (360, 795), (361, 797), (362, 799), (363, 801), (364, 803), (365, 805), (366, 807), (367, 809), (368, 811), (369, 813), (370, 815), (371, 817), (372, 819), (373, 821), (374, 823), (375, 825), (376, 827), (377, 829), (378, 831), (379, 833), (380, 835), (381, 837), (382, 839), (383, 841), (384, 843), (385, 845), (386, 847), (387, 849), (388, 851), (389, 853), (390, 855), (391, 857), (392, 859), (393, 861), (394, 863), (395, 865), (396, 867), (397, 869), (398, 871), (399, 873), (400, 875), (401, 877), (402, 879), (403, 881), (404, 883), (405, 885), (406, 887), (407, 889), (408, 891), (409, 893), (410, 895), (411, 897), (412, 899), (413, 901), (414, 903), (415, 905), (416, 907), (417, 909), (418, 911), (419, 913), (420, 915), (421, 917), (422, 919), (423, 921), (424, 923), (425, 925), (426, 927), (427, 929), (428, 931), (429, 933), (430, 935), (431, 937), (432, 939), (433, 941), (434, 943), (435, 945), (436, 947), (437, 949), (438, 951), (439, 953), (440, 955), (441, 957), (442, 959), (443, 961), (444, 963), (445, 965), (446, 967), (447, 969), (448, 971), (449, 973), (450, 975), (451, 977), (452, 979), (453, 981), (454, 983), (455, 985), (456, 987), (457, 989), (458, 991), (459, 993), (460, 995), (461, 997), (462, 999), (463, 1001)]\n",
      "*******************\n"
     ]
    }
   ],
   "source": [
    "sum1=0\n",
    "list4=range(75,1002,2)\n",
    "print(list(list4),'\\n')\n",
    "print('*******************')\n",
    "print('sum=',sum(list4))\n",
    "print('*******************')\n",
    "list5=list(enumerate(list4))\n",
    "print(list5)\n",
    "print('*******************')\n"
   ]
  },
  {
   "cell_type": "code",
   "execution_count": null,
   "metadata": {},
   "outputs": [],
   "source": []
  },
  {
   "cell_type": "markdown",
   "metadata": {},
   "source": [
    "**2) Nähern Sie die Kreiszahl $\\pi$ iterativ an. Hierfür können Sie z.B. das [Wallissche Produkt](https://de.wikipedia.org/wiki/Wallissches_Produkt) verwenden.**\n",
    "\n",
    "** 2) Approximate the circle number $ \\ pi $ iteratively. You can do this for example by Use the [Wallis product] (https://en.wikipedia.org/wiki/Wallissches_Produkt). **\n",
    "\n",
    "$$\n",
    "\\pi= 2\\,\\prod_{i=1}^\\infty\\left(1+\\frac{1}{4i^2-1}\\right)\n",
    "$$\n",
    "\n",
    "\n",
    "\n"
   ]
  },
  {
   "cell_type": "code",
   "execution_count": 13,
   "metadata": {},
   "outputs": [
    {
     "name": "stdout",
     "output_type": "stream",
     "text": [
      "PI= 2.000000000000005\n"
     ]
    }
   ],
   "source": [
    "# Hier eigenen Code schreiben ...\n",
    "\n",
    "PI=0\n",
    "a=range(1,10000000)\n",
    "for i in list(a):\n",
    "    PI=(1+(1/(4*i**2-1)))\n",
    "    PI=2*PI\n",
    "    \n",
    "print('PI=',PI)"
   ]
  },
  {
   "cell_type": "code",
   "execution_count": 2,
   "metadata": {},
   "outputs": [
    {
     "name": "stdout",
     "output_type": "stream",
     "text": [
      "PI= 1999998.9999961203\n"
     ]
    }
   ],
   "source": []
  },
  {
   "cell_type": "markdown",
   "metadata": {},
   "source": [
    "3) Schreiben Sie einen kurzen Programmabschnitt, der vom Nutzer eingegebene Zahlwörter in Integer-Zahlen von 1 bis 4 umwandelt. Verwenden Sie hierfür ...**\n",
    "  * ...eine *if/elif/else*-Struktur\n",
    "  * ...nur ein *Dictionary*\n",
    "  *****************\n",
    "3) Write a short program section that converts numerals entered by the user into integers from 1 to 4. Use ...\n",
    "\n",
    "     ... an if / elif / else structure\n",
    "     ... just a dictionary"
   ]
  },
  {
   "cell_type": "code",
   "execution_count": 10,
   "metadata": {},
   "outputs": [
    {
     "name": "stdin",
     "output_type": "stream",
     "text": [
      "Geben Sie ein Zahlwort zwischen \"eins\" und \"vier\" ein: vier\n"
     ]
    },
    {
     "name": "stdout",
     "output_type": "stream",
     "text": [
      "4\n"
     ]
    }
   ],
   "source": [
    "# Die input-Funktion fragt Nutzereingaben ab:\n",
    "\n",
    "\n",
    "zahlwort = input('Geben Sie ein Zahlwort zwischen \"eins\" und \"vier\" ein:')\n",
    "a=[\"eins\",\"zwei\",\"drei\",\"vier\"]\n",
    "#print(a)\n",
    "for i in a:\n",
    "    if zahlwort ==\"eins\":\n",
    "        print(\"1\")\n",
    "        break\n",
    "    elif zahlwort ==\"zwei\":\n",
    "        print(\"2\")\n",
    "        break\n",
    "    elif zahlwort ==\"drei\":\n",
    "        print(\"3\")\n",
    "        break\n",
    "    elif zahlwort ==\"vier\":\n",
    "        print(\"4\")\n",
    "        break\n",
    "# Hier eigenen Code schreiben ...\n"
   ]
  },
  {
   "cell_type": "code",
   "execution_count": 8,
   "metadata": {},
   "outputs": [
    {
     "name": "stdin",
     "output_type": "stream",
     "text": [
      "insert eins\n"
     ]
    },
    {
     "name": "stdout",
     "output_type": "stream",
     "text": [
      "word=1\n"
     ]
    }
   ],
   "source": []
  },
  {
   "cell_type": "code",
   "execution_count": null,
   "metadata": {},
   "outputs": [],
   "source": []
  }
 ],
 "metadata": {
  "kernelspec": {
   "display_name": "Python 3",
   "language": "python",
   "name": "python3"
  },
  "language_info": {
   "codemirror_mode": {
    "name": "ipython",
    "version": 3
   },
   "file_extension": ".py",
   "mimetype": "text/x-python",
   "name": "python",
   "nbconvert_exporter": "python",
   "pygments_lexer": "ipython3",
   "version": "3.7.3"
  }
 },
 "nbformat": 4,
 "nbformat_minor": 4
}
