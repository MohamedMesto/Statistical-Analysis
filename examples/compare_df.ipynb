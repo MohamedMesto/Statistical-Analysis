{
  "nbformat": 4,
  "nbformat_minor": 0,
  "metadata": {
    "colab": {
      "provenance": []
    },
    "kernelspec": {
      "name": "python3",
      "display_name": "Python 3"
    },
    "language_info": {
      "name": "python"
    }
  },
  "cells": [
    {
      "cell_type": "markdown",
      "source": [
        " \n",
        " ## <font color=\"1497d4\">  **Statistical Analysis for Accented Speech recognition**</font>\n",
        "\n",
        " \n",
        " \n",
        "<font color=white> **Mozilla Common Voice 10.0. dataset**</font> \n",
        "\n",
        " "
      ],
      "metadata": {
        "id": "O-4zgD0f_rmv"
      }
    },
    {
      "cell_type": "code",
      "execution_count": 1,
      "metadata": {
        "colab": {
          "base_uri": "https://localhost:8080/"
        },
        "id": "oQieCHpt_jnL",
        "outputId": "9bb0237c-3b27-41c8-edc0-dc9033cd883d"
      },
      "outputs": [
        {
          "output_type": "stream",
          "name": "stdout",
          "text": [
            "Looking in indexes: https://pypi.org/simple, https://us-python.pkg.dev/colab-wheels/public/simple/\n",
            "Collecting compare-df\n",
            "  Downloading compare_df-0.6.tar.gz (6.4 kB)\n",
            "Requirement already satisfied: pandas in /usr/local/lib/python3.8/dist-packages (from compare-df) (1.3.5)\n",
            "Requirement already satisfied: numpy>=1.17.3 in /usr/local/lib/python3.8/dist-packages (from pandas->compare-df) (1.21.6)\n",
            "Requirement already satisfied: python-dateutil>=2.7.3 in /usr/local/lib/python3.8/dist-packages (from pandas->compare-df) (2.8.2)\n",
            "Requirement already satisfied: pytz>=2017.3 in /usr/local/lib/python3.8/dist-packages (from pandas->compare-df) (2022.6)\n",
            "Requirement already satisfied: six>=1.5 in /usr/local/lib/python3.8/dist-packages (from python-dateutil>=2.7.3->pandas->compare-df) (1.15.0)\n",
            "Building wheels for collected packages: compare-df\n",
            "  Building wheel for compare-df (setup.py) ... \u001b[?25l\u001b[?25hdone\n",
            "  Created wheel for compare-df: filename=compare_df-0.6-py3-none-any.whl size=8351 sha256=9ad0c2bb6db1731c2bb0d2a3ce49058856717004e21244d412f78445a75cf6ad\n",
            "  Stored in directory: /root/.cache/pip/wheels/2b/60/51/2da903eafd2f2e1da40d42dd1312e3b3a01fb8b469e07bbfd7\n",
            "Successfully built compare-df\n",
            "Installing collected packages: compare-df\n",
            "Successfully installed compare-df-0.6\n"
          ]
        }
      ],
      "source": [
        "! pip install compare-df # install compare-df Function\n"
      ]
    },
    {
      "cell_type": "code",
      "source": [
        "# How to Compare Values between two Pandas DataFrames\n",
        "#####################################################\n",
        "\n",
        "# Plot Values Of 2 Columns From Different Datasets \n",
        "##########################################################################\n",
        " \n",
        "import pandas as pd\n",
        "import numpy as np\n",
        "import seaborn as sns\n",
        "import matplotlib.pyplot as plt\n",
        "from compare_df import * # import compare-df Function\n",
        "\n",
        "data_1 = {'product_1': ['computer','monitor','printer','desk','router'],\n",
        "                   'audio_filepath_numeric': [1200,800,200,350,2050],'duration_numeric':[4.9,10.1,9.0,3.7,3.13]\n",
        "                   }\n",
        "df1 = pd.DataFrame(data_1)\n",
        "\n",
        "print('*********************print Contents of (df1)**********************')\n",
        "print(df1)\n",
        "\n",
        "data_2 = {'product_2': ['computer','monitor','printer','desk','router','Keyboard','mouse'],\n",
        "                    'path_numeric': [1200,800,300,150,2050,999,111],'gender': ['male','female','female','male','male','female','male']\n",
        "                    }\n",
        "df2 = pd.DataFrame(data_2)\n",
        "\n",
        "\n",
        "df2['audio_filepath_numeric']=df2['path_numeric']\n",
        "print(df2)\n",
        "\n",
        "\n",
        "\n",
        "\n",
        "df1[\"path_match_ID\"]=getMatchingRecords(df1,df2,common_columns=['audio_filepath_numeric'])\n",
        "print(df1)\n",
        "print('*********************print Contents of (df1)**********************')\n",
        "\n",
        "# df2[\"path_match_ID\"]=getMatchingRecords(df1,df2,common_columns=['product_1'])\n",
        "# print(df2)"
      ],
      "metadata": {
        "colab": {
          "base_uri": "https://localhost:8080/"
        },
        "id": "FPZwu0i1_vwJ",
        "outputId": "fb4c41d7-dec9-4477-d4ea-63ee874d9a84"
      },
      "execution_count": 4,
      "outputs": [
        {
          "output_type": "stream",
          "name": "stdout",
          "text": [
            "*********************print Contents of (df1)**********************\n",
            "  product_1  audio_filepath_numeric  duration_numeric\n",
            "0  computer                    1200              4.90\n",
            "1   monitor                     800             10.10\n",
            "2   printer                     200              9.00\n",
            "3      desk                     350              3.70\n",
            "4    router                    2050              3.13\n",
            "  product_2  path_numeric  gender  audio_filepath_numeric\n",
            "0  computer          1200    male                    1200\n",
            "1   monitor           800  female                     800\n",
            "2   printer           300  female                     300\n",
            "3      desk           150    male                     150\n",
            "4    router          2050    male                    2050\n",
            "5  Keyboard           999  female                     999\n",
            "6     mouse           111    male                     111\n",
            "  product_1  audio_filepath_numeric  duration_numeric  path_match_ID\n",
            "0  computer                    1200              4.90         1200.0\n",
            "1   monitor                     800             10.10          800.0\n",
            "2   printer                     200              9.00         2050.0\n",
            "3      desk                     350              3.70            NaN\n",
            "4    router                    2050              3.13            NaN\n",
            "*********************print Contents of (df1)**********************\n"
          ]
        }
      ]
    },
    {
      "cell_type": "code",
      "source": [],
      "metadata": {
        "id": "JKswh_8H_0U7"
      },
      "execution_count": null,
      "outputs": []
    }
  ]
}