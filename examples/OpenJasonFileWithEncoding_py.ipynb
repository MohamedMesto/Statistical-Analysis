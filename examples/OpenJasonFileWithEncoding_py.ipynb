{
  "nbformat": 4,
  "nbformat_minor": 0,
  "metadata": {
    "colab": {
      "provenance": []
    },
    "kernelspec": {
      "name": "python3",
      "display_name": "Python 3"
    },
    "language_info": {
      "name": "python"
    }
  },
  "cells": [
    {
      "cell_type": "code",
      "execution_count": 3,
      "metadata": {
        "id": "5RwSD6SiYLbo"
      },
      "outputs": [],
      "source": [
        "! cp /content/drive/MyDrive/results.json   /content/results.json\n",
        "import json\n",
        "\n",
        "with open(\"results.json\", \"r\", encoding=\"utf-8\") as input:\n",
        "    with open(\"output.txt\", \"w\", encoding=\"utf-8\") as output:\n",
        "        document = json.load(input)\n",
        "        json.dump(document, output, ensure_ascii=False)"
      ]
    },
    {
      "cell_type": "markdown",
      "source": [
        "Ref:\n",
        "https://docs.python.org/3/library/json.html#json.dump\n"
      ],
      "metadata": {
        "id": "_XGoPlfIZYMG"
      }
    },
    {
      "cell_type": "code",
      "source": [
        "import json\n",
        "print(json.loads(r'\"l\\u00f6yt\\u00e4\\u00e4\"'))\n",
        "\n",
        "print(json.dumps(json.loads(r'\"l\\u00f6yt\\u00e4\\u00e4\"')))\n",
        "\n",
        "print(json.dumps(json.loads(r'\"Gl\\u00FCcklich\"'), ensure_ascii=False))\n",
        "\n",
        "print(json.dumps(json.loads(r'\"Gl\\u00FCcklich\"'), ensure_ascii=True))\n"
      ],
      "metadata": {
        "colab": {
          "base_uri": "https://localhost:8080/"
        },
        "id": "DjjvLL9LYUfm",
        "outputId": "17a56c42-062f-4c0d-cdaf-4ca4e3e6438a"
      },
      "execution_count": 9,
      "outputs": [
        {
          "output_type": "stream",
          "name": "stdout",
          "text": [
            "löytää\n",
            "\"l\\u00f6yt\\u00e4\\u00e4\"\n",
            "\"Glücklich\"\n",
            "\"Gl\\u00fccklich\"\n"
          ]
        }
      ]
    }
  ]
}
