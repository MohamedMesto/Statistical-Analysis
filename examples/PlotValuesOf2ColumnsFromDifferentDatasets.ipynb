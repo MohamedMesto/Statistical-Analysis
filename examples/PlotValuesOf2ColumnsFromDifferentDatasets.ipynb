{
  "nbformat": 4,
  "nbformat_minor": 0,
  "metadata": {
    "colab": {
      "provenance": []
    },
    "kernelspec": {
      "name": "python3",
      "display_name": "Python 3"
    },
    "language_info": {
      "name": "python"
    }
  },
  "cells": [
    {
      "cell_type": "markdown",
      "source": [
        " \n",
        " ## <font color=\"1497d4\">  **Statistical Analysis for Accented Speech recognition**</font>\n",
        "\n",
        " \n",
        " \n",
        "<font color=white> **Mozilla Common Voice 10.0. dataset**</font> \n",
        "\n",
        " "
      ],
      "metadata": {
        "id": "c4Ehp1UIF4za"
      }
    },
    {
      "cell_type": "code",
      "source": [
        "# How to Compare Values between two Pandas DataFrames\n",
        "#####################################################\n",
        "\n",
        "# Plot Values Of 2 Columns From Different Datasets \n",
        "##########################################################################\n",
        "import pandas as pd\n",
        "import numpy as np\n",
        "import seaborn as sns\n",
        "import matplotlib.pyplot as plt\n",
        "\n",
        "# Import math Library   -- # Check whether some values are NaN\n",
        "import math\n",
        "data_1 = {'product_1': ['computer','monitor','printer','desk'],\n",
        "                   'audio_filepath_numeric': [1200,800,200,350],'duration_numeric':[4.9,10.1,9.0,3.7]\n",
        "                   }\n",
        "df1 = pd.DataFrame(data_1)\n",
        "\n",
        "print('*********************print Contents of (df1)**********************')\n",
        "print(df1)\n",
        "\n",
        "data_2 = {'product_2': ['computer','monitor','printer','desk'],\n",
        "                    'path_numeric': [1200,800,300,150],'gender': ['male','female','female','male']\n",
        "                    }\n",
        "df2 = pd.DataFrame(data_2)\n",
        "\n",
        "print('*********************print Contents of (df2)**********************')\n",
        "print(df2)\n",
        "# df1['new column that will contain the comparison results'] = np.where(condition,'value if true','value if false')\n",
        "# df1['path_match'] = np.where(df1['audio_filepath_numeric'] == df2['path_numeric'], 'True', 'False')\n",
        "########################################################\n",
        "\n",
        "df1['path_numeric'] = df2['path_numeric'] #add the path_numeric column from df2 to df1\n",
        "df1['path_match'] = np.where(df1['audio_filepath_numeric'] == df2['path_numeric'], 'True', 'False') #create a new column in df1 to check if prices match\n",
        "print('*********************print Contents of df1.info()**********************')\n",
        "\n",
        "print(df1.info())\n",
        "print('*********************print Contents of path_match**********************')\n",
        "\n",
        "print(df1)\n",
        "\n",
        "\n",
        "#df1['path_match']=df1.drop(df1[(df1['path_match'].isna())].index, inplace=True)\n",
        "\n",
        "print('*********************print Contents of gender_from_df2**********************')\n",
        "\n",
        " \n",
        "df1['gender_from_df2'] = np.where(df1['audio_filepath_numeric'] == df2['path_numeric'], df2['gender'],'No_path_match') #create a new column in df1 for path diff\n",
        "\n",
        "print(df1)\n",
        "print('*********************print Contents of search**********************')\n",
        "\n",
        "#print(df1[df1[\"path_match_ID\"].map(lambda path_match: \"True\" in path_match)])\n",
        "\n",
        "plt.xlabel(\"gender_from_df2\")\n",
        "plt.ylabel(\"duration_numeric\")\n",
        "plt.plot(df1['gender_from_df2'],df1['duration_numeric'], lw=1, ms=20)\n",
        "\n",
        "# #kurvenname = ['blau', 'orange', 'grün', 'rot', 'lila']\n",
        "# #plt.grid(True)\n",
        "plt.show()\n"
      ],
      "metadata": {
        "colab": {
          "base_uri": "https://localhost:8080/",
          "height": 1000
        },
        "id": "kPdgXydFpR_t",
        "outputId": "80f0fe21-d352-45f4-e096-e4a424429b55"
      },
      "execution_count": 2,
      "outputs": [
        {
          "output_type": "stream",
          "name": "stdout",
          "text": [
            "*********************print Contents of (df1)**********************\n",
            "  product_1  audio_filepath_numeric  duration_numeric\n",
            "0  computer                    1200               4.9\n",
            "1   monitor                     800              10.1\n",
            "2   printer                     200               9.0\n",
            "3      desk                     350               3.7\n",
            "*********************print Contents of (df2)**********************\n",
            "  product_2  path_numeric  gender\n",
            "0  computer          1200    male\n",
            "1   monitor           800  female\n",
            "2   printer           300  female\n",
            "3      desk           150    male\n",
            "*********************print Contents of df1.info()**********************\n",
            "<class 'pandas.core.frame.DataFrame'>\n",
            "RangeIndex: 4 entries, 0 to 3\n",
            "Data columns (total 5 columns):\n",
            " #   Column                  Non-Null Count  Dtype  \n",
            "---  ------                  --------------  -----  \n",
            " 0   product_1               4 non-null      object \n",
            " 1   audio_filepath_numeric  4 non-null      int64  \n",
            " 2   duration_numeric        4 non-null      float64\n",
            " 3   path_numeric            4 non-null      int64  \n",
            " 4   path_match              4 non-null      object \n",
            "dtypes: float64(1), int64(2), object(2)\n",
            "memory usage: 288.0+ bytes\n",
            "None\n",
            "*********************print Contents of path_match**********************\n",
            "  product_1  audio_filepath_numeric  duration_numeric  path_numeric path_match\n",
            "0  computer                    1200               4.9          1200       True\n",
            "1   monitor                     800              10.1           800       True\n",
            "2   printer                     200               9.0           300      False\n",
            "3      desk                     350               3.7           150      False\n",
            "*********************print Contents of gender_from_df2**********************\n",
            "  product_1  audio_filepath_numeric  duration_numeric  path_numeric  \\\n",
            "0  computer                    1200               4.9          1200   \n",
            "1   monitor                     800              10.1           800   \n",
            "2   printer                     200               9.0           300   \n",
            "3      desk                     350               3.7           150   \n",
            "\n",
            "  path_match gender_from_df2  \n",
            "0       True            male  \n",
            "1       True          female  \n",
            "2      False   No_path_match  \n",
            "3      False   No_path_match  \n",
            "*********************print Contents of search**********************\n"
          ]
        },
        {
          "output_type": "display_data",
          "data": {
            "text/plain": [
              "<Figure size 432x288 with 1 Axes>"
            ],
            "image/png": "[encoded data removed]"
          },
          "metadata": {
            "needs_background": "light"
          }
        }
      ]
    },
    {
      "cell_type": "code",
      "source": [],
      "metadata": {
        "id": "ZMg7GvfgFzw2"
      },
      "execution_count": null,
      "outputs": []
    }
  ]
}