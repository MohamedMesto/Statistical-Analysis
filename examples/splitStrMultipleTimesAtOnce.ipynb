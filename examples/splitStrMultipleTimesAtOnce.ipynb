#  How to split a String Multiple Times At Once

audio_file111='/ds/audio/CommonVoiceCorpus10.0/cv-corpus-10.0-2022-07-04/de/clips/common_voice_de_17759960.mp3'

info['audio']=re.split(r'[/|/|.]',audio_file111)[9] 
# reulst of info['audio']
# common_voice_de_17759960
