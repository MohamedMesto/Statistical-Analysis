{
 "cells": [
  {
   "cell_type": "markdown",
   "metadata": {},
   "source": [
    "# Hausaufgabe 2\n",
    "## Ablassung eines Stausees\n",
    "<!-- Lizensiert unter (CC BY 2.0) Gert Herold, 2019 -->\n",
    "\n",
    "Wegen Reparaturarbeiten an der Staumauer einer Talsperre soll das Wasser abgelassen werden. Der See habe ein Fassungsvermögen von $215 \\cdot 10^6\\,\\text{m}^3$. Die Oberfläche des Stausees erstrecke sich über $10\\,\\text{km}^2$. Der Wasserauslass auf Grundhöhe habe einen Querschnitt von $2\\,\\text{m}^2$. Der Fluss selbst werde so umgeleitet, dass kein Wasser in den See nachfließen kann.\n",
    "****************************************************************\n",
    "# Homework 2\n",
    "## Discharge of a reservoir\n",
    "<! - Licensed under (CC BY 2.0) Gert Herold, 2019 ->\n",
    "Because of repair work on the dam of a dam, the water should be drained. The lake has a capacity of $ 215 \\cdot 10 ^ 6 \\, \\text {m} ^ 3 $. The surface of the reservoir is about $ 10 \\, \\text {km} ^ 2 $. The water outlet at ground level has a cross section of $ 2 \\, \\text {m} ^ 2 $. The river itself is diverted so that no water can flow into the lake."
   ]
  },
  {
   "cell_type": "markdown",
   "metadata": {},
   "source": [
    "**1) Es werde angenommen, die Form des Sees lasse sich mit einem umgedrehten [Kegel](https://de.wikipedia.org/wiki/Kegel_(Geometrie)) annähern. Wie tief ist dann der See?** \n",
    "\n",
    "** 1) It is assumed that the shape of the lake can be approximated with an inverted [cone] (https://de.wikipedia.org/wiki/Kegel_ (geometry)). How deep is the lake then? **"
   ]
  },
  {
   "cell_type": "code",
   "execution_count": 2,
   "metadata": {},
   "outputs": [
    {
     "name": "stdout",
     "output_type": "stream",
     "text": [
      "# Hausaufgabe -2-  Teil -1- \n",
      "Beteuer :Gert Herold - Gruppe E :Shadi Kanaan & Mohamed Mesto\n",
      "Ablassung eines Stausees\n",
      "************\n",
      "                                       \n",
      "see_tiefe  = 64.5 m\n"
     ]
    }
   ],
   "source": [
    "\n",
    "print('# Hausaufgabe -2-  Teil -1- ')\n",
    "print('Beteuer :Gert Herold - Gruppe E :Shadi Kanaan & Mohamed Mesto')\n",
    "print('Ablassung eines Stausees')\n",
    "print('************')\n",
    "print('                                       ')\n",
    "\n",
    "\n",
    "# Hier eigenen Code schreiben ...\n",
    "Volume=215*(10**6)\n",
    "Oberfläche=10*(10**6)      #surface\n",
    "Querschnitt=2              #The water outlet\n",
    "see_tiefe=3*Volume/Oberfläche # Deep\n",
    "print('see_tiefe  =',see_tiefe,'m')\n",
    "\n",
    "#print(round(height,2), 'km')\n"
   ]
  },
  {
   "cell_type": "markdown",
   "metadata": {},
   "source": [
    "Vereinfachend werde angenommen, dass die sich ausbildende Strömung sich mithilfe der [Bernoulli-Gleichung](https://de.wikipedia.org/wiki/Bernoulli-Gleichung) beschreiben lasse:\n",
    "\n",
    "$$\n",
    "\\frac{u^2}{2}+\\frac{p}{\\rho}+g \\, z = \\text{const}\n",
    "$$\n",
    "\n",
    "Dabei beschreibt $u$ die Strömungsgeschwindigkeit des Fluids an einer beliebigen betrachteten Stelle, $p$ den hydrodynamischen Druck, $\\rho$ die Dichte und $z$ die Höhe. $g=9{,}81\\frac{\\text{m}}{\\text{s}^2}$ ist die Erdbeschleunigung. Werden nur die Seeoberfläche und der Ausfluss betrachtet, so kann der Druck $p$ ebenfalls als konstant angenommen werden, da er dem Umgebungsdruck entspricht. Ebenso wird die Dichte als konstant angenommen, und die obige Gleichung vereinfacht sich zu \n",
    "\n",
    "$$\n",
    "\\frac{u^2}{2}+g \\, z = \\text{const}\n",
    "$$\n",
    "\n",
    "bzw. für oben und unten:\n",
    "\n",
    "$$\n",
    "\\frac{u_\\text{oben}^2}{2}+g \\, z_\\text{oben} = \\frac{u_\\text{unten}^2}{2}+g \\, z_\\text{unten}\n",
    "$$\n",
    "**********************************************************\n",
    "\n",
    "To simplify, it is assumed that the developing stream can be described using the [Bernoulli equation] (https://en.wikipedia.org/wiki/Bernoulli equation):\n",
    "\n",
    "$$\n",
    "\\frac{u^2}{2}+\\frac{p}{\\rho}+g \\, z = \\text{const}\n",
    "$$\n",
    "\n",
    "$ U $ is the flow velocity of the fluid at any given location, $ p $ hydrodynamic pressure, $ \\rho $ the density, and $ z $ the height. $ g = 9 {,} 81 \\ frac {\\ text {m}} {\\ text {s} ^ 2} $ is the gravitational acceleration. If only the sea surface and the discharge are considered, then the pressure $ p $ can also be assumed to be constant, since it corresponds to the ambient pressure. Likewise, the density is assumed to be constant, and the above equation simplifies\n",
    "\n",
    "$$\n",
    "\\frac{u^2}{2}+g \\, z = \\text{const}\n",
    "$$\n",
    "\n",
    "\n",
    "or for above and below:\n",
    "\n",
    "$$\n",
    "\\frac{u_\\text{oben}^2}{2}+g \\, z_\\text{oben} = \\frac{u_\\text{unten}^2}{2}+g \\, z_\\text{unten}\n",
    "$$"
   ]
  },
  {
   "cell_type": "markdown",
   "metadata": {},
   "source": [
    "\n",
    "**2) Berechnen Sie die sich anfangs ausbildende Strömungsgeschwindigkeit am Ausfluss $u_\\text{unten,0}$ sowie den Volumenstrom $\\dot{V_0}$ unter der Annahme, dass die Bewegung der Seeoberfläche vernachlässigbar ist.**\n",
    "\n",
    "*************************************\n",
    "** 2) Calculate the initially forming flow velocity at the outflow $ u_ \\text {unten, 0} $ and the volume flow $ \\dot {V_0} $, assuming that the movement of the sea surface is negligible **."
   ]
  },
  {
   "cell_type": "code",
   "execution_count": 3,
   "metadata": {},
   "outputs": [
    {
     "name": "stdout",
     "output_type": "stream",
     "text": [
      "# Hausaufgabe -2-  Teil -2- \n",
      "Betreuer :Gert Herold - Gruppe E :Shadi Kanaan & Mohamed Mesto\n",
      "Ablassung eines Stausees\n",
      "************\n",
      "                                       \n",
      "u_unten = 35.57 m/s\n",
      "V_pkt =71.15 m³/s\n"
     ]
    }
   ],
   "source": [
    "print('# Hausaufgabe -2-  Teil -2- ')\n",
    "print('Betreuer :Gert Herold - Gruppe E :Shadi Kanaan & Mohamed Mesto')\n",
    "print('Ablassung eines Stausees')\n",
    "print('************')\n",
    "print('                                       ')\n",
    "import math\n",
    "\n",
    "\n",
    "# Hier eigenen Code schreiben ...\n",
    "u_oben=0                       #Annahme\n",
    "g = 9.81                       # acceleration of gravity    𝑔 = 9,81ms2\n",
    "z_oben=see_tiefe\n",
    "z_unten=0\n",
    "h=z_oben-z_unten\n",
    "u_unten=math.sqrt(2*g*h)\n",
    "\n",
    "\n",
    "V_pkt=u_unten*Querschnitt\n",
    "print ('u_unten = %.2f m/s'%(u_unten))\n",
    "\n",
    "print ('V_pkt =%.2f m\\u00b3/s'%(V_pkt))\n"
   ]
  },
  {
   "cell_type": "markdown",
   "metadata": {},
   "source": [
    "Tipp: Um die Kreiszahl $\\pi$ unter Python verwenden zu können, muss man sie entweder selbst definieren oder z.B. aus dem [NumPy-Modul](https://numpy.org/) importieren. Für ein Beispiel den folgenden Code-Abschnitt öffnen.\n",
    "******************\n",
    "Tip: To use the $ \\pi $ region number in Python, you must either define it yourself or specify it from [NumPy module] (https://numpy.org/). For an example, open the following code section."
   ]
  },
  {
   "cell_type": "markdown",
   "metadata": {},
   "source": [
    "**3) Schreiben Sie eine Funktion, die die Tiefe des \"Kegel\"-Sees allgemein abhängig von der enthaltenen Wassermenge bestimmt.**\n",
    "************************\n",
    "\n",
    "** 3) Write a function that determines the depth of the \"cone\" lake, generally depending on the amount of water contained. **\n",
    "\n",
    "## der Betreuerwird die Fragehier ändern"
   ]
  },
  {
   "cell_type": "code",
   "execution_count": null,
   "metadata": {},
   "outputs": [],
   "source": []
  },
  {
   "cell_type": "markdown",
   "metadata": {},
   "source": [
    "# print('# Hausaufgabe -2-  Teil -3- ')\n",
    "print('Betreuer :Gert Herold - Gruppe E :Shadi Kanaan & Mohamed Mesto')\n",
    "print('Ablassung eines Stausees')\n",
    "print('************')\n",
    "print('                                       ')\n",
    "\n",
    "from numpy import *\n",
    "def tiefe(V):\n",
    "    V_0=Volume\n",
    "    h_0=see_tiefe\n",
    "    V_i=V\n",
    "    #V_0=(1/3)*h_0*(π*r_0**2)\n",
    "    #V_i=(1/3)*h_i*(π*r_i**2)\n",
    "    #c=radius/tiefe                        #Strahlensatz Verhältnis Radius zur Tiefe\n",
    "    #r_0/h_0=r_i/h_i=c => r_0=c*h_0   & r_0=c*h_0\n",
    "    #=>\n",
    "    #V_0=(1/3)*(h_0**3)*(π*c**2)\n",
    "    #V_0=(1/3)*(h_0**3)*(π*c**2)\n",
    "    #V_i=(1/3)*(h_i**3)*(π*c**2)    \n",
    "    #=> V_0/h_0**3=V_i/h_i**3    \n",
    "    #r= int(input('Geben Sie Radius ein:*\n",
    "    #=>  V_0/h_0**3=V_i/h_i**3\n",
    "    h_i=h_0*((V_i/V_0)**(1/3))\n",
    "    \n",
    "    t=h_i\n",
    "    return t\n",
    "\n",
    "\n",
    "V= float(input('Geben Sie Volume ein:'))\n",
    "\n",
    "print ('die Tiefe des \"Kegel\" ist ',tiefe(V), 'm')"
   ]
  },
  {
   "cell_type": "code",
   "execution_count": 6,
   "metadata": {},
   "outputs": [
    {
     "name": "stdout",
     "output_type": "stream",
     "text": [
      "# Hausaufgabe -2-  Teil -4- \n",
      "Betreuer :Gert Herold - Gruppe E :Shadi Kanaan & Mohamed Mesto\n",
      "Ablassung eines Stausees\n",
      "************\n",
      "                                       \n",
      "42\n",
      "([0, 86400, 172800, 259200, 345600, 432000, 518400, 604800, 691200, 777600, 864000, 950400, 1036800, 1123200, 1209600, 1296000, 1382400, 1468800, 1555200, 1641600, 1728000, 1814400, 1900800, 1987200, 2073600, 2160000, 2246400, 2332800, 2419200, 2505600, 2592000, 2678400, 2764800, 2851200, 2937600, 3024000, 3110400, 3196800, 3283200, 3369600, 3456000, 3542400], [64.5, 63.87933264093279, 63.24944725290338, 62.609968874533, 61.96049708581428, 61.30060354855757, 60.629829234634265, 59.9476812923748, 59.25362949189902, 58.547102178383064, 57.827481647712396, 57.094098840868604, 56.346227230736645, 55.583075746454206, 54.803780544153234, 54.00739538652406, 53.192880333728276, 52.35908837018489, 51.504749489209246, 50.628451621273676, 49.728617608700795, 48.80347718086876, 47.85103254139391, 46.86901570002972, 45.854835002559966, 44.805507330859214, 43.71757100143973, 42.586972220569, 41.40891461402769, 40.17765607073667, 38.8862285407464, 37.526041929028544, 36.0863077805645, 34.55317165019391, 32.908352027008014, 31.126894252371965, 29.173219046518703, 26.993563935842076, 24.49976500586412, 21.52802870186105, 17.699671222896075, 11.512746348058284])\n"
     ]
    }
   ],
   "source": [
    "# Hier eigenen Code schreiben ...\n",
    "\n",
    "print('# Hausaufgabe -2-  Teil -4- ')\n",
    "print('Betreuer :Gert Herold - Gruppe E :Shadi Kanaan & Mohamed Mesto')\n",
    "print('Ablassung eines Stausees')\n",
    "print('************')\n",
    "print('                                       ')\n",
    "\n",
    "from numpy import pi\n",
    "\n",
    "\n",
    "Querschnitt=2              #The water outlet\n",
    "\n",
    "\n",
    "                    # Program for computing the height of a ball in vertical motion.\n",
    "                    # v0 = 5\n",
    "                    # initial velocity\n",
    "                    # g = 9.81  # acceleration of gravity\n",
    "                    # t = 0.6   # time\n",
    "                    # y = v0*t - 0.5*g*t**2 # vertical position\n",
    "                    # print(y)\n",
    "\n",
    "dVdt=lambda x:Querschnitt*(2*g*x)**0.5\n",
    "\n",
    "def abfluss(V0,dt):\n",
    "    t_list=[]\n",
    "    h_list=[]\n",
    "    V_mom=V0\n",
    "    while V_mom>0:      #h_list(len(h_list)-1)\n",
    "        h_list+=[tiefe(V_mom)]\n",
    "        if len(h_list)==1: t_list=[0]\n",
    "        else: t_list+=[t_list[len(t_list)-1]+dt]        #t_list[-1]\n",
    "        V_mom-=dVdt(h_list[len(h_list)-1])*dt        #h_list[-1]\n",
    "    return t_list,h_list\n",
    "    \n",
    "    \n",
    "  #  c=radius/see_tiefe                        #Strahlensatz Verhältnis Radius zur Tiefe\n",
    "   \n",
    " \n",
    " \n",
    "print(len(abfluss(215e6,60**2*24*1)[0]))     #3600 sind die Sekunden in einer Stunde und 24 sind die Stunden am Tag, 30 sind die Tage\n",
    "print(abfluss(215e6,3600*24*1))    \n",
    "\n",
    "\n",
    " "
   ]
  },
  {
   "cell_type": "code",
   "execution_count": null,
   "metadata": {},
   "outputs": [],
   "source": []
  },
  {
   "cell_type": "code",
   "execution_count": 7,
   "metadata": {},
   "outputs": [
    {
     "data": {
      "text/plain": [
       "True"
      ]
     },
     "execution_count": 7,
     "metadata": {},
     "output_type": "execute_result"
    }
   ],
   "source": [
    "\n",
    "1e6==1000000\n"
   ]
  },
  {
   "cell_type": "code",
   "execution_count": 8,
   "metadata": {},
   "outputs": [
    {
     "name": "stdout",
     "output_type": "stream",
     "text": [
      "1.2342\n"
     ]
    }
   ],
   "source": [
    "# Program for computing the height of a ball in vertical motion.\n",
    "v0 = 5\n",
    "# initial velocity\n",
    "g = 9.81  # acceleration of gravity\n",
    "t = 0.6   # time\n",
    "y = v0*t - 0.5*g*t**2 # vertical position\n",
    "print(y)"
   ]
  },
  {
   "cell_type": "markdown",
   "metadata": {},
   "source": [
    "**4) Schreiben Sie eine Funktion, die ausgehend von einem Startvolumen $V_0$ und einer gegebenen Zeitschrittweite $\\Delta t$ den diskreten Zeitverlauf der Wassertiefe $h(t)$ bis zur Leerung des Sees zurückgibt. Beachten Sie, dass sich auch der Volumenstrom zeitlich ändert.** *(Hinweis: Die Änderung des Volumens lässt sich annähernd über $V_{n+1}=V_n-\\dot{V_n} \\cdot \\Delta t$ beschreiben.)*\n",
    "\n",
    "**************************************************\n",
    "\n",
    "** 4) Write a function that returns, starting from a start volume $V_0$ and a given time step $ \\Delta t$, the discrete time course of the water depth $h(t)$ until the lake is emptied. Note that the volume flow also changes over time. ** * (Note: The volume change can be approximately described by $V_{n + 1} = V_n-\\dot{V_n} \\cdot \\Delta t$.) *\n",
    "\n",
    "\n",
    "***********************\n",
    "\n",
    "\n",
    "\n",
    "V=13πr2h Differentiate implicitly with respect to t\n",
    "\n",
    "ddt(V)=ddt(13πr2h)=13πddt(r2h)\n",
    "\n",
    "We'll need the product rule on the right.\n",
    "\n",
    "dVdt=13π[2rdrdth+r2dhdt]\n",
    "\n"
   ]
  },
  {
   "cell_type": "code",
   "execution_count": 9,
   "metadata": {},
   "outputs": [
    {
     "data": {
      "text/plain": [
       "'\\n#Hier eigenen Code schreiben ...\\n\\nprint(\\'# Hausaufgabe -2-  Teil -4- \\')\\nprint(\\'Betreuer :Gert Herold - Gruppe E :Shadi Kanaan & Mohamed Mesto\\')\\nprint(\\'Ablassung eines Stausees\\')\\nprint(\\'************\\')\\nprint(\\'                                       \\')\\n\\nfrom numpy import *\\n\\ndef abfluss(V0,dt):\\n    \\n    t_list=[]\\n    h_list=[]\\n    V=V0\\n    zeit=0\\n    \\n    #radius=math.sqrt(surface/pi)\\n    #outlet=2                  #fläche 2 m^2       The water outlet at ground level has a cross section of 2m2\\n    #c=radius/tiefe                        #Strahlensatz Verhältnis Radius zur Tiefe\\n\\n    while V >0:\\n        zeit +=dt\\n        t_list.append(zeit)\\n        \\n        #V_pkt = V*t - 0.5*g*t**2\\n        V-=V_pkt*dt \\n        h=tiefe(V)\\n        h_list.append(h)\\n        \\n        \\n        #tiefe_n= ((3*V0)/(pi*c**2))**(1/3)     \\n        \\n       # v_pkt=auslass*math.sqrt(9.81*tiefe_n*2\\n    return t_list, h_list\\n\\nprint(len(abfluss(215e6,3600*24*1)[0]))     #3600 sind die Sekunden in einer Stunde und 24 sind die Stunden am Tag, 30 sind die Tage\\nprint(abfluss(215e6,3600*24*1))\\n#abfluss((215e6,3600*24*1)[1])\\n###?\\n    #factor = 1/86400\\n    #t_list = [i * factor for i in t_list]\\n\\n\\n    #t_list,h_list\\n\\n#dt= int(input(\\'Geben Sie  Zeitschrittweite Δ𝑡 ein:\\'))\\n#V0= int(input(\\'Geben Sie Startvolumen V0 ein:\\'))\\n#print (\\'die Tiefe des \"Kegel\" ist \\',abfluss(V0, dt,t))\\n'"
      ]
     },
     "execution_count": 9,
     "metadata": {},
     "output_type": "execute_result"
    }
   ],
   "source": [
    "'''\n",
    "#Hier eigenen Code schreiben ...\n",
    "\n",
    "print('# Hausaufgabe -2-  Teil -4- ')\n",
    "print('Betreuer :Gert Herold - Gruppe E :Shadi Kanaan & Mohamed Mesto')\n",
    "print('Ablassung eines Stausees')\n",
    "print('************')\n",
    "print('                                       ')\n",
    "\n",
    "from numpy import *\n",
    "\n",
    "def abfluss(V0,dt):\n",
    "    \n",
    "    t_list=[]\n",
    "    h_list=[]\n",
    "    V=V0\n",
    "    zeit=0\n",
    "    \n",
    "    #radius=math.sqrt(surface/pi)\n",
    "    #outlet=2                  #fläche 2 m^2       The water outlet at ground level has a cross section of 2m2\n",
    "    #c=radius/tiefe                        #Strahlensatz Verhältnis Radius zur Tiefe\n",
    "\n",
    "    while V >0:\n",
    "        zeit +=dt\n",
    "        t_list.append(zeit)\n",
    "        \n",
    "        #V_pkt = V*t - 0.5*g*t**2\n",
    "        V-=V_pkt*dt \n",
    "        h=tiefe(V)\n",
    "        h_list.append(h)\n",
    "        \n",
    "        \n",
    "        #tiefe_n= ((3*V0)/(pi*c**2))**(1/3)     \n",
    "        \n",
    "       # v_pkt=auslass*math.sqrt(9.81*tiefe_n*2\n",
    "    return t_list, h_list\n",
    "\n",
    "print(len(abfluss(215e6,3600*24*1)[0]))     #3600 sind die Sekunden in einer Stunde und 24 sind die Stunden am Tag, 30 sind die Tage\n",
    "print(abfluss(215e6,3600*24*1))\n",
    "#abfluss((215e6,3600*24*1)[1])\n",
    "###?\n",
    "    #factor = 1/86400\n",
    "    #t_list = [i * factor for i in t_list]\n",
    "\n",
    "\n",
    "    #t_list,h_list\n",
    "\n",
    "#dt= int(input('Geben Sie  Zeitschrittweite Δ𝑡 ein:'))\n",
    "#V0= int(input('Geben Sie Startvolumen V0 ein:'))\n",
    "#print ('die Tiefe des \"Kegel\" ist ',abfluss(V0, dt,t))\n",
    "'''"
   ]
  },
  {
   "cell_type": "markdown",
   "metadata": {},
   "source": [
    "**5) Wie lange dauert es, bis der Stausee komplett abgelassen wurde? Plotten Sie den Zeitverlauf der Wassertiefe bis zur Leerung für zwei Zeitschrittweiten:**\n",
    "  * $\\Delta t_1$ = 1 Minute\n",
    "  * $\\Delta t_2$ = 4 Tage\n",
    "\n",
    "**Diskutieren Sie Auffälligkeiten.**\n",
    "\n",
    "*************************************\n",
    "5) How long does it take for the reservoir to be completely drained? Plot the time course of the water depth to emptying for two time steps:\n",
    "\n",
    "  * $\\Delta t_1$ = 1 Minute\n",
    "  * $\\Delta t_2$ = 4 Days\n",
    "\n",
    "Discuss abnormalities."
   ]
  },
  {
   "cell_type": "code",
   "execution_count": null,
   "metadata": {
    "jupyter": {
     "source_hidden": true
    }
   },
   "outputs": [],
   "source": [
    "%matplotlib inline\n",
    "from matplotlib.pyplot import plot, show\n",
    "# Plotbefehl: plot(x_werte_liste, y_werte_liste)\n",
    "# Hier eigenen Code schreiben ...\n",
    "\n",
    "'''    %matplotlib inline\n",
    "    from matplotlib inline: Jupyter Lab: Plots direkt im Notebook anzeigen\n",
    "\n",
    "    from numpy import array, sin, cos, pi, dot, linspace, arange, newaxis, mean\n",
    "    from numpy.random import randn\n",
    "    from matplotlib.pyplot import figure, plot, axis, grid, imshow, show, legend'''\n",
    "\n",
    "#coords = array([[-0.8, -0.8,  0.8,  0.8, -0.8,  0.8, 0., -0.3, -0.3, -0.5, -0.5, -0.8,  0.8],\n",
    "                #[-1. ,  1. ,  1. , -1. , -1. ,  1. , 2.,  1.6,  1.8,  1.8,  1.4,  1. , -1. ]])\n",
    "\n",
    "dt_1=1*60\n",
    "dt_2=1*60*60*24*4\n",
    "\n",
    "V0=215**6\n",
    "\n",
    "t_list1= abfluss(V0,dt_1)[0]\n",
    "\n",
    "h_list1= abfluss(V0,dt_1)[1]\n",
    "\n",
    "\n",
    "t_list2= abfluss(V0,dt_2)[0] \n",
    "h_list2= abfluss(V0,dt_2)[1] \n",
    "\n",
    "plot(t_list1, h_list1)\n",
    "plot(t_list2, h_list2)\n",
    "\n",
    "show()"
   ]
  },
  {
   "cell_type": "markdown",
   "metadata": {},
   "source": [
    "**6) Wiederholen Sie Aufgabenteil 5) unter der Annahme, dass der See bei gleichem Volumen und gleicher Oberfläche annähernd durch einen *Zylinder* beschrieben wird. Vermeiden Sie soweit wie möglich redundanten Code.**\n",
    "******************************************************************************\n",
    "6) Repeat Exercise 5) assuming that the lake is approximately described by a cylinder with the same volume and surface area. Avoid redundant code as much as possible.\n"
   ]
  },
  {
   "cell_type": "code",
   "execution_count": null,
   "metadata": {},
   "outputs": [],
   "source": [
    "# Hier eigenen Code schreiben ...\n",
    "%matplotlib inline\n",
    "from matplotlib.pyplot import plot, show\n",
    "# Plotbefehl: plot(x_werte_liste, y_werte_liste)\n",
    "# Hier eigenen Code schreiben ...\n",
    "\n",
    "'''    %matplotlib inline\n",
    "    from matplotlib inline: Jupyter Lab: Plots direkt im Notebook anzeigen\n",
    "\n",
    "    from numpy import array, sin, cos, pi, dot, linspace, arange, newaxis, mean\n",
    "    from numpy.random import randn\n",
    "    from matplotlib.pyplot import figure, plot, axis, grid, imshow, show, legend'''\n",
    "\n",
    "#coords = array([[-0.8, -0.8,  0.8,  0.8, -0.8,  0.8, 0., -0.3, -0.3, -0.5, -0.5, -0.8,  0.8],\n",
    "                #[-1. ,  1. ,  1. , -1. , -1. ,  1. , 2.,  1.6,  1.8,  1.8,  1.4,  1. , -1. ]])\n",
    "\n",
    "\n",
    "dt_1=1*60\n",
    "dt_2=1*60*60*24*4\n",
    "dt=[dt_1,dt_2]\n",
    "A0=Oberfläche\n",
    "def tiefe(V):\n",
    "    t=V/A0\n",
    "    return t\n",
    "\n",
    "for i in dt:\n",
    "    #x,y in abfluss(V_0,i)\n",
    "    #plot(x,y)\n",
    "    #print(i)\n",
    "    plot(abfluss(V0,i)[0],abfluss(V0,i)[1])\n",
    "show() \n",
    "\n",
    "    #impotr math package to use math.pi for the value of PI \n",
    "  #  import math\n",
    "    #take radius of the base of  a cylinder from user\n",
    "   # r=float(input(\"Enter r of a cylinde\"))\n",
    "    #take height of the curve surface of a cylinder from user\n",
    "   # h=float(input(\"Enter the Height of a cylinde\"))\n",
    "    #calculate the surface area of cylinder\n",
    "   # s_area=2*math.pi*pow(r,2)*h\n",
    "    #calculate the volume of cylinder\n",
    "   # volume=math.pi*pow(r,2)*h\n",
    "   # print(\"surface area of a cylinder wll be %.2f\" %s_area)\n",
    "   # print(\"volume of a cylinder will be  %.2f\" %volume)\n"
   ]
  },
  {
   "cell_type": "code",
   "execution_count": null,
   "metadata": {},
   "outputs": [],
   "source": []
  },
  {
   "cell_type": "code",
   "execution_count": 1,
   "metadata": {},
   "outputs": [
    {
     "name": "stdout",
     "output_type": "stream",
     "text": [
      "10000000.0\n"
     ]
    },
    {
     "data": {
      "text/plain": [
       "1000000"
      ]
     },
     "execution_count": 1,
     "metadata": {},
     "output_type": "execute_result"
    }
   ],
   "source": [
    "print(1e7)\n",
    "10**6\n"
   ]
  },
  {
   "cell_type": "code",
   "execution_count": 5,
   "metadata": {},
   "outputs": [
    {
     "name": "stdout",
     "output_type": "stream",
     "text": [
      "W1= 3\n",
      "W2= 10\n"
     ]
    }
   ],
   "source": [
    "def W1(p1=0):\n",
    "    s1=3+p1\n",
    "    return s1\n",
    "p1=7\n",
    "print('W1=',W1())\n",
    "\n",
    "def W2(p2=0):\n",
    "    s2=W1(p1)+p2\n",
    "    return s2 \n",
    "\n",
    "W1()\n",
    "print('W2=',W2())\n",
    "\n",
    "    "
   ]
  },
  {
   "cell_type": "code",
   "execution_count": 6,
   "metadata": {},
   "outputs": [
    {
     "name": "stdout",
     "output_type": "stream",
     "text": [
      "W2= 10\n",
      "W2= 16\n"
     ]
    }
   ],
   "source": [
    "print('W2=',W2())\n",
    "def W1(p1=0):\n",
    "    s1=9+p1\n",
    "    return s1\n",
    "\n",
    "print('W2=',W2())"
   ]
  },
  {
   "cell_type": "code",
   "execution_count": null,
   "metadata": {},
   "outputs": [],
   "source": []
  }
 ],
 "metadata": {
  "kernelspec": {
   "display_name": "Python 3",
   "language": "python",
   "name": "python3"
  },
  "language_info": {
   "codemirror_mode": {
    "name": "ipython",
    "version": 3
   },
   "file_extension": ".py",
   "mimetype": "text/x-python",
   "name": "python",
   "nbconvert_exporter": "python",
   "pygments_lexer": "ipython3",
   "version": "3.7.3"
  }
 },
 "nbformat": 4,
 "nbformat_minor": 4
}
